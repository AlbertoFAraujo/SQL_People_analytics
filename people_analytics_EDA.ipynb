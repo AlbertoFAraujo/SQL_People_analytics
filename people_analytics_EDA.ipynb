{
    "metadata": {
        "kernelspec": {
            "name": "SQL",
            "display_name": "SQL",
            "language": "sql"
        },
        "language_info": {
            "name": "sql",
            "version": ""
        }
    },
    "nbformat_minor": 2,
    "nbformat": 4,
    "cells": [
        {
            "cell_type": "markdown",
            "source": [
                "# Exploração de dados People Analytics\n",
                "\n",
                "Trata-se de uma base de dados de RH com dados de funcionários ativos e inativos, contemplando informações de <span style=\"color: var(--vscode-foreground);\">Nome, Gênero, Data_Nascimento, Idade, Nível, Escolaridade, Área, Salário, Data_Admissão, Data_Demissão, Contrato, Motivo_Demissão, PCD, tipos de benefícios e status atual. O objetivo desta exploração de dados é responder algumas perguntas de negócios para posteriormente criar um painel de visualização com as métricas estratégicas para tomada de decisão do gestor da área, facilitando a compreensão e análise dos indicadores de forma visual, atrativa e eficiente. As seguintes perguntas de negócios são questionadas:</span>\n",
                "\n",
                "1.   Total de funcionários na empresa ao longo do tempo, ativos e inativos;\n",
                "2. Total de funcionários por genero;\n",
                "3. Frequência de funcionários por idade;\n",
                "4. Distribuição de funcionários por nível hierárquico;\n",
                "5.  Distribuição de funcionários por Escolaridade;\n",
                "6. Distribuição de funcionários por Área da empresa;\n",
                "7. Salário médio por nível hierárquico;\n",
                "8. Despesa total em salários?;\n",
                "9. Quanto é gasto em valor de benefício \"Combustível\"?;\n",
                "10. Qual a média salarial por escolaridade;\n",
                "11. Qual mês obteve o maior percentual de admissões em relação ao anterior?;\n",
                "12. Qual mês obteve o maior percentual de demissões em relação ao anterior?;\n",
                "13. Total de funcionários por tipo de contrato;\n",
                "14. Área vs tipo de contrato e percentual em relação ao total da área;\n",
                "15. Área vs tipo de contrato e percentual em relação ao total da área;\n",
                "16. Total de funcionários afastados ou de férias.\n",
                "\n",
                "<span style=\"color: var(--vscode-foreground);\">Embora o Azure Data Studio gere automaticamente gráficos nos outputs, a ideia desta exploração é apenas responder as questões mencionadas.</span>\n",
                "\n",
                "<span style=\"color: var(--vscode-foreground);\"><b>Obs:</b>&nbsp;Os dados foram gerados de forma sintética com o&nbsp;</span>   [https://www.mockaroo.com/](https:\\www.mockaroo.com\\)"
            ],
            "metadata": {
                "azdata_cell_guid": "15dd130c-c426-4dd0-8974-b8d38b3c9421"
            },
            "attachments": {}
        },
        {
            "cell_type": "code",
            "source": [
                "-- Visualizando a base de dados\r\n",
                "SELECT TOP(10) * FROM baseRH"
            ],
            "metadata": {
                "azdata_cell_guid": "d3da4a0c-cf66-4155-ac79-732ee67e7c3b",
                "language": "sql"
            },
            "outputs": [
                {
                    "output_type": "display_data",
                    "data": {
                        "text/html": "(10 rows affected)"
                    },
                    "metadata": {}
                },
                {
                    "output_type": "display_data",
                    "data": {
                        "text/html": "Total execution time: 00:00:00.068"
                    },
                    "metadata": {}
                },
                {
                    "output_type": "execute_result",
                    "execution_count": 1,
                    "data": {
                        "application/vnd.dataresource+json": {
                            "schema": {
                                "fields": [
                                    {
                                        "name": "Nome"
                                    },
                                    {
                                        "name": "Gênero"
                                    },
                                    {
                                        "name": "Data_Nascimento"
                                    },
                                    {
                                        "name": "Idade"
                                    },
                                    {
                                        "name": "Nível"
                                    },
                                    {
                                        "name": "Escolaridade"
                                    },
                                    {
                                        "name": "Área"
                                    },
                                    {
                                        "name": "Salário"
                                    },
                                    {
                                        "name": "Data_Admissão"
                                    },
                                    {
                                        "name": "Data_Demissão"
                                    },
                                    {
                                        "name": "Contrato"
                                    },
                                    {
                                        "name": "Motivo_Demissão"
                                    },
                                    {
                                        "name": "PCD"
                                    },
                                    {
                                        "name": "Alimentação"
                                    },
                                    {
                                        "name": "Saúde"
                                    },
                                    {
                                        "name": "Odont"
                                    },
                                    {
                                        "name": "Transporte"
                                    },
                                    {
                                        "name": "Creche"
                                    },
                                    {
                                        "name": "Combustível"
                                    },
                                    {
                                        "name": "Benefícios"
                                    },
                                    {
                                        "name": "Mês_admissão"
                                    },
                                    {
                                        "name": "Mês_demissão"
                                    },
                                    {
                                        "name": "Status"
                                    },
                                    {
                                        "name": "Faixa_Idade"
                                    },
                                    {
                                        "name": "Tempo_dias"
                                    },
                                    {
                                        "name": "Faixa_dias"
                                    }
                                ]
                            },
                            "data": [
                                {
                                    "Nome": "Kylie Rame",
                                    "Gênero": "Masculino",
                                    "Data_Nascimento": "1996-03-17",
                                    "Idade": "28",
                                    "Nível": "Supervisor",
                                    "Escolaridade": "Ensino Médio",
                                    "Área": "Financeiro",
                                    "Salário": "7000",
                                    "Data_Admissão": "2019-01-01",
                                    "Data_Demissão": "NULL",
                                    "Contrato": "CLT",
                                    "Motivo_Demissão": "NULL",
                                    "PCD": "NULL",
                                    "Alimentação": "1200",
                                    "Saúde": "1200",
                                    "Odont": "1200",
                                    "Transporte": "1200",
                                    "Creche": "NULL",
                                    "Combustível": "500",
                                    "Benefícios": "5300",
                                    "Mês_admissão": "1",
                                    "Mês_demissão": "-",
                                    "Status": "NULL",
                                    "Faixa_Idade": "24-34",
                                    "Tempo_dias": "364",
                                    "Faixa_dias": "270-364"
                                },
                                {
                                    "Nome": "Dwayne Betun",
                                    "Gênero": "Masculino",
                                    "Data_Nascimento": "1988-02-28",
                                    "Idade": "36",
                                    "Nível": "Gerente",
                                    "Escolaridade": "Pós-graduação",
                                    "Área": "Recursos Humanos",
                                    "Salário": "15000",
                                    "Data_Admissão": "2019-01-02",
                                    "Data_Demissão": "NULL",
                                    "Contrato": "CLT",
                                    "Motivo_Demissão": "NULL",
                                    "PCD": "NULL",
                                    "Alimentação": "1200",
                                    "Saúde": "1200",
                                    "Odont": "1200",
                                    "Transporte": "1200",
                                    "Creche": "NULL",
                                    "Combustível": "500",
                                    "Benefícios": "5300",
                                    "Mês_admissão": "1",
                                    "Mês_demissão": "-",
                                    "Status": "Férias",
                                    "Faixa_Idade": "35-44",
                                    "Tempo_dias": "363",
                                    "Faixa_dias": "270-364"
                                },
                                {
                                    "Nome": "Chrisse Oxbrough",
                                    "Gênero": "Masculino",
                                    "Data_Nascimento": "1988-09-22",
                                    "Idade": "36",
                                    "Nível": "Gerente",
                                    "Escolaridade": "Ensino Superior",
                                    "Área": "Marketing",
                                    "Salário": "15000",
                                    "Data_Admissão": "2019-01-02",
                                    "Data_Demissão": "NULL",
                                    "Contrato": "CLT",
                                    "Motivo_Demissão": "NULL",
                                    "PCD": "NULL",
                                    "Alimentação": "1200",
                                    "Saúde": "1200",
                                    "Odont": "1200",
                                    "Transporte": "1200",
                                    "Creche": "NULL",
                                    "Combustível": "500",
                                    "Benefícios": "5300",
                                    "Mês_admissão": "1",
                                    "Mês_demissão": "-",
                                    "Status": "NULL",
                                    "Faixa_Idade": "35-44",
                                    "Tempo_dias": "363",
                                    "Faixa_dias": "270-364"
                                },
                                {
                                    "Nome": "Kimmy Fardy",
                                    "Gênero": "Feminino",
                                    "Data_Nascimento": "1988-03-14",
                                    "Idade": "36",
                                    "Nível": "Gerente",
                                    "Escolaridade": "Pós-graduação",
                                    "Área": "Produção",
                                    "Salário": "15000",
                                    "Data_Admissão": "2019-01-02",
                                    "Data_Demissão": "NULL",
                                    "Contrato": "CLT",
                                    "Motivo_Demissão": "NULL",
                                    "PCD": "NULL",
                                    "Alimentação": "1200",
                                    "Saúde": "1200",
                                    "Odont": "1200",
                                    "Transporte": "1200",
                                    "Creche": "NULL",
                                    "Combustível": "500",
                                    "Benefícios": "5300",
                                    "Mês_admissão": "1",
                                    "Mês_demissão": "-",
                                    "Status": "NULL",
                                    "Faixa_Idade": "35-44",
                                    "Tempo_dias": "363",
                                    "Faixa_dias": "270-364"
                                },
                                {
                                    "Nome": "Mata Steynor",
                                    "Gênero": "Masculino",
                                    "Data_Nascimento": "1994-06-28",
                                    "Idade": "30",
                                    "Nível": "Analista Sr",
                                    "Escolaridade": "Ensino Técnico",
                                    "Área": "Produção",
                                    "Salário": "5000",
                                    "Data_Admissão": "2019-01-02",
                                    "Data_Demissão": "NULL",
                                    "Contrato": "CLT",
                                    "Motivo_Demissão": "NULL",
                                    "PCD": "NULL",
                                    "Alimentação": "600",
                                    "Saúde": "600",
                                    "Odont": "600",
                                    "Transporte": "600",
                                    "Creche": "NULL",
                                    "Combustível": "500",
                                    "Benefícios": "2900",
                                    "Mês_admissão": "1",
                                    "Mês_demissão": "-",
                                    "Status": "NULL",
                                    "Faixa_Idade": "24-34",
                                    "Tempo_dias": "363",
                                    "Faixa_dias": "270-364"
                                },
                                {
                                    "Nome": "Rivi Ofen",
                                    "Gênero": "Feminino",
                                    "Data_Nascimento": "1981-10-19",
                                    "Idade": "43",
                                    "Nível": "Supervisor",
                                    "Escolaridade": "Ensino Superior",
                                    "Área": "Financeiro",
                                    "Salário": "7000",
                                    "Data_Admissão": "2019-01-03",
                                    "Data_Demissão": "NULL",
                                    "Contrato": "CLT",
                                    "Motivo_Demissão": "NULL",
                                    "PCD": "NULL",
                                    "Alimentação": "1200",
                                    "Saúde": "1200",
                                    "Odont": "1200",
                                    "Transporte": "1200",
                                    "Creche": "NULL",
                                    "Combustível": "500",
                                    "Benefícios": "5300",
                                    "Mês_admissão": "1",
                                    "Mês_demissão": "-",
                                    "Status": "NULL",
                                    "Faixa_Idade": "35-44",
                                    "Tempo_dias": "362",
                                    "Faixa_dias": "270-364"
                                },
                                {
                                    "Nome": "Ross Tutchell",
                                    "Gênero": "Masculino",
                                    "Data_Nascimento": "1991-05-14",
                                    "Idade": "33",
                                    "Nível": "Assistente",
                                    "Escolaridade": "Ensino Médio",
                                    "Área": "Produção",
                                    "Salário": "2500",
                                    "Data_Admissão": "2019-01-03",
                                    "Data_Demissão": "NULL",
                                    "Contrato": "CLT",
                                    "Motivo_Demissão": "NULL",
                                    "PCD": "NULL",
                                    "Alimentação": "600",
                                    "Saúde": "600",
                                    "Odont": "600",
                                    "Transporte": "600",
                                    "Creche": "500",
                                    "Combustível": "NULL",
                                    "Benefícios": "2900",
                                    "Mês_admissão": "1",
                                    "Mês_demissão": "-",
                                    "Status": "NULL",
                                    "Faixa_Idade": "24-34",
                                    "Tempo_dias": "362",
                                    "Faixa_dias": "270-364"
                                },
                                {
                                    "Nome": "Lisa De Antoni",
                                    "Gênero": "Feminino",
                                    "Data_Nascimento": "1961-04-28",
                                    "Idade": "63",
                                    "Nível": "Estagiário",
                                    "Escolaridade": "Ensino Médio",
                                    "Área": "Administração",
                                    "Salário": "1200",
                                    "Data_Admissão": "2019-01-03",
                                    "Data_Demissão": "NULL",
                                    "Contrato": "Estágio",
                                    "Motivo_Demissão": "NULL",
                                    "PCD": "NULL",
                                    "Alimentação": "200",
                                    "Saúde": "200",
                                    "Odont": "200",
                                    "Transporte": "200",
                                    "Creche": "NULL",
                                    "Combustível": "NULL",
                                    "Benefícios": "800",
                                    "Mês_admissão": "1",
                                    "Mês_demissão": "-",
                                    "Status": "NULL",
                                    "Faixa_Idade": "55-64",
                                    "Tempo_dias": "362",
                                    "Faixa_dias": "270-364"
                                },
                                {
                                    "Nome": "Bethena Josephs",
                                    "Gênero": "Feminino",
                                    "Data_Nascimento": "1978-08-08",
                                    "Idade": "46",
                                    "Nível": "Analista Jr",
                                    "Escolaridade": "Ensino Técnico",
                                    "Área": "TI",
                                    "Salário": "3500",
                                    "Data_Admissão": "2019-01-03",
                                    "Data_Demissão": "NULL",
                                    "Contrato": "CLT",
                                    "Motivo_Demissão": "NULL",
                                    "PCD": "NULL",
                                    "Alimentação": "600",
                                    "Saúde": "600",
                                    "Odont": "600",
                                    "Transporte": "600",
                                    "Creche": "NULL",
                                    "Combustível": "NULL",
                                    "Benefícios": "2400",
                                    "Mês_admissão": "1",
                                    "Mês_demissão": "-",
                                    "Status": "NULL",
                                    "Faixa_Idade": "45-54",
                                    "Tempo_dias": "362",
                                    "Faixa_dias": "270-364"
                                },
                                {
                                    "Nome": "Kellia Koppel",
                                    "Gênero": "Feminino",
                                    "Data_Nascimento": "1970-07-19",
                                    "Idade": "54",
                                    "Nível": "Assistente",
                                    "Escolaridade": "Ensino Superior",
                                    "Área": "Recursos Humanos",
                                    "Salário": "2500",
                                    "Data_Admissão": "2019-01-03",
                                    "Data_Demissão": "NULL",
                                    "Contrato": "CLT",
                                    "Motivo_Demissão": "NULL",
                                    "PCD": "NULL",
                                    "Alimentação": "600",
                                    "Saúde": "600",
                                    "Odont": "600",
                                    "Transporte": "600",
                                    "Creche": "NULL",
                                    "Combustível": "NULL",
                                    "Benefícios": "2400",
                                    "Mês_admissão": "1",
                                    "Mês_demissão": "-",
                                    "Status": "NULL",
                                    "Faixa_Idade": "45-54",
                                    "Tempo_dias": "362",
                                    "Faixa_dias": "270-364"
                                }
                            ]
                        },
                        "text/html": "<table><tr><th>Nome</th><th>Gênero</th><th>Data_Nascimento</th><th>Idade</th><th>Nível</th><th>Escolaridade</th><th>Área</th><th>Salário</th><th>Data_Admissão</th><th>Data_Demissão</th><th>Contrato</th><th>Motivo_Demissão</th><th>PCD</th><th>Alimentação</th><th>Saúde</th><th>Odont</th><th>Transporte</th><th>Creche</th><th>Combustível</th><th>Benefícios</th><th>Mês_admissão</th><th>Mês_demissão</th><th>Status</th><th>Faixa_Idade</th><th>Tempo_dias</th><th>Faixa_dias</th></tr><tr><td>Kylie Rame</td><td>Masculino</td><td>1996-03-17</td><td>28</td><td>Supervisor</td><td>Ensino Médio</td><td>Financeiro</td><td>7000</td><td>2019-01-01</td><td>NULL</td><td>CLT</td><td>NULL</td><td>NULL</td><td>1200</td><td>1200</td><td>1200</td><td>1200</td><td>NULL</td><td>500</td><td>5300</td><td>1</td><td>-</td><td>NULL</td><td>24-34</td><td>364</td><td>270-364</td></tr><tr><td>Dwayne Betun</td><td>Masculino</td><td>1988-02-28</td><td>36</td><td>Gerente</td><td>Pós-graduação</td><td>Recursos Humanos</td><td>15000</td><td>2019-01-02</td><td>NULL</td><td>CLT</td><td>NULL</td><td>NULL</td><td>1200</td><td>1200</td><td>1200</td><td>1200</td><td>NULL</td><td>500</td><td>5300</td><td>1</td><td>-</td><td>Férias</td><td>35-44</td><td>363</td><td>270-364</td></tr><tr><td>Chrisse Oxbrough</td><td>Masculino</td><td>1988-09-22</td><td>36</td><td>Gerente</td><td>Ensino Superior</td><td>Marketing</td><td>15000</td><td>2019-01-02</td><td>NULL</td><td>CLT</td><td>NULL</td><td>NULL</td><td>1200</td><td>1200</td><td>1200</td><td>1200</td><td>NULL</td><td>500</td><td>5300</td><td>1</td><td>-</td><td>NULL</td><td>35-44</td><td>363</td><td>270-364</td></tr><tr><td>Kimmy Fardy</td><td>Feminino</td><td>1988-03-14</td><td>36</td><td>Gerente</td><td>Pós-graduação</td><td>Produção</td><td>15000</td><td>2019-01-02</td><td>NULL</td><td>CLT</td><td>NULL</td><td>NULL</td><td>1200</td><td>1200</td><td>1200</td><td>1200</td><td>NULL</td><td>500</td><td>5300</td><td>1</td><td>-</td><td>NULL</td><td>35-44</td><td>363</td><td>270-364</td></tr><tr><td>Mata Steynor</td><td>Masculino</td><td>1994-06-28</td><td>30</td><td>Analista Sr</td><td>Ensino Técnico</td><td>Produção</td><td>5000</td><td>2019-01-02</td><td>NULL</td><td>CLT</td><td>NULL</td><td>NULL</td><td>600</td><td>600</td><td>600</td><td>600</td><td>NULL</td><td>500</td><td>2900</td><td>1</td><td>-</td><td>NULL</td><td>24-34</td><td>363</td><td>270-364</td></tr><tr><td>Rivi Ofen</td><td>Feminino</td><td>1981-10-19</td><td>43</td><td>Supervisor</td><td>Ensino Superior</td><td>Financeiro</td><td>7000</td><td>2019-01-03</td><td>NULL</td><td>CLT</td><td>NULL</td><td>NULL</td><td>1200</td><td>1200</td><td>1200</td><td>1200</td><td>NULL</td><td>500</td><td>5300</td><td>1</td><td>-</td><td>NULL</td><td>35-44</td><td>362</td><td>270-364</td></tr><tr><td>Ross Tutchell</td><td>Masculino</td><td>1991-05-14</td><td>33</td><td>Assistente</td><td>Ensino Médio</td><td>Produção</td><td>2500</td><td>2019-01-03</td><td>NULL</td><td>CLT</td><td>NULL</td><td>NULL</td><td>600</td><td>600</td><td>600</td><td>600</td><td>500</td><td>NULL</td><td>2900</td><td>1</td><td>-</td><td>NULL</td><td>24-34</td><td>362</td><td>270-364</td></tr><tr><td>Lisa De Antoni</td><td>Feminino</td><td>1961-04-28</td><td>63</td><td>Estagiário</td><td>Ensino Médio</td><td>Administração</td><td>1200</td><td>2019-01-03</td><td>NULL</td><td>Estágio</td><td>NULL</td><td>NULL</td><td>200</td><td>200</td><td>200</td><td>200</td><td>NULL</td><td>NULL</td><td>800</td><td>1</td><td>-</td><td>NULL</td><td>55-64</td><td>362</td><td>270-364</td></tr><tr><td>Bethena Josephs</td><td>Feminino</td><td>1978-08-08</td><td>46</td><td>Analista Jr</td><td>Ensino Técnico</td><td>TI</td><td>3500</td><td>2019-01-03</td><td>NULL</td><td>CLT</td><td>NULL</td><td>NULL</td><td>600</td><td>600</td><td>600</td><td>600</td><td>NULL</td><td>NULL</td><td>2400</td><td>1</td><td>-</td><td>NULL</td><td>45-54</td><td>362</td><td>270-364</td></tr><tr><td>Kellia Koppel</td><td>Feminino</td><td>1970-07-19</td><td>54</td><td>Assistente</td><td>Ensino Superior</td><td>Recursos Humanos</td><td>2500</td><td>2019-01-03</td><td>NULL</td><td>CLT</td><td>NULL</td><td>NULL</td><td>600</td><td>600</td><td>600</td><td>600</td><td>NULL</td><td>NULL</td><td>2400</td><td>1</td><td>-</td><td>NULL</td><td>45-54</td><td>362</td><td>270-364</td></tr></table>"
                    },
                    "metadata": {}
                }
            ],
            "execution_count": 1
        },
        {
            "cell_type": "code",
            "source": [
                "-- Total de funcionários na empresa ao longo do tempo, ativos e inativos\r\n",
                "DECLARE @funcionarios_ativos INT = (SELECT COUNT(*) FROM baseRH WHERE Data_Demissão IS NOT NULL)\r\n",
                "DECLARE @funcionarios_inativos INT = (SELECT COUNT(*) FROM baseRH WHERE Data_Demissão IS NULL)\r\n",
                "\r\n",
                "SELECT  \r\n",
                "    COUNT(*) AS Total_histórico,\r\n",
                "    @funcionarios_ativos AS Ativos,\r\n",
                "    FORMAT(1.0 * @funcionarios_ativos/COUNT(*), '0.00%') AS Percentual_Ativos,\r\n",
                "    @funcionarios_inativos AS Inativos,\r\n",
                "    FORMAT(1.0 * @funcionarios_inativos/COUNT(*), '0.00%') AS Percentual_Inativos\r\n",
                "FROM baseRH"
            ],
            "metadata": {
                "language": "sql",
                "azdata_cell_guid": "75599815-4d13-4d0c-92cc-1e7d6741b059"
            },
            "outputs": [],
            "execution_count": null
        },
        {
            "cell_type": "code",
            "source": [
                ""
            ],
            "metadata": {
                "azdata_cell_guid": "dfbdd3c7-0d0c-4c24-97fa-cad9e2a5cc41",
                "language": "sql"
            },
            "outputs": [],
            "execution_count": null
        },
        {
            "cell_type": "code",
            "source": [
                ""
            ],
            "metadata": {
                "azdata_cell_guid": "edd930bf-11d6-42e8-9507-8eb9de9ccfbf",
                "language": "sql"
            },
            "outputs": [],
            "execution_count": null
        },
        {
            "cell_type": "code",
            "source": [
                ""
            ],
            "metadata": {
                "language": "sql",
                "azdata_cell_guid": "c11b7d34-c2b8-40c8-b0af-66690a63f7a5"
            },
            "outputs": [],
            "execution_count": null
        },
        {
            "cell_type": "code",
            "source": [
                ""
            ],
            "metadata": {
                "language": "sql",
                "azdata_cell_guid": "6fa14dd9-031d-43f0-a451-b7d2624f3c19"
            },
            "outputs": [],
            "execution_count": null
        },
        {
            "cell_type": "code",
            "source": [
                ""
            ],
            "metadata": {
                "language": "sql",
                "azdata_cell_guid": "6fd05937-69fa-4275-a227-ad5d5022b76d"
            },
            "outputs": [],
            "execution_count": null
        },
        {
            "cell_type": "code",
            "source": [
                ""
            ],
            "metadata": {
                "language": "sql",
                "azdata_cell_guid": "e011eb6f-3a66-4aba-a5a1-81c32242953e"
            },
            "outputs": [],
            "execution_count": null
        }
    ]
}