{
    "metadata": {
        "kernelspec": {
            "name": "SQL",
            "display_name": "SQL",
            "language": "sql"
        },
        "language_info": {
            "name": "sql",
            "version": ""
        }
    },
    "nbformat_minor": 2,
    "nbformat": 4,
    "cells": [
        {
            "cell_type": "markdown",
            "source": [
                "- Total de funcionários da empresa ok\n",
                "- Total de funcionários por gênero ok \n",
                "- Frequência de funcionários por idade; ok\n",
                "- Frequência de funcionários por faixa de idade;\n",
                "- Distribuição de funcionários por nível hierárquico\n",
                "- Distribuição de funcionários por Escolaridade\n",
                "- Disitribuição de funcionários por Área da empresa\n",
                "- Salário médio por nível hierárquico\n",
                "- Salário médio por Escolaridade\n",
                "- Quantidade de funcionários por mês de admissão (MoM) e percentual total\n",
                "- Qual mês obteve o maior índice de crescimento de admissões?\n",
                "- Quantidade de funcionários demitidos por mês (MoM) e percentual total\n",
                "- Quantidade de funcionários por Tipo de contrato\n",
                "- Relação de áreas vs tipo de contrato\n",
                "- Somatório dos benefícios\n",
                "- Quantidade de funcionários em férias, afastados, licenças"
            ],
            "metadata": {
                "language": "sql",
                "azdata_cell_guid": "adebb9ce-5ad4-4606-87bb-c7b945d111f3"
            },
            "attachments": {}
        },
        {
            "cell_type": "code",
            "source": [
                "-- Visualizando a base de dados\r\n",
                "SELECT TOP(10) * FROM baseRH"
            ],
            "metadata": {
                "azdata_cell_guid": "f5c4f762-ff98-4a15-8a6a-37a83d09cc49",
                "language": "sql",
                "tags": []
            },
            "outputs": [
                {
                    "output_type": "display_data",
                    "data": {
                        "text/html": "(10 rows affected)"
                    },
                    "metadata": {}
                },
                {
                    "output_type": "display_data",
                    "data": {
                        "text/html": "Total execution time: 00:00:00.077"
                    },
                    "metadata": {}
                },
                {
                    "output_type": "execute_result",
                    "execution_count": 1,
                    "data": {
                        "application/vnd.dataresource+json": {
                            "schema": {
                                "fields": [
                                    {
                                        "name": "Nome"
                                    },
                                    {
                                        "name": "Gênero"
                                    },
                                    {
                                        "name": "Data_Nascimento"
                                    },
                                    {
                                        "name": "Idade"
                                    },
                                    {
                                        "name": "Nível"
                                    },
                                    {
                                        "name": "Escolaridade"
                                    },
                                    {
                                        "name": "Área"
                                    },
                                    {
                                        "name": "Salário"
                                    },
                                    {
                                        "name": "Data_Admissão"
                                    },
                                    {
                                        "name": "Data_Demissão"
                                    },
                                    {
                                        "name": "Contrato"
                                    },
                                    {
                                        "name": "Motivo_Demissão"
                                    },
                                    {
                                        "name": "PCD"
                                    },
                                    {
                                        "name": "Alimentação"
                                    },
                                    {
                                        "name": "Saúde"
                                    },
                                    {
                                        "name": "Odont"
                                    },
                                    {
                                        "name": "Transporte"
                                    },
                                    {
                                        "name": "Creche"
                                    },
                                    {
                                        "name": "Combustível"
                                    },
                                    {
                                        "name": "Benefícios"
                                    },
                                    {
                                        "name": "Mês_admissão"
                                    },
                                    {
                                        "name": "Mês_demissão"
                                    },
                                    {
                                        "name": "Status"
                                    },
                                    {
                                        "name": "Faixa_Idade"
                                    },
                                    {
                                        "name": "Tempo_dias"
                                    },
                                    {
                                        "name": "Faixa_dias"
                                    }
                                ]
                            },
                            "data": [
                                {
                                    "Nome": "Kylie Rame",
                                    "Gênero": "Masculino",
                                    "Data_Nascimento": "1996-03-17",
                                    "Idade": "28",
                                    "Nível": "Supervisor",
                                    "Escolaridade": "Ensino Médio",
                                    "Área": "Financeiro",
                                    "Salário": "7000",
                                    "Data_Admissão": "2019-01-01",
                                    "Data_Demissão": "NULL",
                                    "Contrato": "CLT",
                                    "Motivo_Demissão": "NULL",
                                    "PCD": "NULL",
                                    "Alimentação": "1200",
                                    "Saúde": "1200",
                                    "Odont": "1200",
                                    "Transporte": "1200",
                                    "Creche": "NULL",
                                    "Combustível": "500",
                                    "Benefícios": "5300",
                                    "Mês_admissão": "1",
                                    "Mês_demissão": "-",
                                    "Status": "NULL",
                                    "Faixa_Idade": "24-34",
                                    "Tempo_dias": "364",
                                    "Faixa_dias": "270-364"
                                },
                                {
                                    "Nome": "Dwayne Betun",
                                    "Gênero": "Masculino",
                                    "Data_Nascimento": "1988-02-28",
                                    "Idade": "36",
                                    "Nível": "Gerente",
                                    "Escolaridade": "Pós-graduação",
                                    "Área": "Recursos Humanos",
                                    "Salário": "15000",
                                    "Data_Admissão": "2019-01-02",
                                    "Data_Demissão": "NULL",
                                    "Contrato": "CLT",
                                    "Motivo_Demissão": "NULL",
                                    "PCD": "NULL",
                                    "Alimentação": "1200",
                                    "Saúde": "1200",
                                    "Odont": "1200",
                                    "Transporte": "1200",
                                    "Creche": "NULL",
                                    "Combustível": "500",
                                    "Benefícios": "5300",
                                    "Mês_admissão": "1",
                                    "Mês_demissão": "-",
                                    "Status": "Férias",
                                    "Faixa_Idade": "35-44",
                                    "Tempo_dias": "363",
                                    "Faixa_dias": "270-364"
                                },
                                {
                                    "Nome": "Chrisse Oxbrough",
                                    "Gênero": "Masculino",
                                    "Data_Nascimento": "1988-09-22",
                                    "Idade": "36",
                                    "Nível": "Gerente",
                                    "Escolaridade": "Ensino Superior",
                                    "Área": "Marketing",
                                    "Salário": "15000",
                                    "Data_Admissão": "2019-01-02",
                                    "Data_Demissão": "NULL",
                                    "Contrato": "CLT",
                                    "Motivo_Demissão": "NULL",
                                    "PCD": "NULL",
                                    "Alimentação": "1200",
                                    "Saúde": "1200",
                                    "Odont": "1200",
                                    "Transporte": "1200",
                                    "Creche": "NULL",
                                    "Combustível": "500",
                                    "Benefícios": "5300",
                                    "Mês_admissão": "1",
                                    "Mês_demissão": "-",
                                    "Status": "NULL",
                                    "Faixa_Idade": "35-44",
                                    "Tempo_dias": "363",
                                    "Faixa_dias": "270-364"
                                },
                                {
                                    "Nome": "Kimmy Fardy",
                                    "Gênero": "Feminino",
                                    "Data_Nascimento": "1988-03-14",
                                    "Idade": "36",
                                    "Nível": "Gerente",
                                    "Escolaridade": "Pós-graduação",
                                    "Área": "Produção",
                                    "Salário": "15000",
                                    "Data_Admissão": "2019-01-02",
                                    "Data_Demissão": "NULL",
                                    "Contrato": "CLT",
                                    "Motivo_Demissão": "NULL",
                                    "PCD": "NULL",
                                    "Alimentação": "1200",
                                    "Saúde": "1200",
                                    "Odont": "1200",
                                    "Transporte": "1200",
                                    "Creche": "NULL",
                                    "Combustível": "500",
                                    "Benefícios": "5300",
                                    "Mês_admissão": "1",
                                    "Mês_demissão": "-",
                                    "Status": "NULL",
                                    "Faixa_Idade": "35-44",
                                    "Tempo_dias": "363",
                                    "Faixa_dias": "270-364"
                                },
                                {
                                    "Nome": "Mata Steynor",
                                    "Gênero": "Masculino",
                                    "Data_Nascimento": "1994-06-28",
                                    "Idade": "30",
                                    "Nível": "Analista Sr",
                                    "Escolaridade": "Ensino Técnico",
                                    "Área": "Produção",
                                    "Salário": "5000",
                                    "Data_Admissão": "2019-01-02",
                                    "Data_Demissão": "NULL",
                                    "Contrato": "CLT",
                                    "Motivo_Demissão": "NULL",
                                    "PCD": "NULL",
                                    "Alimentação": "600",
                                    "Saúde": "600",
                                    "Odont": "600",
                                    "Transporte": "600",
                                    "Creche": "NULL",
                                    "Combustível": "500",
                                    "Benefícios": "2900",
                                    "Mês_admissão": "1",
                                    "Mês_demissão": "-",
                                    "Status": "NULL",
                                    "Faixa_Idade": "24-34",
                                    "Tempo_dias": "363",
                                    "Faixa_dias": "270-364"
                                },
                                {
                                    "Nome": "Rivi Ofen",
                                    "Gênero": "Feminino",
                                    "Data_Nascimento": "1981-10-19",
                                    "Idade": "43",
                                    "Nível": "Supervisor",
                                    "Escolaridade": "Ensino Superior",
                                    "Área": "Financeiro",
                                    "Salário": "7000",
                                    "Data_Admissão": "2019-01-03",
                                    "Data_Demissão": "NULL",
                                    "Contrato": "CLT",
                                    "Motivo_Demissão": "NULL",
                                    "PCD": "NULL",
                                    "Alimentação": "1200",
                                    "Saúde": "1200",
                                    "Odont": "1200",
                                    "Transporte": "1200",
                                    "Creche": "NULL",
                                    "Combustível": "500",
                                    "Benefícios": "5300",
                                    "Mês_admissão": "1",
                                    "Mês_demissão": "-",
                                    "Status": "NULL",
                                    "Faixa_Idade": "35-44",
                                    "Tempo_dias": "362",
                                    "Faixa_dias": "270-364"
                                },
                                {
                                    "Nome": "Ross Tutchell",
                                    "Gênero": "Masculino",
                                    "Data_Nascimento": "1991-05-14",
                                    "Idade": "33",
                                    "Nível": "Assistente",
                                    "Escolaridade": "Ensino Médio",
                                    "Área": "Produção",
                                    "Salário": "2500",
                                    "Data_Admissão": "2019-01-03",
                                    "Data_Demissão": "NULL",
                                    "Contrato": "CLT",
                                    "Motivo_Demissão": "NULL",
                                    "PCD": "NULL",
                                    "Alimentação": "600",
                                    "Saúde": "600",
                                    "Odont": "600",
                                    "Transporte": "600",
                                    "Creche": "500",
                                    "Combustível": "NULL",
                                    "Benefícios": "2900",
                                    "Mês_admissão": "1",
                                    "Mês_demissão": "-",
                                    "Status": "NULL",
                                    "Faixa_Idade": "24-34",
                                    "Tempo_dias": "362",
                                    "Faixa_dias": "270-364"
                                },
                                {
                                    "Nome": "Lisa De Antoni",
                                    "Gênero": "Feminino",
                                    "Data_Nascimento": "1961-04-28",
                                    "Idade": "63",
                                    "Nível": "Estagiário",
                                    "Escolaridade": "Ensino Médio",
                                    "Área": "Administração",
                                    "Salário": "1200",
                                    "Data_Admissão": "2019-01-03",
                                    "Data_Demissão": "NULL",
                                    "Contrato": "Estágio",
                                    "Motivo_Demissão": "NULL",
                                    "PCD": "NULL",
                                    "Alimentação": "200",
                                    "Saúde": "200",
                                    "Odont": "200",
                                    "Transporte": "200",
                                    "Creche": "NULL",
                                    "Combustível": "NULL",
                                    "Benefícios": "800",
                                    "Mês_admissão": "1",
                                    "Mês_demissão": "-",
                                    "Status": "NULL",
                                    "Faixa_Idade": "55-64",
                                    "Tempo_dias": "362",
                                    "Faixa_dias": "270-364"
                                },
                                {
                                    "Nome": "Bethena Josephs",
                                    "Gênero": "Feminino",
                                    "Data_Nascimento": "1978-08-08",
                                    "Idade": "46",
                                    "Nível": "Analista Jr",
                                    "Escolaridade": "Ensino Técnico",
                                    "Área": "TI",
                                    "Salário": "3500",
                                    "Data_Admissão": "2019-01-03",
                                    "Data_Demissão": "NULL",
                                    "Contrato": "CLT",
                                    "Motivo_Demissão": "NULL",
                                    "PCD": "NULL",
                                    "Alimentação": "600",
                                    "Saúde": "600",
                                    "Odont": "600",
                                    "Transporte": "600",
                                    "Creche": "NULL",
                                    "Combustível": "NULL",
                                    "Benefícios": "2400",
                                    "Mês_admissão": "1",
                                    "Mês_demissão": "-",
                                    "Status": "NULL",
                                    "Faixa_Idade": "45-54",
                                    "Tempo_dias": "362",
                                    "Faixa_dias": "270-364"
                                },
                                {
                                    "Nome": "Kellia Koppel",
                                    "Gênero": "Feminino",
                                    "Data_Nascimento": "1970-07-19",
                                    "Idade": "54",
                                    "Nível": "Assistente",
                                    "Escolaridade": "Ensino Superior",
                                    "Área": "Recursos Humanos",
                                    "Salário": "2500",
                                    "Data_Admissão": "2019-01-03",
                                    "Data_Demissão": "NULL",
                                    "Contrato": "CLT",
                                    "Motivo_Demissão": "NULL",
                                    "PCD": "NULL",
                                    "Alimentação": "600",
                                    "Saúde": "600",
                                    "Odont": "600",
                                    "Transporte": "600",
                                    "Creche": "NULL",
                                    "Combustível": "NULL",
                                    "Benefícios": "2400",
                                    "Mês_admissão": "1",
                                    "Mês_demissão": "-",
                                    "Status": "NULL",
                                    "Faixa_Idade": "45-54",
                                    "Tempo_dias": "362",
                                    "Faixa_dias": "270-364"
                                }
                            ]
                        },
                        "text/html": "<table><tr><th>Nome</th><th>Gênero</th><th>Data_Nascimento</th><th>Idade</th><th>Nível</th><th>Escolaridade</th><th>Área</th><th>Salário</th><th>Data_Admissão</th><th>Data_Demissão</th><th>Contrato</th><th>Motivo_Demissão</th><th>PCD</th><th>Alimentação</th><th>Saúde</th><th>Odont</th><th>Transporte</th><th>Creche</th><th>Combustível</th><th>Benefícios</th><th>Mês_admissão</th><th>Mês_demissão</th><th>Status</th><th>Faixa_Idade</th><th>Tempo_dias</th><th>Faixa_dias</th></tr><tr><td>Kylie Rame</td><td>Masculino</td><td>1996-03-17</td><td>28</td><td>Supervisor</td><td>Ensino Médio</td><td>Financeiro</td><td>7000</td><td>2019-01-01</td><td>NULL</td><td>CLT</td><td>NULL</td><td>NULL</td><td>1200</td><td>1200</td><td>1200</td><td>1200</td><td>NULL</td><td>500</td><td>5300</td><td>1</td><td>-</td><td>NULL</td><td>24-34</td><td>364</td><td>270-364</td></tr><tr><td>Dwayne Betun</td><td>Masculino</td><td>1988-02-28</td><td>36</td><td>Gerente</td><td>Pós-graduação</td><td>Recursos Humanos</td><td>15000</td><td>2019-01-02</td><td>NULL</td><td>CLT</td><td>NULL</td><td>NULL</td><td>1200</td><td>1200</td><td>1200</td><td>1200</td><td>NULL</td><td>500</td><td>5300</td><td>1</td><td>-</td><td>Férias</td><td>35-44</td><td>363</td><td>270-364</td></tr><tr><td>Chrisse Oxbrough</td><td>Masculino</td><td>1988-09-22</td><td>36</td><td>Gerente</td><td>Ensino Superior</td><td>Marketing</td><td>15000</td><td>2019-01-02</td><td>NULL</td><td>CLT</td><td>NULL</td><td>NULL</td><td>1200</td><td>1200</td><td>1200</td><td>1200</td><td>NULL</td><td>500</td><td>5300</td><td>1</td><td>-</td><td>NULL</td><td>35-44</td><td>363</td><td>270-364</td></tr><tr><td>Kimmy Fardy</td><td>Feminino</td><td>1988-03-14</td><td>36</td><td>Gerente</td><td>Pós-graduação</td><td>Produção</td><td>15000</td><td>2019-01-02</td><td>NULL</td><td>CLT</td><td>NULL</td><td>NULL</td><td>1200</td><td>1200</td><td>1200</td><td>1200</td><td>NULL</td><td>500</td><td>5300</td><td>1</td><td>-</td><td>NULL</td><td>35-44</td><td>363</td><td>270-364</td></tr><tr><td>Mata Steynor</td><td>Masculino</td><td>1994-06-28</td><td>30</td><td>Analista Sr</td><td>Ensino Técnico</td><td>Produção</td><td>5000</td><td>2019-01-02</td><td>NULL</td><td>CLT</td><td>NULL</td><td>NULL</td><td>600</td><td>600</td><td>600</td><td>600</td><td>NULL</td><td>500</td><td>2900</td><td>1</td><td>-</td><td>NULL</td><td>24-34</td><td>363</td><td>270-364</td></tr><tr><td>Rivi Ofen</td><td>Feminino</td><td>1981-10-19</td><td>43</td><td>Supervisor</td><td>Ensino Superior</td><td>Financeiro</td><td>7000</td><td>2019-01-03</td><td>NULL</td><td>CLT</td><td>NULL</td><td>NULL</td><td>1200</td><td>1200</td><td>1200</td><td>1200</td><td>NULL</td><td>500</td><td>5300</td><td>1</td><td>-</td><td>NULL</td><td>35-44</td><td>362</td><td>270-364</td></tr><tr><td>Ross Tutchell</td><td>Masculino</td><td>1991-05-14</td><td>33</td><td>Assistente</td><td>Ensino Médio</td><td>Produção</td><td>2500</td><td>2019-01-03</td><td>NULL</td><td>CLT</td><td>NULL</td><td>NULL</td><td>600</td><td>600</td><td>600</td><td>600</td><td>500</td><td>NULL</td><td>2900</td><td>1</td><td>-</td><td>NULL</td><td>24-34</td><td>362</td><td>270-364</td></tr><tr><td>Lisa De Antoni</td><td>Feminino</td><td>1961-04-28</td><td>63</td><td>Estagiário</td><td>Ensino Médio</td><td>Administração</td><td>1200</td><td>2019-01-03</td><td>NULL</td><td>Estágio</td><td>NULL</td><td>NULL</td><td>200</td><td>200</td><td>200</td><td>200</td><td>NULL</td><td>NULL</td><td>800</td><td>1</td><td>-</td><td>NULL</td><td>55-64</td><td>362</td><td>270-364</td></tr><tr><td>Bethena Josephs</td><td>Feminino</td><td>1978-08-08</td><td>46</td><td>Analista Jr</td><td>Ensino Técnico</td><td>TI</td><td>3500</td><td>2019-01-03</td><td>NULL</td><td>CLT</td><td>NULL</td><td>NULL</td><td>600</td><td>600</td><td>600</td><td>600</td><td>NULL</td><td>NULL</td><td>2400</td><td>1</td><td>-</td><td>NULL</td><td>45-54</td><td>362</td><td>270-364</td></tr><tr><td>Kellia Koppel</td><td>Feminino</td><td>1970-07-19</td><td>54</td><td>Assistente</td><td>Ensino Superior</td><td>Recursos Humanos</td><td>2500</td><td>2019-01-03</td><td>NULL</td><td>CLT</td><td>NULL</td><td>NULL</td><td>600</td><td>600</td><td>600</td><td>600</td><td>NULL</td><td>NULL</td><td>2400</td><td>1</td><td>-</td><td>NULL</td><td>45-54</td><td>362</td><td>270-364</td></tr></table>"
                    },
                    "metadata": {}
                }
            ],
            "execution_count": 1
        },
        {
            "cell_type": "code",
            "source": [
                "-- Total de funcionários na empresa ao longo do tempo, ativos e inativos\r\n",
                "DECLARE @funcionarios_ativos INT = (SELECT COUNT(*) FROM baseRH WHERE Data_Demissão IS NOT NULL)\r\n",
                "DECLARE @funcionarios_inativos INT = (SELECT COUNT(*) FROM baseRH WHERE Data_Demissão IS NULL)\r\n",
                "\r\n",
                "SELECT  \r\n",
                "    COUNT(*) AS Total_histórico,\r\n",
                "    @funcionarios_ativos AS Ativos,\r\n",
                "    FORMAT(1.0 * @funcionarios_ativos/COUNT(*), '0.00%') AS Percentual_Ativos,\r\n",
                "    @funcionarios_inativos AS Inativos,\r\n",
                "    FORMAT(1.0 * @funcionarios_inativos/COUNT(*), '0.00%') AS Percentual_Inativos\r\n",
                "FROM baseRH"
            ],
            "metadata": {
                "language": "sql",
                "azdata_cell_guid": "6ea20270-1c2b-46fa-8c61-6a7c456d6e84",
                "tags": []
            },
            "outputs": [
                {
                    "output_type": "display_data",
                    "data": {
                        "text/html": "(1 row affected)"
                    },
                    "metadata": {}
                },
                {
                    "output_type": "display_data",
                    "data": {
                        "text/html": "Total execution time: 00:00:00.014"
                    },
                    "metadata": {}
                },
                {
                    "output_type": "execute_result",
                    "execution_count": 24,
                    "data": {
                        "application/vnd.dataresource+json": {
                            "schema": {
                                "fields": [
                                    {
                                        "name": "Total_histórico"
                                    },
                                    {
                                        "name": "Ativos"
                                    },
                                    {
                                        "name": "Percentual_Ativos"
                                    },
                                    {
                                        "name": "Inativos"
                                    },
                                    {
                                        "name": "Percentual_Inativos"
                                    }
                                ]
                            },
                            "data": [
                                {
                                    "Total_histórico": "1000",
                                    "Ativos": "71",
                                    "Percentual_Ativos": "7,10%",
                                    "Inativos": "929",
                                    "Percentual_Inativos": "92,90%"
                                }
                            ]
                        },
                        "text/html": "<table><tr><th>Total_histórico</th><th>Ativos</th><th>Percentual_Ativos</th><th>Inativos</th><th>Percentual_Inativos</th></tr><tr><td>1000</td><td>71</td><td>7,10%</td><td>929</td><td>92,90%</td></tr></table>"
                    },
                    "metadata": {}
                }
            ],
            "execution_count": 24
        },
        {
            "cell_type": "code",
            "source": [
                "CREATE VIEW baseRH_ativos AS\r\n",
                "(\r\n",
                "    SELECT  \r\n",
                "        *\r\n",
                "    FROM baseRH\r\n",
                "    WHERE Data_Demissão IS NULL\r\n",
                ")"
            ],
            "metadata": {
                "language": "sql",
                "azdata_cell_guid": "a1e3714a-eb7f-4bbc-96c6-e5a609f790b2",
                "tags": []
            },
            "outputs": [
                {
                    "output_type": "display_data",
                    "data": {
                        "text/html": "Commands completed successfully."
                    },
                    "metadata": {}
                },
                {
                    "output_type": "display_data",
                    "data": {
                        "text/html": "Total execution time: 00:00:00.009"
                    },
                    "metadata": {}
                }
            ],
            "execution_count": 36
        },
        {
            "cell_type": "code",
            "source": [
                "-- Total de funcionários por genero\r\n",
                "DECLARE @Total_funcionarios INT = (SELECT COUNT(*) FROM baseRH_ativos)\r\n",
                "\r\n",
                "SELECT\r\n",
                "    Gênero,\r\n",
                "    COUNT(*) AS Total,\r\n",
                "    FORMAT(1.0 * COUNT(*)/@Total_funcionarios, '0.00%') AS Percentual\r\n",
                "FROM baseRH_ativos\r\n",
                "GROUP BY Gênero"
            ],
            "metadata": {
                "language": "sql",
                "azdata_cell_guid": "cd2d8f5e-8f31-4000-b3a2-3ea37a7d303b"
            },
            "outputs": [
                {
                    "output_type": "display_data",
                    "data": {
                        "text/html": "(2 rows affected)"
                    },
                    "metadata": {}
                },
                {
                    "output_type": "display_data",
                    "data": {
                        "text/html": "Total execution time: 00:00:00.012"
                    },
                    "metadata": {}
                },
                {
                    "output_type": "execute_result",
                    "execution_count": 39,
                    "data": {
                        "application/vnd.dataresource+json": {
                            "schema": {
                                "fields": [
                                    {
                                        "name": "Gênero"
                                    },
                                    {
                                        "name": "Total"
                                    },
                                    {
                                        "name": "Percentual"
                                    }
                                ]
                            },
                            "data": [
                                {
                                    "Gênero": "Masculino",
                                    "Total": "468",
                                    "Percentual": "50,38%"
                                },
                                {
                                    "Gênero": "Feminino",
                                    "Total": "461",
                                    "Percentual": "49,62%"
                                }
                            ]
                        },
                        "text/html": "<table><tr><th>Gênero</th><th>Total</th><th>Percentual</th></tr><tr><td>Masculino</td><td>468</td><td>50,38%</td></tr><tr><td>Feminino</td><td>461</td><td>49,62%</td></tr></table>"
                    },
                    "metadata": {}
                }
            ],
            "execution_count": 39
        },
        {
            "cell_type": "code",
            "source": [
                "-- Frequência de funcionários por idade\r\n",
                "DECLARE @Total_funcionarios INT = (SELECT COUNT(*) FROM baseRH_ativos)\r\n",
                "\r\n",
                "SELECT\r\n",
                "    Faixa_Idade,\r\n",
                "    COUNT(*) AS Total,\r\n",
                "    FORMAT(1.0 * COUNT(*)/@Total_funcionarios, '0.00%') AS Percentual\r\n",
                "FROM baseRH_ativos\r\n",
                "GROUP BY Faixa_Idade"
            ],
            "metadata": {
                "azdata_cell_guid": "92c14e00-0758-4e2c-b482-e6604b589019",
                "language": "sql"
            },
            "outputs": [
                {
                    "output_type": "display_data",
                    "data": {
                        "text/html": "(4 rows affected)"
                    },
                    "metadata": {}
                },
                {
                    "output_type": "display_data",
                    "data": {
                        "text/html": "Total execution time: 00:00:00.015"
                    },
                    "metadata": {}
                },
                {
                    "output_type": "execute_result",
                    "execution_count": 41,
                    "data": {
                        "application/vnd.dataresource+json": {
                            "schema": {
                                "fields": [
                                    {
                                        "name": "Faixa_Idade"
                                    },
                                    {
                                        "name": "Total"
                                    },
                                    {
                                        "name": "Percentual"
                                    }
                                ]
                            },
                            "data": [
                                {
                                    "Faixa_Idade": "24-34",
                                    "Total": "235",
                                    "Percentual": "25,30%"
                                },
                                {
                                    "Faixa_Idade": "35-44",
                                    "Total": "237",
                                    "Percentual": "25,51%"
                                },
                                {
                                    "Faixa_Idade": "45-54",
                                    "Total": "232",
                                    "Percentual": "24,97%"
                                },
                                {
                                    "Faixa_Idade": "55-64",
                                    "Total": "225",
                                    "Percentual": "24,22%"
                                }
                            ]
                        },
                        "text/html": "<table><tr><th>Faixa_Idade</th><th>Total</th><th>Percentual</th></tr><tr><td>24-34</td><td>235</td><td>25,30%</td></tr><tr><td>35-44</td><td>237</td><td>25,51%</td></tr><tr><td>45-54</td><td>232</td><td>24,97%</td></tr><tr><td>55-64</td><td>225</td><td>24,22%</td></tr></table>"
                    },
                    "metadata": {}
                }
            ],
            "execution_count": 41
        },
        {
            "cell_type": "code",
            "source": [
                ""
            ],
            "metadata": {
                "language": "sql",
                "azdata_cell_guid": "d0d66d98-ee94-4ce2-aef4-14b888dfc503"
            },
            "outputs": [],
            "execution_count": null
        },
        {
            "cell_type": "code",
            "source": [
                ""
            ],
            "metadata": {
                "language": "sql",
                "azdata_cell_guid": "d9f7aaad-921b-429d-adbd-88b2e0cc1470"
            },
            "outputs": [],
            "execution_count": null
        },
        {
            "cell_type": "code",
            "source": [
                ""
            ],
            "metadata": {
                "language": "sql",
                "azdata_cell_guid": "b9a47187-be95-4274-a760-af5cbc742f8f"
            },
            "outputs": [],
            "execution_count": null
        },
        {
            "cell_type": "markdown",
            "source": [
                "50,38% dos funcionários são do gênero Masculino e 49,62% feminino."
            ],
            "metadata": {
                "language": "",
                "azdata_cell_guid": "3213efe7-ba04-45aa-ad85-e1a62a83988a"
            },
            "attachments": {}
        },
        {
            "cell_type": "code",
            "source": [
                "-- Total de funcionários por mês de admissão e MoM\r\n",
                "WITH CTE AS\r\n",
                "(\r\n",
                "SELECT\r\n",
                "    MONTH(Data_Admissão) AS 'Mês_admissão',\r\n",
                "    COUNT(*) AS 'Total'\r\n",
                "FROM baseRH\r\n",
                "GROUP BY MONTH(Data_Admissão)\r\n",
                ")\r\n",
                "\r\n",
                "SELECT \r\n",
                "    Mês_admissão,\r\n",
                "    Total,\r\n",
                "    FORMAT(1.0 * Total/SUM(Total)OVER(), '0.00%') AS 'Percentual_total',\r\n",
                "    FORMAT(1.0 * (Total - LAG(Total,1)OVER(ORDER BY Mês_admissão ASC))/Total, '0.00%') AS 'MoM'\r\n",
                "FROM CTE\r\n",
                "ORDER BY Mês_admissão ASC"
            ],
            "metadata": {
                "azdata_cell_guid": "dff7470f-ae5b-452d-bc04-8096c7b76f54",
                "language": "sql"
            },
            "outputs": [
                {
                    "output_type": "display_data",
                    "data": {
                        "text/html": "(12 rows affected)"
                    },
                    "metadata": {}
                },
                {
                    "output_type": "display_data",
                    "data": {
                        "text/html": "Total execution time: 00:00:00.368"
                    },
                    "metadata": {}
                },
                {
                    "output_type": "execute_result",
                    "execution_count": 2,
                    "data": {
                        "application/vnd.dataresource+json": {
                            "schema": {
                                "fields": [
                                    {
                                        "name": "Mês_admissão"
                                    },
                                    {
                                        "name": "Total"
                                    },
                                    {
                                        "name": "Percentual_total"
                                    },
                                    {
                                        "name": "MoM"
                                    }
                                ]
                            },
                            "data": [
                                {
                                    "Mês_admissão": "1",
                                    "Total": "103",
                                    "Percentual_total": "10,30%",
                                    "MoM": "NULL"
                                },
                                {
                                    "Mês_admissão": "2",
                                    "Total": "68",
                                    "Percentual_total": "6,80%",
                                    "MoM": "-51,47%"
                                },
                                {
                                    "Mês_admissão": "3",
                                    "Total": "87",
                                    "Percentual_total": "8,70%",
                                    "MoM": "21,84%"
                                },
                                {
                                    "Mês_admissão": "4",
                                    "Total": "80",
                                    "Percentual_total": "8,00%",
                                    "MoM": "-8,75%"
                                },
                                {
                                    "Mês_admissão": "5",
                                    "Total": "90",
                                    "Percentual_total": "9,00%",
                                    "MoM": "11,11%"
                                },
                                {
                                    "Mês_admissão": "6",
                                    "Total": "91",
                                    "Percentual_total": "9,10%",
                                    "MoM": "1,10%"
                                },
                                {
                                    "Mês_admissão": "7",
                                    "Total": "89",
                                    "Percentual_total": "8,90%",
                                    "MoM": "-2,25%"
                                },
                                {
                                    "Mês_admissão": "8",
                                    "Total": "90",
                                    "Percentual_total": "9,00%",
                                    "MoM": "1,11%"
                                },
                                {
                                    "Mês_admissão": "9",
                                    "Total": "72",
                                    "Percentual_total": "7,20%",
                                    "MoM": "-25,00%"
                                },
                                {
                                    "Mês_admissão": "10",
                                    "Total": "82",
                                    "Percentual_total": "8,20%",
                                    "MoM": "12,20%"
                                },
                                {
                                    "Mês_admissão": "11",
                                    "Total": "69",
                                    "Percentual_total": "6,90%",
                                    "MoM": "-18,84%"
                                },
                                {
                                    "Mês_admissão": "12",
                                    "Total": "79",
                                    "Percentual_total": "7,90%",
                                    "MoM": "12,66%"
                                }
                            ]
                        },
                        "text/html": "<table><tr><th>Mês_admissão</th><th>Total</th><th>Percentual_total</th><th>MoM</th></tr><tr><td>1</td><td>103</td><td>10,30%</td><td>NULL</td></tr><tr><td>2</td><td>68</td><td>6,80%</td><td>-51,47%</td></tr><tr><td>3</td><td>87</td><td>8,70%</td><td>21,84%</td></tr><tr><td>4</td><td>80</td><td>8,00%</td><td>-8,75%</td></tr><tr><td>5</td><td>90</td><td>9,00%</td><td>11,11%</td></tr><tr><td>6</td><td>91</td><td>9,10%</td><td>1,10%</td></tr><tr><td>7</td><td>89</td><td>8,90%</td><td>-2,25%</td></tr><tr><td>8</td><td>90</td><td>9,00%</td><td>1,11%</td></tr><tr><td>9</td><td>72</td><td>7,20%</td><td>-25,00%</td></tr><tr><td>10</td><td>82</td><td>8,20%</td><td>12,20%</td></tr><tr><td>11</td><td>69</td><td>6,90%</td><td>-18,84%</td></tr><tr><td>12</td><td>79</td><td>7,90%</td><td>12,66%</td></tr></table>"
                    },
                    "metadata": {}
                }
            ],
            "execution_count": 2
        },
        {
            "cell_type": "markdown",
            "source": [
                "O mês com a maior quantidade de contratações foi em Janeiro, no total 103 (10,30%) admitidos.\n",
                "\n",
                "O mês com o maior crescimento de contratações foi em em Março com 21,84% em relação ao mês anterior."
            ],
            "metadata": {
                "language": "sql",
                "azdata_cell_guid": "1c5213e3-1fc9-4cc1-bdd2-89cdd6272118"
            },
            "attachments": {}
        },
        {
            "cell_type": "code",
            "source": [
                ""
            ],
            "metadata": {
                "language": "sql",
                "azdata_cell_guid": "b88c58b2-67e7-46db-a267-72c64fc242a2"
            },
            "outputs": [],
            "execution_count": null
        },
        {
            "cell_type": "code",
            "source": [
                ""
            ],
            "metadata": {
                "language": "sql",
                "azdata_cell_guid": "ddda01b3-69dd-471f-8b10-31a2021451e1"
            },
            "outputs": [],
            "execution_count": null
        },
        {
            "cell_type": "code",
            "source": [
                ""
            ],
            "metadata": {
                "azdata_cell_guid": "ebee41a6-cec4-4430-a417-50052ea448ca",
                "language": "sql"
            },
            "outputs": [],
            "execution_count": null
        },
        {
            "cell_type": "code",
            "source": [
                ""
            ],
            "metadata": {
                "azdata_cell_guid": "99e934b4-3e9c-467b-9e86-9536421c4aee",
                "language": "sql"
            },
            "outputs": [],
            "execution_count": null
        },
        {
            "cell_type": "code",
            "source": [
                ""
            ],
            "metadata": {
                "azdata_cell_guid": "dad734f4-807a-47cf-8ae1-35b653e426a9",
                "language": "sql"
            },
            "outputs": [],
            "execution_count": null
        },
        {
            "cell_type": "code",
            "source": [
                ""
            ],
            "metadata": {
                "azdata_cell_guid": "ea57e028-dd0e-404a-b45e-37e734407d70",
                "language": "sql"
            },
            "outputs": [],
            "execution_count": null
        },
        {
            "cell_type": "code",
            "source": [
                ""
            ],
            "metadata": {
                "azdata_cell_guid": "bc341559-5b91-4c1e-b9f7-c6d1955461fa",
                "language": "sql"
            },
            "outputs": [],
            "execution_count": null
        },
        {
            "cell_type": "code",
            "source": [
                ""
            ],
            "metadata": {
                "azdata_cell_guid": "7135562a-3b34-448a-9e4d-bd0ece6f866a",
                "language": "sql"
            },
            "outputs": [],
            "execution_count": null
        }
    ]
}