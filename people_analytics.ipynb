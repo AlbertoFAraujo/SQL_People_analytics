{
    "metadata": {
        "kernelspec": {
            "name": "SQL",
            "display_name": "SQL",
            "language": "sql"
        },
        "language_info": {
            "name": "sql",
            "version": ""
        }
    },
    "nbformat_minor": 2,
    "nbformat": 4,
    "cells": [
        {
            "cell_type": "markdown",
            "source": [
                ""
            ],
            "metadata": {
                "azdata_cell_guid": "754288e6-ef96-48bb-bcf0-7d4dae7c2f95"
            }
        },
        {
            "cell_type": "code",
            "source": [
                "-- Visualizando a base de dados\r\n",
                "SELECT TOP(10) * FROM baseRH"
            ],
            "metadata": {
                "azdata_cell_guid": "f5c4f762-ff98-4a15-8a6a-37a83d09cc49",
                "language": "sql",
                "tags": []
            },
            "outputs": [
                {
                    "output_type": "display_data",
                    "data": {
                        "text/html": "(10 rows affected)"
                    },
                    "metadata": {}
                },
                {
                    "output_type": "display_data",
                    "data": {
                        "text/html": "Total execution time: 00:00:00.019"
                    },
                    "metadata": {}
                },
                {
                    "output_type": "execute_result",
                    "execution_count": 7,
                    "data": {
                        "application/vnd.dataresource+json": {
                            "schema": {
                                "fields": [
                                    {
                                        "name": "Nome"
                                    },
                                    {
                                        "name": "Gênero"
                                    },
                                    {
                                        "name": "Data_Nascimento"
                                    },
                                    {
                                        "name": "Idade"
                                    },
                                    {
                                        "name": "Nível"
                                    },
                                    {
                                        "name": "Escolaridade"
                                    },
                                    {
                                        "name": "Área"
                                    },
                                    {
                                        "name": "Salário"
                                    },
                                    {
                                        "name": "Data_Admissão"
                                    },
                                    {
                                        "name": "Data_Demissão"
                                    },
                                    {
                                        "name": "Contrato"
                                    },
                                    {
                                        "name": "Motivo_Demissão"
                                    },
                                    {
                                        "name": "PCD"
                                    },
                                    {
                                        "name": "Alimentação"
                                    },
                                    {
                                        "name": "Saúde"
                                    },
                                    {
                                        "name": "Odont"
                                    },
                                    {
                                        "name": "Transporte"
                                    },
                                    {
                                        "name": "Creche"
                                    },
                                    {
                                        "name": "Combustível"
                                    },
                                    {
                                        "name": "Benefícios"
                                    },
                                    {
                                        "name": "Mês_admissão"
                                    },
                                    {
                                        "name": "Mês_demissão"
                                    },
                                    {
                                        "name": "Status"
                                    },
                                    {
                                        "name": "Faixa_Idade"
                                    },
                                    {
                                        "name": "Tempo_dias"
                                    },
                                    {
                                        "name": "Faixa_dias"
                                    }
                                ]
                            },
                            "data": [
                                {
                                    "Nome": "Kylie Rame",
                                    "Gênero": "Masculino",
                                    "Data_Nascimento": "1996-03-17",
                                    "Idade": "28",
                                    "Nível": "Supervisor",
                                    "Escolaridade": "Ensino Médio",
                                    "Área": "Financeiro",
                                    "Salário": "7000",
                                    "Data_Admissão": "2019-01-01",
                                    "Data_Demissão": "NULL",
                                    "Contrato": "CLT",
                                    "Motivo_Demissão": "NULL",
                                    "PCD": "NULL",
                                    "Alimentação": "1200",
                                    "Saúde": "1200",
                                    "Odont": "1200",
                                    "Transporte": "1200",
                                    "Creche": "NULL",
                                    "Combustível": "500",
                                    "Benefícios": "5300",
                                    "Mês_admissão": "1",
                                    "Mês_demissão": "-",
                                    "Status": "NULL",
                                    "Faixa_Idade": "24-34",
                                    "Tempo_dias": "364",
                                    "Faixa_dias": "270-364"
                                },
                                {
                                    "Nome": "Dwayne Betun",
                                    "Gênero": "Masculino",
                                    "Data_Nascimento": "1988-02-28",
                                    "Idade": "36",
                                    "Nível": "Gerente",
                                    "Escolaridade": "Pós-graduação",
                                    "Área": "Recursos Humanos",
                                    "Salário": "15000",
                                    "Data_Admissão": "2019-01-02",
                                    "Data_Demissão": "NULL",
                                    "Contrato": "CLT",
                                    "Motivo_Demissão": "NULL",
                                    "PCD": "NULL",
                                    "Alimentação": "1200",
                                    "Saúde": "1200",
                                    "Odont": "1200",
                                    "Transporte": "1200",
                                    "Creche": "NULL",
                                    "Combustível": "500",
                                    "Benefícios": "5300",
                                    "Mês_admissão": "1",
                                    "Mês_demissão": "-",
                                    "Status": "Férias",
                                    "Faixa_Idade": "35-44",
                                    "Tempo_dias": "363",
                                    "Faixa_dias": "270-364"
                                },
                                {
                                    "Nome": "Chrisse Oxbrough",
                                    "Gênero": "Masculino",
                                    "Data_Nascimento": "1988-09-22",
                                    "Idade": "36",
                                    "Nível": "Gerente",
                                    "Escolaridade": "Ensino Superior",
                                    "Área": "Marketing",
                                    "Salário": "15000",
                                    "Data_Admissão": "2019-01-02",
                                    "Data_Demissão": "NULL",
                                    "Contrato": "CLT",
                                    "Motivo_Demissão": "NULL",
                                    "PCD": "NULL",
                                    "Alimentação": "1200",
                                    "Saúde": "1200",
                                    "Odont": "1200",
                                    "Transporte": "1200",
                                    "Creche": "NULL",
                                    "Combustível": "500",
                                    "Benefícios": "5300",
                                    "Mês_admissão": "1",
                                    "Mês_demissão": "-",
                                    "Status": "NULL",
                                    "Faixa_Idade": "35-44",
                                    "Tempo_dias": "363",
                                    "Faixa_dias": "270-364"
                                },
                                {
                                    "Nome": "Kimmy Fardy",
                                    "Gênero": "Feminino",
                                    "Data_Nascimento": "1988-03-14",
                                    "Idade": "36",
                                    "Nível": "Gerente",
                                    "Escolaridade": "Pós-graduação",
                                    "Área": "Produção",
                                    "Salário": "15000",
                                    "Data_Admissão": "2019-01-02",
                                    "Data_Demissão": "NULL",
                                    "Contrato": "CLT",
                                    "Motivo_Demissão": "NULL",
                                    "PCD": "NULL",
                                    "Alimentação": "1200",
                                    "Saúde": "1200",
                                    "Odont": "1200",
                                    "Transporte": "1200",
                                    "Creche": "NULL",
                                    "Combustível": "500",
                                    "Benefícios": "5300",
                                    "Mês_admissão": "1",
                                    "Mês_demissão": "-",
                                    "Status": "NULL",
                                    "Faixa_Idade": "35-44",
                                    "Tempo_dias": "363",
                                    "Faixa_dias": "270-364"
                                },
                                {
                                    "Nome": "Mata Steynor",
                                    "Gênero": "Masculino",
                                    "Data_Nascimento": "1994-06-28",
                                    "Idade": "30",
                                    "Nível": "Analista Sr",
                                    "Escolaridade": "Ensino Técnico",
                                    "Área": "Produção",
                                    "Salário": "5000",
                                    "Data_Admissão": "2019-01-02",
                                    "Data_Demissão": "NULL",
                                    "Contrato": "CLT",
                                    "Motivo_Demissão": "NULL",
                                    "PCD": "NULL",
                                    "Alimentação": "600",
                                    "Saúde": "600",
                                    "Odont": "600",
                                    "Transporte": "600",
                                    "Creche": "NULL",
                                    "Combustível": "500",
                                    "Benefícios": "2900",
                                    "Mês_admissão": "1",
                                    "Mês_demissão": "-",
                                    "Status": "NULL",
                                    "Faixa_Idade": "24-34",
                                    "Tempo_dias": "363",
                                    "Faixa_dias": "270-364"
                                },
                                {
                                    "Nome": "Rivi Ofen",
                                    "Gênero": "Feminino",
                                    "Data_Nascimento": "1981-10-19",
                                    "Idade": "43",
                                    "Nível": "Supervisor",
                                    "Escolaridade": "Ensino Superior",
                                    "Área": "Financeiro",
                                    "Salário": "7000",
                                    "Data_Admissão": "2019-01-03",
                                    "Data_Demissão": "NULL",
                                    "Contrato": "CLT",
                                    "Motivo_Demissão": "NULL",
                                    "PCD": "NULL",
                                    "Alimentação": "1200",
                                    "Saúde": "1200",
                                    "Odont": "1200",
                                    "Transporte": "1200",
                                    "Creche": "NULL",
                                    "Combustível": "500",
                                    "Benefícios": "5300",
                                    "Mês_admissão": "1",
                                    "Mês_demissão": "-",
                                    "Status": "NULL",
                                    "Faixa_Idade": "35-44",
                                    "Tempo_dias": "362",
                                    "Faixa_dias": "270-364"
                                },
                                {
                                    "Nome": "Ross Tutchell",
                                    "Gênero": "Masculino",
                                    "Data_Nascimento": "1991-05-14",
                                    "Idade": "33",
                                    "Nível": "Assistente",
                                    "Escolaridade": "Ensino Médio",
                                    "Área": "Produção",
                                    "Salário": "2500",
                                    "Data_Admissão": "2019-01-03",
                                    "Data_Demissão": "NULL",
                                    "Contrato": "CLT",
                                    "Motivo_Demissão": "NULL",
                                    "PCD": "NULL",
                                    "Alimentação": "600",
                                    "Saúde": "600",
                                    "Odont": "600",
                                    "Transporte": "600",
                                    "Creche": "500",
                                    "Combustível": "NULL",
                                    "Benefícios": "2900",
                                    "Mês_admissão": "1",
                                    "Mês_demissão": "-",
                                    "Status": "NULL",
                                    "Faixa_Idade": "24-34",
                                    "Tempo_dias": "362",
                                    "Faixa_dias": "270-364"
                                },
                                {
                                    "Nome": "Lisa De Antoni",
                                    "Gênero": "Feminino",
                                    "Data_Nascimento": "1961-04-28",
                                    "Idade": "63",
                                    "Nível": "Estagiário",
                                    "Escolaridade": "Ensino Médio",
                                    "Área": "Administração",
                                    "Salário": "1200",
                                    "Data_Admissão": "2019-01-03",
                                    "Data_Demissão": "NULL",
                                    "Contrato": "Estágio",
                                    "Motivo_Demissão": "NULL",
                                    "PCD": "NULL",
                                    "Alimentação": "200",
                                    "Saúde": "200",
                                    "Odont": "200",
                                    "Transporte": "200",
                                    "Creche": "NULL",
                                    "Combustível": "NULL",
                                    "Benefícios": "800",
                                    "Mês_admissão": "1",
                                    "Mês_demissão": "-",
                                    "Status": "NULL",
                                    "Faixa_Idade": "55-64",
                                    "Tempo_dias": "362",
                                    "Faixa_dias": "270-364"
                                },
                                {
                                    "Nome": "Bethena Josephs",
                                    "Gênero": "Feminino",
                                    "Data_Nascimento": "1978-08-08",
                                    "Idade": "46",
                                    "Nível": "Analista Jr",
                                    "Escolaridade": "Ensino Técnico",
                                    "Área": "TI",
                                    "Salário": "3500",
                                    "Data_Admissão": "2019-01-03",
                                    "Data_Demissão": "NULL",
                                    "Contrato": "CLT",
                                    "Motivo_Demissão": "NULL",
                                    "PCD": "NULL",
                                    "Alimentação": "600",
                                    "Saúde": "600",
                                    "Odont": "600",
                                    "Transporte": "600",
                                    "Creche": "NULL",
                                    "Combustível": "NULL",
                                    "Benefícios": "2400",
                                    "Mês_admissão": "1",
                                    "Mês_demissão": "-",
                                    "Status": "NULL",
                                    "Faixa_Idade": "45-54",
                                    "Tempo_dias": "362",
                                    "Faixa_dias": "270-364"
                                },
                                {
                                    "Nome": "Kellia Koppel",
                                    "Gênero": "Feminino",
                                    "Data_Nascimento": "1970-07-19",
                                    "Idade": "54",
                                    "Nível": "Assistente",
                                    "Escolaridade": "Ensino Superior",
                                    "Área": "Recursos Humanos",
                                    "Salário": "2500",
                                    "Data_Admissão": "2019-01-03",
                                    "Data_Demissão": "NULL",
                                    "Contrato": "CLT",
                                    "Motivo_Demissão": "NULL",
                                    "PCD": "NULL",
                                    "Alimentação": "600",
                                    "Saúde": "600",
                                    "Odont": "600",
                                    "Transporte": "600",
                                    "Creche": "NULL",
                                    "Combustível": "NULL",
                                    "Benefícios": "2400",
                                    "Mês_admissão": "1",
                                    "Mês_demissão": "-",
                                    "Status": "NULL",
                                    "Faixa_Idade": "45-54",
                                    "Tempo_dias": "362",
                                    "Faixa_dias": "270-364"
                                }
                            ]
                        },
                        "text/html": "<table><tr><th>Nome</th><th>Gênero</th><th>Data_Nascimento</th><th>Idade</th><th>Nível</th><th>Escolaridade</th><th>Área</th><th>Salário</th><th>Data_Admissão</th><th>Data_Demissão</th><th>Contrato</th><th>Motivo_Demissão</th><th>PCD</th><th>Alimentação</th><th>Saúde</th><th>Odont</th><th>Transporte</th><th>Creche</th><th>Combustível</th><th>Benefícios</th><th>Mês_admissão</th><th>Mês_demissão</th><th>Status</th><th>Faixa_Idade</th><th>Tempo_dias</th><th>Faixa_dias</th></tr><tr><td>Kylie Rame</td><td>Masculino</td><td>1996-03-17</td><td>28</td><td>Supervisor</td><td>Ensino Médio</td><td>Financeiro</td><td>7000</td><td>2019-01-01</td><td>NULL</td><td>CLT</td><td>NULL</td><td>NULL</td><td>1200</td><td>1200</td><td>1200</td><td>1200</td><td>NULL</td><td>500</td><td>5300</td><td>1</td><td>-</td><td>NULL</td><td>24-34</td><td>364</td><td>270-364</td></tr><tr><td>Dwayne Betun</td><td>Masculino</td><td>1988-02-28</td><td>36</td><td>Gerente</td><td>Pós-graduação</td><td>Recursos Humanos</td><td>15000</td><td>2019-01-02</td><td>NULL</td><td>CLT</td><td>NULL</td><td>NULL</td><td>1200</td><td>1200</td><td>1200</td><td>1200</td><td>NULL</td><td>500</td><td>5300</td><td>1</td><td>-</td><td>Férias</td><td>35-44</td><td>363</td><td>270-364</td></tr><tr><td>Chrisse Oxbrough</td><td>Masculino</td><td>1988-09-22</td><td>36</td><td>Gerente</td><td>Ensino Superior</td><td>Marketing</td><td>15000</td><td>2019-01-02</td><td>NULL</td><td>CLT</td><td>NULL</td><td>NULL</td><td>1200</td><td>1200</td><td>1200</td><td>1200</td><td>NULL</td><td>500</td><td>5300</td><td>1</td><td>-</td><td>NULL</td><td>35-44</td><td>363</td><td>270-364</td></tr><tr><td>Kimmy Fardy</td><td>Feminino</td><td>1988-03-14</td><td>36</td><td>Gerente</td><td>Pós-graduação</td><td>Produção</td><td>15000</td><td>2019-01-02</td><td>NULL</td><td>CLT</td><td>NULL</td><td>NULL</td><td>1200</td><td>1200</td><td>1200</td><td>1200</td><td>NULL</td><td>500</td><td>5300</td><td>1</td><td>-</td><td>NULL</td><td>35-44</td><td>363</td><td>270-364</td></tr><tr><td>Mata Steynor</td><td>Masculino</td><td>1994-06-28</td><td>30</td><td>Analista Sr</td><td>Ensino Técnico</td><td>Produção</td><td>5000</td><td>2019-01-02</td><td>NULL</td><td>CLT</td><td>NULL</td><td>NULL</td><td>600</td><td>600</td><td>600</td><td>600</td><td>NULL</td><td>500</td><td>2900</td><td>1</td><td>-</td><td>NULL</td><td>24-34</td><td>363</td><td>270-364</td></tr><tr><td>Rivi Ofen</td><td>Feminino</td><td>1981-10-19</td><td>43</td><td>Supervisor</td><td>Ensino Superior</td><td>Financeiro</td><td>7000</td><td>2019-01-03</td><td>NULL</td><td>CLT</td><td>NULL</td><td>NULL</td><td>1200</td><td>1200</td><td>1200</td><td>1200</td><td>NULL</td><td>500</td><td>5300</td><td>1</td><td>-</td><td>NULL</td><td>35-44</td><td>362</td><td>270-364</td></tr><tr><td>Ross Tutchell</td><td>Masculino</td><td>1991-05-14</td><td>33</td><td>Assistente</td><td>Ensino Médio</td><td>Produção</td><td>2500</td><td>2019-01-03</td><td>NULL</td><td>CLT</td><td>NULL</td><td>NULL</td><td>600</td><td>600</td><td>600</td><td>600</td><td>500</td><td>NULL</td><td>2900</td><td>1</td><td>-</td><td>NULL</td><td>24-34</td><td>362</td><td>270-364</td></tr><tr><td>Lisa De Antoni</td><td>Feminino</td><td>1961-04-28</td><td>63</td><td>Estagiário</td><td>Ensino Médio</td><td>Administração</td><td>1200</td><td>2019-01-03</td><td>NULL</td><td>Estágio</td><td>NULL</td><td>NULL</td><td>200</td><td>200</td><td>200</td><td>200</td><td>NULL</td><td>NULL</td><td>800</td><td>1</td><td>-</td><td>NULL</td><td>55-64</td><td>362</td><td>270-364</td></tr><tr><td>Bethena Josephs</td><td>Feminino</td><td>1978-08-08</td><td>46</td><td>Analista Jr</td><td>Ensino Técnico</td><td>TI</td><td>3500</td><td>2019-01-03</td><td>NULL</td><td>CLT</td><td>NULL</td><td>NULL</td><td>600</td><td>600</td><td>600</td><td>600</td><td>NULL</td><td>NULL</td><td>2400</td><td>1</td><td>-</td><td>NULL</td><td>45-54</td><td>362</td><td>270-364</td></tr><tr><td>Kellia Koppel</td><td>Feminino</td><td>1970-07-19</td><td>54</td><td>Assistente</td><td>Ensino Superior</td><td>Recursos Humanos</td><td>2500</td><td>2019-01-03</td><td>NULL</td><td>CLT</td><td>NULL</td><td>NULL</td><td>600</td><td>600</td><td>600</td><td>600</td><td>NULL</td><td>NULL</td><td>2400</td><td>1</td><td>-</td><td>NULL</td><td>45-54</td><td>362</td><td>270-364</td></tr></table>"
                    },
                    "metadata": {}
                }
            ],
            "execution_count": 7
        },
        {
            "cell_type": "code",
            "source": [
                "-- Total de funcionários por mês de admissão e MoM\r\n",
                "WITH CTE AS\r\n",
                "(\r\n",
                "SELECT\r\n",
                "    MONTH(Data_Admissão) AS 'Mês_admissão',\r\n",
                "    COUNT(*) AS 'Total'\r\n",
                "FROM baseRH\r\n",
                "GROUP BY MONTH(Data_Admissão)\r\n",
                ")\r\n",
                "\r\n",
                "SELECT \r\n",
                "    Mês_admissão,\r\n",
                "    Total,\r\n",
                "    FORMAT(1.0 * Total/SUM(Total)OVER(), '0.00%') AS 'Percentual_total',\r\n",
                "    FORMAT(1.0 * (Total - LAG(Total,1)OVER(ORDER BY Mês_admissão ASC))/Total, '0.00%') AS 'MoM'\r\n",
                "FROM CTE\r\n",
                "ORDER BY Mês_admissão ASC"
            ],
            "metadata": {
                "azdata_cell_guid": "dff7470f-ae5b-452d-bc04-8096c7b76f54",
                "language": "sql"
            },
            "outputs": [
                {
                    "output_type": "display_data",
                    "data": {
                        "text/html": "(12 rows affected)"
                    },
                    "metadata": {}
                },
                {
                    "output_type": "display_data",
                    "data": {
                        "text/html": "Total execution time: 00:00:00.163"
                    },
                    "metadata": {}
                },
                {
                    "output_type": "execute_result",
                    "execution_count": 28,
                    "data": {
                        "application/vnd.dataresource+json": {
                            "schema": {
                                "fields": [
                                    {
                                        "name": "Mês_admissão"
                                    },
                                    {
                                        "name": "Total"
                                    },
                                    {
                                        "name": "Percentual_total"
                                    },
                                    {
                                        "name": "MoM"
                                    }
                                ]
                            },
                            "data": [
                                {
                                    "Mês_admissão": "1",
                                    "Total": "103",
                                    "Percentual_total": "10,30%",
                                    "MoM": "NULL"
                                },
                                {
                                    "Mês_admissão": "2",
                                    "Total": "68",
                                    "Percentual_total": "6,80%",
                                    "MoM": "-51,47%"
                                },
                                {
                                    "Mês_admissão": "3",
                                    "Total": "87",
                                    "Percentual_total": "8,70%",
                                    "MoM": "21,84%"
                                },
                                {
                                    "Mês_admissão": "4",
                                    "Total": "80",
                                    "Percentual_total": "8,00%",
                                    "MoM": "-8,75%"
                                },
                                {
                                    "Mês_admissão": "5",
                                    "Total": "90",
                                    "Percentual_total": "9,00%",
                                    "MoM": "11,11%"
                                },
                                {
                                    "Mês_admissão": "6",
                                    "Total": "91",
                                    "Percentual_total": "9,10%",
                                    "MoM": "1,10%"
                                },
                                {
                                    "Mês_admissão": "7",
                                    "Total": "89",
                                    "Percentual_total": "8,90%",
                                    "MoM": "-2,25%"
                                },
                                {
                                    "Mês_admissão": "8",
                                    "Total": "90",
                                    "Percentual_total": "9,00%",
                                    "MoM": "1,11%"
                                },
                                {
                                    "Mês_admissão": "9",
                                    "Total": "72",
                                    "Percentual_total": "7,20%",
                                    "MoM": "-25,00%"
                                },
                                {
                                    "Mês_admissão": "10",
                                    "Total": "82",
                                    "Percentual_total": "8,20%",
                                    "MoM": "12,20%"
                                },
                                {
                                    "Mês_admissão": "11",
                                    "Total": "69",
                                    "Percentual_total": "6,90%",
                                    "MoM": "-18,84%"
                                },
                                {
                                    "Mês_admissão": "12",
                                    "Total": "79",
                                    "Percentual_total": "7,90%",
                                    "MoM": "12,66%"
                                }
                            ]
                        },
                        "text/html": "<table><tr><th>Mês_admissão</th><th>Total</th><th>Percentual_total</th><th>MoM</th></tr><tr><td>1</td><td>103</td><td>10,30%</td><td>NULL</td></tr><tr><td>2</td><td>68</td><td>6,80%</td><td>-51,47%</td></tr><tr><td>3</td><td>87</td><td>8,70%</td><td>21,84%</td></tr><tr><td>4</td><td>80</td><td>8,00%</td><td>-8,75%</td></tr><tr><td>5</td><td>90</td><td>9,00%</td><td>11,11%</td></tr><tr><td>6</td><td>91</td><td>9,10%</td><td>1,10%</td></tr><tr><td>7</td><td>89</td><td>8,90%</td><td>-2,25%</td></tr><tr><td>8</td><td>90</td><td>9,00%</td><td>1,11%</td></tr><tr><td>9</td><td>72</td><td>7,20%</td><td>-25,00%</td></tr><tr><td>10</td><td>82</td><td>8,20%</td><td>12,20%</td></tr><tr><td>11</td><td>69</td><td>6,90%</td><td>-18,84%</td></tr><tr><td>12</td><td>79</td><td>7,90%</td><td>12,66%</td></tr></table>"
                    },
                    "metadata": {
                        "azdata_chartOptions": {
                            "type": "bar",
                            "dataDirection": "vertical",
                            "columnsAsLabels": true,
                            "labelFirstColumn": false,
                            "legendPosition": "top"
                        }
                    }
                }
            ],
            "execution_count": 28
        },
        {
            "cell_type": "markdown",
            "source": [
                "O mês com a maior quantidade de contratações foi em Janeiro, no total 103 (10,30%) admitidos.\n",
                "\n",
                "O mês com o maior crescimento de contratações foi em em Março com 21,84% em relação ao mês anterior."
            ],
            "metadata": {
                "language": "sql",
                "azdata_cell_guid": "1c5213e3-1fc9-4cc1-bdd2-89cdd6272118"
            },
            "attachments": {}
        },
        {
            "cell_type": "code",
            "source": [
                "-- \n",
                "SELECT \n",
                "    Gênero,\n",
                "    COUNT(*) AS Total\n",
                "FROM baseRH\n",
                "GROUP BY Gênero"
            ],
            "metadata": {
                "azdata_cell_guid": "08054183-3fec-4695-9e88-d825fd08373c",
                "language": "sql"
            },
            "outputs": [
                {
                    "output_type": "display_data",
                    "data": {
                        "text/html": "(2 rows affected)"
                    },
                    "metadata": {}
                },
                {
                    "output_type": "display_data",
                    "data": {
                        "text/html": "Total execution time: 00:00:00.009"
                    },
                    "metadata": {}
                },
                {
                    "output_type": "execute_result",
                    "execution_count": 1,
                    "data": {
                        "application/vnd.dataresource+json": {
                            "schema": {
                                "fields": [
                                    {
                                        "name": "Gênero"
                                    },
                                    {
                                        "name": "Total"
                                    }
                                ]
                            },
                            "data": [
                                {
                                    "Gênero": "Masculino",
                                    "Total": "509"
                                },
                                {
                                    "Gênero": "Feminino",
                                    "Total": "491"
                                }
                            ]
                        },
                        "text/html": "<table><tr><th>Gênero</th><th>Total</th></tr><tr><td>Masculino</td><td>509</td></tr><tr><td>Feminino</td><td>491</td></tr></table>"
                    },
                    "metadata": {
                        "azdata_chartOptions": {
                            "type": "bar",
                            "dataDirection": "vertical",
                            "columnsAsLabels": true,
                            "labelFirstColumn": false,
                            "legendPosition": "bottom",
                            "yAxisLabel": "Total",
                            "yAxisMin": 0,
                            "yAxisMax": 600,
                            "xAxisLabel": "Gênero"
                        }
                    }
                }
            ],
            "execution_count": 1
        },
        {
            "cell_type": "code",
            "source": [
                "SELECT\r\n",
                "    Área,\r\n",
                "    AVG(Salário) AS 'Salario_medio',\r\n",
                "    FORMAT(1.0 * AVG(Salário)/SUM(AVG(Salário))OVER(), '0.00%') AS 'Percentual_total'\r\n",
                "FROM baseRH\r\n",
                "GROUP BY Área\r\n",
                "ORDER BY Salario_medio DESC"
            ],
            "metadata": {
                "language": "sql",
                "azdata_cell_guid": "45beeb11-77b9-42de-86c1-588156fe8668"
            },
            "outputs": [
                {
                    "output_type": "display_data",
                    "data": {
                        "text/html": "(9 rows affected)"
                    },
                    "metadata": {}
                },
                {
                    "output_type": "display_data",
                    "data": {
                        "text/html": "Total execution time: 00:00:00.387"
                    },
                    "metadata": {}
                },
                {
                    "output_type": "execute_result",
                    "execution_count": 6,
                    "data": {
                        "application/vnd.dataresource+json": {
                            "schema": {
                                "fields": [
                                    {
                                        "name": "Área"
                                    },
                                    {
                                        "name": "Salario_medio"
                                    },
                                    {
                                        "name": "Percentual_total"
                                    }
                                ]
                            },
                            "data": [
                                {
                                    "Área": "Recursos Humanos",
                                    "Salario_medio": "6360",
                                    "Percentual_total": "11,21%"
                                },
                                {
                                    "Área": "Vendas",
                                    "Salario_medio": "6348",
                                    "Percentual_total": "11,19%"
                                },
                                {
                                    "Área": "Marketing",
                                    "Salario_medio": "6339",
                                    "Percentual_total": "11,17%"
                                },
                                {
                                    "Área": "Financeiro",
                                    "Salario_medio": "6326",
                                    "Percentual_total": "11,15%"
                                },
                                {
                                    "Área": "Administração",
                                    "Salario_medio": "6314",
                                    "Percentual_total": "11,13%"
                                },
                                {
                                    "Área": "Operações",
                                    "Salario_medio": "6308",
                                    "Percentual_total": "11,12%"
                                },
                                {
                                    "Área": "Produção",
                                    "Salario_medio": "6281",
                                    "Percentual_total": "11,07%"
                                },
                                {
                                    "Área": "TI",
                                    "Salario_medio": "6236",
                                    "Percentual_total": "10,99%"
                                },
                                {
                                    "Área": "Logística",
                                    "Salario_medio": "6236",
                                    "Percentual_total": "10,99%"
                                }
                            ]
                        },
                        "text/html": "<table><tr><th>Área</th><th>Salario_medio</th><th>Percentual_total</th></tr><tr><td>Recursos Humanos</td><td>6360</td><td>11,21%</td></tr><tr><td>Vendas</td><td>6348</td><td>11,19%</td></tr><tr><td>Marketing</td><td>6339</td><td>11,17%</td></tr><tr><td>Financeiro</td><td>6326</td><td>11,15%</td></tr><tr><td>Administração</td><td>6314</td><td>11,13%</td></tr><tr><td>Operações</td><td>6308</td><td>11,12%</td></tr><tr><td>Produção</td><td>6281</td><td>11,07%</td></tr><tr><td>TI</td><td>6236</td><td>10,99%</td></tr><tr><td>Logística</td><td>6236</td><td>10,99%</td></tr></table>"
                    },
                    "metadata": {
                        "azdata_chartOptions": {
                            "type": "bar",
                            "dataDirection": "vertical",
                            "columnsAsLabels": true,
                            "labelFirstColumn": false,
                            "legendPosition": "bottom"
                        }
                    }
                }
            ],
            "execution_count": 6
        },
        {
            "cell_type": "code",
            "source": [
                "SELECT \r\n",
                "    Idade,\r\n",
                "    COUNT(*) AS 'Total'\r\n",
                "FROM baseRH\r\n",
                "GROUP BY Idade\r\n",
                "ORDER BY Idade ASC"
            ],
            "metadata": {
                "azdata_cell_guid": "c24ac0c6-5b3f-4c1d-b3f2-7c48b78865a1",
                "language": "sql"
            },
            "outputs": [
                {
                    "output_type": "display_data",
                    "data": {
                        "text/html": "(41 rows affected)"
                    },
                    "metadata": {}
                },
                {
                    "output_type": "display_data",
                    "data": {
                        "text/html": "Total execution time: 00:00:00.026"
                    },
                    "metadata": {}
                },
                {
                    "output_type": "execute_result",
                    "execution_count": 32,
                    "data": {
                        "application/vnd.dataresource+json": {
                            "schema": {
                                "fields": [
                                    {
                                        "name": "Idade"
                                    },
                                    {
                                        "name": "Total"
                                    }
                                ]
                            },
                            "data": [
                                {
                                    "Idade": "24",
                                    "Total": "31"
                                },
                                {
                                    "Idade": "25",
                                    "Total": "22"
                                },
                                {
                                    "Idade": "26",
                                    "Total": "24"
                                },
                                {
                                    "Idade": "27",
                                    "Total": "18"
                                },
                                {
                                    "Idade": "28",
                                    "Total": "19"
                                },
                                {
                                    "Idade": "29",
                                    "Total": "29"
                                },
                                {
                                    "Idade": "30",
                                    "Total": "28"
                                },
                                {
                                    "Idade": "31",
                                    "Total": "25"
                                },
                                {
                                    "Idade": "32",
                                    "Total": "19"
                                },
                                {
                                    "Idade": "33",
                                    "Total": "18"
                                },
                                {
                                    "Idade": "34",
                                    "Total": "25"
                                },
                                {
                                    "Idade": "35",
                                    "Total": "30"
                                },
                                {
                                    "Idade": "36",
                                    "Total": "29"
                                },
                                {
                                    "Idade": "37",
                                    "Total": "23"
                                },
                                {
                                    "Idade": "38",
                                    "Total": "30"
                                },
                                {
                                    "Idade": "39",
                                    "Total": "26"
                                },
                                {
                                    "Idade": "40",
                                    "Total": "24"
                                },
                                {
                                    "Idade": "41",
                                    "Total": "25"
                                },
                                {
                                    "Idade": "42",
                                    "Total": "22"
                                },
                                {
                                    "Idade": "43",
                                    "Total": "25"
                                },
                                {
                                    "Idade": "44",
                                    "Total": "16"
                                },
                                {
                                    "Idade": "45",
                                    "Total": "28"
                                },
                                {
                                    "Idade": "46",
                                    "Total": "26"
                                },
                                {
                                    "Idade": "47",
                                    "Total": "18"
                                },
                                {
                                    "Idade": "48",
                                    "Total": "18"
                                },
                                {
                                    "Idade": "49",
                                    "Total": "30"
                                },
                                {
                                    "Idade": "50",
                                    "Total": "36"
                                },
                                {
                                    "Idade": "51",
                                    "Total": "19"
                                },
                                {
                                    "Idade": "52",
                                    "Total": "24"
                                },
                                {
                                    "Idade": "53",
                                    "Total": "19"
                                },
                                {
                                    "Idade": "54",
                                    "Total": "34"
                                },
                                {
                                    "Idade": "55",
                                    "Total": "29"
                                },
                                {
                                    "Idade": "56",
                                    "Total": "20"
                                },
                                {
                                    "Idade": "57",
                                    "Total": "23"
                                },
                                {
                                    "Idade": "58",
                                    "Total": "20"
                                },
                                {
                                    "Idade": "59",
                                    "Total": "27"
                                },
                                {
                                    "Idade": "60",
                                    "Total": "29"
                                },
                                {
                                    "Idade": "61",
                                    "Total": "26"
                                },
                                {
                                    "Idade": "62",
                                    "Total": "21"
                                },
                                {
                                    "Idade": "63",
                                    "Total": "19"
                                },
                                {
                                    "Idade": "64",
                                    "Total": "26"
                                }
                            ]
                        },
                        "text/html": "<table><tr><th>Idade</th><th>Total</th></tr><tr><td>24</td><td>31</td></tr><tr><td>25</td><td>22</td></tr><tr><td>26</td><td>24</td></tr><tr><td>27</td><td>18</td></tr><tr><td>28</td><td>19</td></tr><tr><td>29</td><td>29</td></tr><tr><td>30</td><td>28</td></tr><tr><td>31</td><td>25</td></tr><tr><td>32</td><td>19</td></tr><tr><td>33</td><td>18</td></tr><tr><td>34</td><td>25</td></tr><tr><td>35</td><td>30</td></tr><tr><td>36</td><td>29</td></tr><tr><td>37</td><td>23</td></tr><tr><td>38</td><td>30</td></tr><tr><td>39</td><td>26</td></tr><tr><td>40</td><td>24</td></tr><tr><td>41</td><td>25</td></tr><tr><td>42</td><td>22</td></tr><tr><td>43</td><td>25</td></tr><tr><td>44</td><td>16</td></tr><tr><td>45</td><td>28</td></tr><tr><td>46</td><td>26</td></tr><tr><td>47</td><td>18</td></tr><tr><td>48</td><td>18</td></tr><tr><td>49</td><td>30</td></tr><tr><td>50</td><td>36</td></tr><tr><td>51</td><td>19</td></tr><tr><td>52</td><td>24</td></tr><tr><td>53</td><td>19</td></tr><tr><td>54</td><td>34</td></tr><tr><td>55</td><td>29</td></tr><tr><td>56</td><td>20</td></tr><tr><td>57</td><td>23</td></tr><tr><td>58</td><td>20</td></tr><tr><td>59</td><td>27</td></tr><tr><td>60</td><td>29</td></tr><tr><td>61</td><td>26</td></tr><tr><td>62</td><td>21</td></tr><tr><td>63</td><td>19</td></tr><tr><td>64</td><td>26</td></tr></table>"
                    },
                    "metadata": {}
                }
            ],
            "execution_count": 32
        },
        {
            "cell_type": "code",
            "source": [
                "SELECT \r\n",
                "    Faixa_Idade,\r\n",
                "    COUNT(*) AS 'Total'\r\n",
                "FROM baseRH\r\n",
                "GROUP BY Faixa_Idade\r\n",
                "ORDER BY Faixa_Idade ASC"
            ],
            "metadata": {
                "azdata_cell_guid": "4210bb50-e37b-49df-95d2-67f0b631f0f5",
                "language": "sql"
            },
            "outputs": [
                {
                    "output_type": "display_data",
                    "data": {
                        "text/html": "(4 rows affected)"
                    },
                    "metadata": {}
                },
                {
                    "output_type": "display_data",
                    "data": {
                        "text/html": "Total execution time: 00:00:00.021"
                    },
                    "metadata": {}
                },
                {
                    "output_type": "execute_result",
                    "execution_count": 33,
                    "data": {
                        "application/vnd.dataresource+json": {
                            "schema": {
                                "fields": [
                                    {
                                        "name": "Faixa_Idade"
                                    },
                                    {
                                        "name": "Total"
                                    }
                                ]
                            },
                            "data": [
                                {
                                    "Faixa_Idade": "24-34",
                                    "Total": "258"
                                },
                                {
                                    "Faixa_Idade": "35-44",
                                    "Total": "250"
                                },
                                {
                                    "Faixa_Idade": "45-54",
                                    "Total": "252"
                                },
                                {
                                    "Faixa_Idade": "55-64",
                                    "Total": "240"
                                }
                            ]
                        },
                        "text/html": "<table><tr><th>Faixa_Idade</th><th>Total</th></tr><tr><td>24-34</td><td>258</td></tr><tr><td>35-44</td><td>250</td></tr><tr><td>45-54</td><td>252</td></tr><tr><td>55-64</td><td>240</td></tr></table>"
                    },
                    "metadata": {}
                }
            ],
            "execution_count": 33
        },
        {
            "cell_type": "code",
            "source": [
                "SELECT \r\n",
                "    Idade,\r\n",
                "    Salário\r\n",
                "FROM baseRH"
            ],
            "metadata": {
                "azdata_cell_guid": "d634f135-9853-412c-b8cf-61f42d528256",
                "language": "sql"
            },
            "outputs": [
                {
                    "output_type": "display_data",
                    "data": {
                        "text/html": "(1000 rows affected)"
                    },
                    "metadata": {}
                },
                {
                    "output_type": "display_data",
                    "data": {
                        "text/html": "Total execution time: 00:00:00.015"
                    },
                    "metadata": {}
                },
                {
                    "output_type": "execute_result",
                    "execution_count": 36,
                    "data": {
                        "application/vnd.dataresource+json": {
                            "schema": {
                                "fields": [
                                    {
                                        "name": "Idade"
                                    },
                                    {
                                        "name": "Salário"
                                    }
                                ]
                            },
                            "data": [
                                {
                                    "Idade": "28",
                                    "Salário": "7000"
                                },
                                {
                                    "Idade": "36",
                                    "Salário": "15000"
                                },
                                {
                                    "Idade": "36",
                                    "Salário": "15000"
                                },
                                {
                                    "Idade": "36",
                                    "Salário": "15000"
                                },
                                {
                                    "Idade": "30",
                                    "Salário": "5000"
                                },
                                {
                                    "Idade": "43",
                                    "Salário": "7000"
                                },
                                {
                                    "Idade": "33",
                                    "Salário": "2500"
                                },
                                {
                                    "Idade": "63",
                                    "Salário": "1200"
                                },
                                {
                                    "Idade": "46",
                                    "Salário": "3500"
                                },
                                {
                                    "Idade": "54",
                                    "Salário": "2500"
                                },
                                {
                                    "Idade": "27",
                                    "Salário": "15000"
                                },
                                {
                                    "Idade": "40",
                                    "Salário": "5000"
                                },
                                {
                                    "Idade": "44",
                                    "Salário": "7000"
                                },
                                {
                                    "Idade": "60",
                                    "Salário": "2500"
                                },
                                {
                                    "Idade": "37",
                                    "Salário": "15000"
                                },
                                {
                                    "Idade": "31",
                                    "Salário": "7000"
                                },
                                {
                                    "Idade": "49",
                                    "Salário": "10000"
                                },
                                {
                                    "Idade": "40",
                                    "Salário": "3500"
                                },
                                {
                                    "Idade": "33",
                                    "Salário": "5000"
                                },
                                {
                                    "Idade": "56",
                                    "Salário": "1200"
                                },
                                {
                                    "Idade": "40",
                                    "Salário": "10000"
                                },
                                {
                                    "Idade": "31",
                                    "Salário": "1200"
                                },
                                {
                                    "Idade": "38",
                                    "Salário": "10000"
                                },
                                {
                                    "Idade": "48",
                                    "Salário": "1200"
                                },
                                {
                                    "Idade": "60",
                                    "Salário": "3500"
                                },
                                {
                                    "Idade": "31",
                                    "Salário": "2500"
                                },
                                {
                                    "Idade": "34",
                                    "Salário": "2500"
                                },
                                {
                                    "Idade": "32",
                                    "Salário": "3500"
                                },
                                {
                                    "Idade": "41",
                                    "Salário": "3500"
                                },
                                {
                                    "Idade": "26",
                                    "Salário": "15000"
                                },
                                {
                                    "Idade": "31",
                                    "Salário": "1200"
                                },
                                {
                                    "Idade": "34",
                                    "Salário": "7000"
                                },
                                {
                                    "Idade": "64",
                                    "Salário": "2500"
                                },
                                {
                                    "Idade": "52",
                                    "Salário": "10000"
                                },
                                {
                                    "Idade": "46",
                                    "Salário": "7000"
                                },
                                {
                                    "Idade": "39",
                                    "Salário": "2500"
                                },
                                {
                                    "Idade": "63",
                                    "Salário": "7000"
                                },
                                {
                                    "Idade": "27",
                                    "Salário": "5000"
                                },
                                {
                                    "Idade": "59",
                                    "Salário": "3500"
                                },
                                {
                                    "Idade": "45",
                                    "Salário": "15000"
                                },
                                {
                                    "Idade": "35",
                                    "Salário": "2500"
                                },
                                {
                                    "Idade": "54",
                                    "Salário": "2500"
                                },
                                {
                                    "Idade": "50",
                                    "Salário": "15000"
                                },
                                {
                                    "Idade": "57",
                                    "Salário": "15000"
                                },
                                {
                                    "Idade": "48",
                                    "Salário": "15000"
                                },
                                {
                                    "Idade": "57",
                                    "Salário": "1200"
                                },
                                {
                                    "Idade": "33",
                                    "Salário": "7000"
                                },
                                {
                                    "Idade": "57",
                                    "Salário": "2500"
                                },
                                {
                                    "Idade": "49",
                                    "Salário": "15000"
                                },
                                {
                                    "Idade": "25",
                                    "Salário": "10000"
                                },
                                {
                                    "Idade": "59",
                                    "Salário": "5000"
                                },
                                {
                                    "Idade": "54",
                                    "Salário": "2500"
                                },
                                {
                                    "Idade": "26",
                                    "Salário": "3500"
                                },
                                {
                                    "Idade": "25",
                                    "Salário": "2500"
                                },
                                {
                                    "Idade": "26",
                                    "Salário": "10000"
                                },
                                {
                                    "Idade": "33",
                                    "Salário": "1200"
                                },
                                {
                                    "Idade": "60",
                                    "Salário": "10000"
                                },
                                {
                                    "Idade": "51",
                                    "Salário": "2500"
                                },
                                {
                                    "Idade": "35",
                                    "Salário": "1200"
                                },
                                {
                                    "Idade": "26",
                                    "Salário": "1200"
                                },
                                {
                                    "Idade": "57",
                                    "Salário": "1200"
                                },
                                {
                                    "Idade": "29",
                                    "Salário": "3500"
                                },
                                {
                                    "Idade": "29",
                                    "Salário": "10000"
                                },
                                {
                                    "Idade": "53",
                                    "Salário": "2500"
                                },
                                {
                                    "Idade": "34",
                                    "Salário": "3500"
                                },
                                {
                                    "Idade": "35",
                                    "Salário": "1200"
                                },
                                {
                                    "Idade": "28",
                                    "Salário": "1200"
                                },
                                {
                                    "Idade": "36",
                                    "Salário": "1200"
                                },
                                {
                                    "Idade": "46",
                                    "Salário": "10000"
                                },
                                {
                                    "Idade": "46",
                                    "Salário": "10000"
                                },
                                {
                                    "Idade": "42",
                                    "Salário": "10000"
                                },
                                {
                                    "Idade": "38",
                                    "Salário": "7000"
                                },
                                {
                                    "Idade": "51",
                                    "Salário": "3500"
                                },
                                {
                                    "Idade": "54",
                                    "Salário": "3500"
                                },
                                {
                                    "Idade": "24",
                                    "Salário": "1200"
                                },
                                {
                                    "Idade": "50",
                                    "Salário": "2500"
                                },
                                {
                                    "Idade": "54",
                                    "Salário": "7000"
                                },
                                {
                                    "Idade": "46",
                                    "Salário": "2500"
                                },
                                {
                                    "Idade": "62",
                                    "Salário": "1200"
                                },
                                {
                                    "Idade": "28",
                                    "Salário": "3500"
                                },
                                {
                                    "Idade": "63",
                                    "Salário": "7000"
                                },
                                {
                                    "Idade": "46",
                                    "Salário": "3500"
                                },
                                {
                                    "Idade": "49",
                                    "Salário": "3500"
                                },
                                {
                                    "Idade": "49",
                                    "Salário": "15000"
                                },
                                {
                                    "Idade": "56",
                                    "Salário": "7000"
                                },
                                {
                                    "Idade": "56",
                                    "Salário": "2500"
                                },
                                {
                                    "Idade": "33",
                                    "Salário": "3500"
                                },
                                {
                                    "Idade": "54",
                                    "Salário": "15000"
                                },
                                {
                                    "Idade": "61",
                                    "Salário": "2500"
                                },
                                {
                                    "Idade": "37",
                                    "Salário": "3500"
                                },
                                {
                                    "Idade": "27",
                                    "Salário": "15000"
                                },
                                {
                                    "Idade": "48",
                                    "Salário": "10000"
                                },
                                {
                                    "Idade": "37",
                                    "Salário": "5000"
                                },
                                {
                                    "Idade": "42",
                                    "Salário": "3500"
                                },
                                {
                                    "Idade": "60",
                                    "Salário": "15000"
                                },
                                {
                                    "Idade": "37",
                                    "Salário": "15000"
                                },
                                {
                                    "Idade": "36",
                                    "Salário": "3500"
                                },
                                {
                                    "Idade": "39",
                                    "Salário": "5000"
                                },
                                {
                                    "Idade": "29",
                                    "Salário": "3500"
                                },
                                {
                                    "Idade": "48",
                                    "Salário": "2500"
                                },
                                {
                                    "Idade": "28",
                                    "Salário": "7000"
                                },
                                {
                                    "Idade": "61",
                                    "Salário": "2500"
                                },
                                {
                                    "Idade": "51",
                                    "Salário": "5000"
                                },
                                {
                                    "Idade": "32",
                                    "Salário": "1200"
                                },
                                {
                                    "Idade": "55",
                                    "Salário": "15000"
                                },
                                {
                                    "Idade": "40",
                                    "Salário": "2500"
                                },
                                {
                                    "Idade": "29",
                                    "Salário": "5000"
                                },
                                {
                                    "Idade": "50",
                                    "Salário": "10000"
                                },
                                {
                                    "Idade": "37",
                                    "Salário": "2500"
                                },
                                {
                                    "Idade": "39",
                                    "Salário": "7000"
                                },
                                {
                                    "Idade": "28",
                                    "Salário": "5000"
                                },
                                {
                                    "Idade": "59",
                                    "Salário": "2500"
                                },
                                {
                                    "Idade": "30",
                                    "Salário": "2500"
                                },
                                {
                                    "Idade": "27",
                                    "Salário": "15000"
                                },
                                {
                                    "Idade": "57",
                                    "Salário": "10000"
                                },
                                {
                                    "Idade": "44",
                                    "Salário": "10000"
                                },
                                {
                                    "Idade": "56",
                                    "Salário": "5000"
                                },
                                {
                                    "Idade": "39",
                                    "Salário": "2500"
                                },
                                {
                                    "Idade": "38",
                                    "Salário": "5000"
                                },
                                {
                                    "Idade": "34",
                                    "Salário": "2500"
                                },
                                {
                                    "Idade": "53",
                                    "Salário": "15000"
                                },
                                {
                                    "Idade": "50",
                                    "Salário": "15000"
                                },
                                {
                                    "Idade": "61",
                                    "Salário": "3500"
                                },
                                {
                                    "Idade": "52",
                                    "Salário": "7000"
                                },
                                {
                                    "Idade": "61",
                                    "Salário": "10000"
                                },
                                {
                                    "Idade": "61",
                                    "Salário": "15000"
                                },
                                {
                                    "Idade": "38",
                                    "Salário": "15000"
                                },
                                {
                                    "Idade": "64",
                                    "Salário": "15000"
                                },
                                {
                                    "Idade": "35",
                                    "Salário": "5000"
                                },
                                {
                                    "Idade": "45",
                                    "Salário": "3500"
                                },
                                {
                                    "Idade": "52",
                                    "Salário": "1200"
                                },
                                {
                                    "Idade": "36",
                                    "Salário": "15000"
                                },
                                {
                                    "Idade": "40",
                                    "Salário": "10000"
                                },
                                {
                                    "Idade": "37",
                                    "Salário": "2500"
                                },
                                {
                                    "Idade": "45",
                                    "Salário": "2500"
                                },
                                {
                                    "Idade": "28",
                                    "Salário": "2500"
                                },
                                {
                                    "Idade": "31",
                                    "Salário": "10000"
                                },
                                {
                                    "Idade": "45",
                                    "Salário": "10000"
                                },
                                {
                                    "Idade": "43",
                                    "Salário": "5000"
                                },
                                {
                                    "Idade": "31",
                                    "Salário": "1200"
                                },
                                {
                                    "Idade": "60",
                                    "Salário": "1200"
                                },
                                {
                                    "Idade": "24",
                                    "Salário": "5000"
                                },
                                {
                                    "Idade": "36",
                                    "Salário": "10000"
                                },
                                {
                                    "Idade": "62",
                                    "Salário": "1200"
                                },
                                {
                                    "Idade": "43",
                                    "Salário": "2500"
                                },
                                {
                                    "Idade": "24",
                                    "Salário": "5000"
                                },
                                {
                                    "Idade": "52",
                                    "Salário": "2500"
                                },
                                {
                                    "Idade": "47",
                                    "Salário": "3500"
                                },
                                {
                                    "Idade": "28",
                                    "Salário": "10000"
                                },
                                {
                                    "Idade": "49",
                                    "Salário": "7000"
                                },
                                {
                                    "Idade": "54",
                                    "Salário": "2500"
                                },
                                {
                                    "Idade": "41",
                                    "Salário": "10000"
                                },
                                {
                                    "Idade": "24",
                                    "Salário": "10000"
                                },
                                {
                                    "Idade": "61",
                                    "Salário": "7000"
                                },
                                {
                                    "Idade": "63",
                                    "Salário": "15000"
                                },
                                {
                                    "Idade": "55",
                                    "Salário": "7000"
                                },
                                {
                                    "Idade": "47",
                                    "Salário": "2500"
                                },
                                {
                                    "Idade": "28",
                                    "Salário": "7000"
                                },
                                {
                                    "Idade": "55",
                                    "Salário": "3500"
                                },
                                {
                                    "Idade": "53",
                                    "Salário": "1200"
                                },
                                {
                                    "Idade": "29",
                                    "Salário": "1200"
                                },
                                {
                                    "Idade": "48",
                                    "Salário": "7000"
                                },
                                {
                                    "Idade": "56",
                                    "Salário": "3500"
                                },
                                {
                                    "Idade": "29",
                                    "Salário": "2500"
                                },
                                {
                                    "Idade": "29",
                                    "Salário": "3500"
                                },
                                {
                                    "Idade": "62",
                                    "Salário": "3500"
                                },
                                {
                                    "Idade": "39",
                                    "Salário": "5000"
                                },
                                {
                                    "Idade": "47",
                                    "Salário": "7000"
                                },
                                {
                                    "Idade": "34",
                                    "Salário": "7000"
                                },
                                {
                                    "Idade": "53",
                                    "Salário": "2500"
                                },
                                {
                                    "Idade": "43",
                                    "Salário": "5000"
                                },
                                {
                                    "Idade": "63",
                                    "Salário": "1200"
                                },
                                {
                                    "Idade": "34",
                                    "Salário": "7000"
                                },
                                {
                                    "Idade": "56",
                                    "Salário": "3500"
                                },
                                {
                                    "Idade": "52",
                                    "Salário": "1200"
                                },
                                {
                                    "Idade": "51",
                                    "Salário": "7000"
                                },
                                {
                                    "Idade": "29",
                                    "Salário": "2500"
                                },
                                {
                                    "Idade": "27",
                                    "Salário": "3500"
                                },
                                {
                                    "Idade": "34",
                                    "Salário": "3500"
                                },
                                {
                                    "Idade": "24",
                                    "Salário": "5000"
                                },
                                {
                                    "Idade": "52",
                                    "Salário": "15000"
                                },
                                {
                                    "Idade": "41",
                                    "Salário": "5000"
                                },
                                {
                                    "Idade": "43",
                                    "Salário": "3500"
                                },
                                {
                                    "Idade": "58",
                                    "Salário": "1200"
                                },
                                {
                                    "Idade": "61",
                                    "Salário": "3500"
                                },
                                {
                                    "Idade": "34",
                                    "Salário": "7000"
                                },
                                {
                                    "Idade": "61",
                                    "Salário": "3500"
                                },
                                {
                                    "Idade": "51",
                                    "Salário": "2500"
                                },
                                {
                                    "Idade": "56",
                                    "Salário": "7000"
                                },
                                {
                                    "Idade": "47",
                                    "Salário": "2500"
                                },
                                {
                                    "Idade": "62",
                                    "Salário": "10000"
                                },
                                {
                                    "Idade": "39",
                                    "Salário": "3500"
                                },
                                {
                                    "Idade": "50",
                                    "Salário": "7000"
                                },
                                {
                                    "Idade": "59",
                                    "Salário": "2500"
                                },
                                {
                                    "Idade": "46",
                                    "Salário": "10000"
                                },
                                {
                                    "Idade": "39",
                                    "Salário": "5000"
                                },
                                {
                                    "Idade": "40",
                                    "Salário": "3500"
                                },
                                {
                                    "Idade": "53",
                                    "Salário": "2500"
                                },
                                {
                                    "Idade": "60",
                                    "Salário": "15000"
                                },
                                {
                                    "Idade": "52",
                                    "Salário": "15000"
                                },
                                {
                                    "Idade": "50",
                                    "Salário": "15000"
                                },
                                {
                                    "Idade": "54",
                                    "Salário": "3500"
                                },
                                {
                                    "Idade": "43",
                                    "Salário": "10000"
                                },
                                {
                                    "Idade": "59",
                                    "Salário": "3500"
                                },
                                {
                                    "Idade": "27",
                                    "Salário": "1200"
                                },
                                {
                                    "Idade": "34",
                                    "Salário": "3500"
                                },
                                {
                                    "Idade": "49",
                                    "Salário": "5000"
                                },
                                {
                                    "Idade": "61",
                                    "Salário": "7000"
                                },
                                {
                                    "Idade": "63",
                                    "Salário": "3500"
                                },
                                {
                                    "Idade": "49",
                                    "Salário": "3500"
                                },
                                {
                                    "Idade": "36",
                                    "Salário": "15000"
                                },
                                {
                                    "Idade": "30",
                                    "Salário": "15000"
                                },
                                {
                                    "Idade": "51",
                                    "Salário": "10000"
                                },
                                {
                                    "Idade": "59",
                                    "Salário": "15000"
                                },
                                {
                                    "Idade": "28",
                                    "Salário": "2500"
                                },
                                {
                                    "Idade": "41",
                                    "Salário": "7000"
                                },
                                {
                                    "Idade": "52",
                                    "Salário": "5000"
                                },
                                {
                                    "Idade": "39",
                                    "Salário": "1200"
                                },
                                {
                                    "Idade": "60",
                                    "Salário": "7000"
                                },
                                {
                                    "Idade": "46",
                                    "Salário": "15000"
                                },
                                {
                                    "Idade": "30",
                                    "Salário": "3500"
                                },
                                {
                                    "Idade": "52",
                                    "Salário": "3500"
                                },
                                {
                                    "Idade": "47",
                                    "Salário": "10000"
                                },
                                {
                                    "Idade": "47",
                                    "Salário": "1200"
                                },
                                {
                                    "Idade": "45",
                                    "Salário": "3500"
                                },
                                {
                                    "Idade": "58",
                                    "Salário": "10000"
                                },
                                {
                                    "Idade": "48",
                                    "Salário": "3500"
                                },
                                {
                                    "Idade": "34",
                                    "Salário": "3500"
                                },
                                {
                                    "Idade": "26",
                                    "Salário": "7000"
                                },
                                {
                                    "Idade": "59",
                                    "Salário": "10000"
                                },
                                {
                                    "Idade": "56",
                                    "Salário": "15000"
                                },
                                {
                                    "Idade": "42",
                                    "Salário": "5000"
                                },
                                {
                                    "Idade": "30",
                                    "Salário": "10000"
                                },
                                {
                                    "Idade": "30",
                                    "Salário": "2500"
                                },
                                {
                                    "Idade": "40",
                                    "Salário": "1200"
                                },
                                {
                                    "Idade": "24",
                                    "Salário": "10000"
                                },
                                {
                                    "Idade": "47",
                                    "Salário": "15000"
                                },
                                {
                                    "Idade": "55",
                                    "Salário": "10000"
                                },
                                {
                                    "Idade": "41",
                                    "Salário": "2500"
                                },
                                {
                                    "Idade": "47",
                                    "Salário": "5000"
                                },
                                {
                                    "Idade": "30",
                                    "Salário": "2500"
                                },
                                {
                                    "Idade": "45",
                                    "Salário": "15000"
                                },
                                {
                                    "Idade": "37",
                                    "Salário": "10000"
                                },
                                {
                                    "Idade": "49",
                                    "Salário": "3500"
                                },
                                {
                                    "Idade": "30",
                                    "Salário": "15000"
                                },
                                {
                                    "Idade": "62",
                                    "Salário": "2500"
                                },
                                {
                                    "Idade": "35",
                                    "Salário": "10000"
                                },
                                {
                                    "Idade": "29",
                                    "Salário": "10000"
                                },
                                {
                                    "Idade": "41",
                                    "Salário": "10000"
                                },
                                {
                                    "Idade": "50",
                                    "Salário": "5000"
                                },
                                {
                                    "Idade": "27",
                                    "Salário": "15000"
                                },
                                {
                                    "Idade": "57",
                                    "Salário": "10000"
                                },
                                {
                                    "Idade": "49",
                                    "Salário": "3500"
                                },
                                {
                                    "Idade": "60",
                                    "Salário": "7000"
                                },
                                {
                                    "Idade": "48",
                                    "Salário": "5000"
                                },
                                {
                                    "Idade": "35",
                                    "Salário": "1200"
                                },
                                {
                                    "Idade": "52",
                                    "Salário": "15000"
                                },
                                {
                                    "Idade": "42",
                                    "Salário": "5000"
                                },
                                {
                                    "Idade": "49",
                                    "Salário": "5000"
                                },
                                {
                                    "Idade": "30",
                                    "Salário": "10000"
                                },
                                {
                                    "Idade": "45",
                                    "Salário": "2500"
                                },
                                {
                                    "Idade": "36",
                                    "Salário": "7000"
                                },
                                {
                                    "Idade": "39",
                                    "Salário": "15000"
                                },
                                {
                                    "Idade": "35",
                                    "Salário": "2500"
                                },
                                {
                                    "Idade": "50",
                                    "Salário": "7000"
                                },
                                {
                                    "Idade": "34",
                                    "Salário": "5000"
                                },
                                {
                                    "Idade": "24",
                                    "Salário": "2500"
                                },
                                {
                                    "Idade": "50",
                                    "Salário": "3500"
                                },
                                {
                                    "Idade": "38",
                                    "Salário": "3500"
                                },
                                {
                                    "Idade": "55",
                                    "Salário": "15000"
                                },
                                {
                                    "Idade": "50",
                                    "Salário": "3500"
                                },
                                {
                                    "Idade": "29",
                                    "Salário": "5000"
                                },
                                {
                                    "Idade": "27",
                                    "Salário": "3500"
                                },
                                {
                                    "Idade": "54",
                                    "Salário": "2500"
                                },
                                {
                                    "Idade": "30",
                                    "Salário": "5000"
                                },
                                {
                                    "Idade": "41",
                                    "Salário": "10000"
                                },
                                {
                                    "Idade": "57",
                                    "Salário": "1200"
                                },
                                {
                                    "Idade": "35",
                                    "Salário": "10000"
                                },
                                {
                                    "Idade": "56",
                                    "Salário": "2500"
                                },
                                {
                                    "Idade": "44",
                                    "Salário": "10000"
                                },
                                {
                                    "Idade": "42",
                                    "Salário": "2500"
                                },
                                {
                                    "Idade": "54",
                                    "Salário": "7000"
                                },
                                {
                                    "Idade": "58",
                                    "Salário": "15000"
                                },
                                {
                                    "Idade": "41",
                                    "Salário": "1200"
                                },
                                {
                                    "Idade": "29",
                                    "Salário": "10000"
                                },
                                {
                                    "Idade": "49",
                                    "Salário": "7000"
                                },
                                {
                                    "Idade": "54",
                                    "Salário": "10000"
                                },
                                {
                                    "Idade": "27",
                                    "Salário": "3500"
                                },
                                {
                                    "Idade": "38",
                                    "Salário": "15000"
                                },
                                {
                                    "Idade": "35",
                                    "Salário": "10000"
                                },
                                {
                                    "Idade": "46",
                                    "Salário": "2500"
                                },
                                {
                                    "Idade": "43",
                                    "Salário": "1200"
                                },
                                {
                                    "Idade": "55",
                                    "Salário": "15000"
                                },
                                {
                                    "Idade": "45",
                                    "Salário": "2500"
                                },
                                {
                                    "Idade": "37",
                                    "Salário": "7000"
                                },
                                {
                                    "Idade": "54",
                                    "Salário": "7000"
                                },
                                {
                                    "Idade": "50",
                                    "Salário": "15000"
                                },
                                {
                                    "Idade": "38",
                                    "Salário": "10000"
                                },
                                {
                                    "Idade": "30",
                                    "Salário": "5000"
                                },
                                {
                                    "Idade": "42",
                                    "Salário": "5000"
                                },
                                {
                                    "Idade": "45",
                                    "Salário": "5000"
                                },
                                {
                                    "Idade": "56",
                                    "Salário": "5000"
                                },
                                {
                                    "Idade": "52",
                                    "Salário": "10000"
                                },
                                {
                                    "Idade": "35",
                                    "Salário": "5000"
                                },
                                {
                                    "Idade": "63",
                                    "Salário": "5000"
                                },
                                {
                                    "Idade": "64",
                                    "Salário": "1200"
                                },
                                {
                                    "Idade": "45",
                                    "Salário": "10000"
                                },
                                {
                                    "Idade": "64",
                                    "Salário": "7000"
                                },
                                {
                                    "Idade": "46",
                                    "Salário": "15000"
                                },
                                {
                                    "Idade": "42",
                                    "Salário": "2500"
                                },
                                {
                                    "Idade": "57",
                                    "Salário": "2500"
                                },
                                {
                                    "Idade": "36",
                                    "Salário": "1200"
                                },
                                {
                                    "Idade": "62",
                                    "Salário": "1200"
                                },
                                {
                                    "Idade": "38",
                                    "Salário": "7000"
                                },
                                {
                                    "Idade": "46",
                                    "Salário": "15000"
                                },
                                {
                                    "Idade": "50",
                                    "Salário": "3500"
                                },
                                {
                                    "Idade": "50",
                                    "Salário": "3500"
                                },
                                {
                                    "Idade": "45",
                                    "Salário": "10000"
                                },
                                {
                                    "Idade": "48",
                                    "Salário": "15000"
                                },
                                {
                                    "Idade": "43",
                                    "Salário": "1200"
                                },
                                {
                                    "Idade": "26",
                                    "Salário": "5000"
                                },
                                {
                                    "Idade": "33",
                                    "Salário": "5000"
                                },
                                {
                                    "Idade": "24",
                                    "Salário": "1200"
                                },
                                {
                                    "Idade": "38",
                                    "Salário": "15000"
                                },
                                {
                                    "Idade": "40",
                                    "Salário": "5000"
                                },
                                {
                                    "Idade": "44",
                                    "Salário": "7000"
                                },
                                {
                                    "Idade": "38",
                                    "Salário": "10000"
                                },
                                {
                                    "Idade": "31",
                                    "Salário": "2500"
                                },
                                {
                                    "Idade": "51",
                                    "Salário": "15000"
                                },
                                {
                                    "Idade": "57",
                                    "Salário": "5000"
                                },
                                {
                                    "Idade": "46",
                                    "Salário": "5000"
                                },
                                {
                                    "Idade": "64",
                                    "Salário": "1200"
                                },
                                {
                                    "Idade": "28",
                                    "Salário": "15000"
                                },
                                {
                                    "Idade": "39",
                                    "Salário": "15000"
                                },
                                {
                                    "Idade": "32",
                                    "Salário": "3500"
                                },
                                {
                                    "Idade": "43",
                                    "Salário": "5000"
                                },
                                {
                                    "Idade": "30",
                                    "Salário": "1200"
                                },
                                {
                                    "Idade": "36",
                                    "Salário": "2500"
                                },
                                {
                                    "Idade": "50",
                                    "Salário": "10000"
                                },
                                {
                                    "Idade": "32",
                                    "Salário": "2500"
                                },
                                {
                                    "Idade": "25",
                                    "Salário": "3500"
                                },
                                {
                                    "Idade": "54",
                                    "Salário": "2500"
                                },
                                {
                                    "Idade": "59",
                                    "Salário": "5000"
                                },
                                {
                                    "Idade": "58",
                                    "Salário": "3500"
                                },
                                {
                                    "Idade": "25",
                                    "Salário": "5000"
                                },
                                {
                                    "Idade": "56",
                                    "Salário": "2500"
                                },
                                {
                                    "Idade": "38",
                                    "Salário": "2500"
                                },
                                {
                                    "Idade": "26",
                                    "Salário": "10000"
                                },
                                {
                                    "Idade": "61",
                                    "Salário": "10000"
                                },
                                {
                                    "Idade": "29",
                                    "Salário": "5000"
                                },
                                {
                                    "Idade": "30",
                                    "Salário": "5000"
                                },
                                {
                                    "Idade": "56",
                                    "Salário": "7000"
                                },
                                {
                                    "Idade": "55",
                                    "Salário": "5000"
                                },
                                {
                                    "Idade": "38",
                                    "Salário": "10000"
                                },
                                {
                                    "Idade": "44",
                                    "Salário": "7000"
                                },
                                {
                                    "Idade": "35",
                                    "Salário": "3500"
                                },
                                {
                                    "Idade": "26",
                                    "Salário": "3500"
                                },
                                {
                                    "Idade": "50",
                                    "Salário": "5000"
                                },
                                {
                                    "Idade": "32",
                                    "Salário": "7000"
                                },
                                {
                                    "Idade": "54",
                                    "Salário": "10000"
                                },
                                {
                                    "Idade": "59",
                                    "Salário": "7000"
                                },
                                {
                                    "Idade": "64",
                                    "Salário": "1200"
                                },
                                {
                                    "Idade": "31",
                                    "Salário": "15000"
                                },
                                {
                                    "Idade": "31",
                                    "Salário": "3500"
                                },
                                {
                                    "Idade": "25",
                                    "Salário": "15000"
                                },
                                {
                                    "Idade": "27",
                                    "Salário": "7000"
                                },
                                {
                                    "Idade": "49",
                                    "Salário": "15000"
                                },
                                {
                                    "Idade": "63",
                                    "Salário": "10000"
                                },
                                {
                                    "Idade": "44",
                                    "Salário": "15000"
                                },
                                {
                                    "Idade": "40",
                                    "Salário": "10000"
                                },
                                {
                                    "Idade": "52",
                                    "Salário": "5000"
                                },
                                {
                                    "Idade": "48",
                                    "Salário": "3500"
                                },
                                {
                                    "Idade": "53",
                                    "Salário": "10000"
                                },
                                {
                                    "Idade": "46",
                                    "Salário": "3500"
                                },
                                {
                                    "Idade": "52",
                                    "Salário": "5000"
                                },
                                {
                                    "Idade": "33",
                                    "Salário": "3500"
                                },
                                {
                                    "Idade": "60",
                                    "Salário": "7000"
                                },
                                {
                                    "Idade": "50",
                                    "Salário": "2500"
                                },
                                {
                                    "Idade": "26",
                                    "Salário": "15000"
                                },
                                {
                                    "Idade": "57",
                                    "Salário": "7000"
                                },
                                {
                                    "Idade": "31",
                                    "Salário": "10000"
                                },
                                {
                                    "Idade": "30",
                                    "Salário": "1200"
                                },
                                {
                                    "Idade": "32",
                                    "Salário": "7000"
                                },
                                {
                                    "Idade": "38",
                                    "Salário": "5000"
                                },
                                {
                                    "Idade": "31",
                                    "Salário": "1200"
                                },
                                {
                                    "Idade": "29",
                                    "Salário": "1200"
                                },
                                {
                                    "Idade": "24",
                                    "Salário": "2500"
                                },
                                {
                                    "Idade": "51",
                                    "Salário": "2500"
                                },
                                {
                                    "Idade": "36",
                                    "Salário": "5000"
                                },
                                {
                                    "Idade": "40",
                                    "Salário": "2500"
                                },
                                {
                                    "Idade": "35",
                                    "Salário": "10000"
                                },
                                {
                                    "Idade": "54",
                                    "Salário": "1200"
                                },
                                {
                                    "Idade": "41",
                                    "Salário": "7000"
                                },
                                {
                                    "Idade": "49",
                                    "Salário": "2500"
                                },
                                {
                                    "Idade": "40",
                                    "Salário": "5000"
                                },
                                {
                                    "Idade": "24",
                                    "Salário": "15000"
                                },
                                {
                                    "Idade": "52",
                                    "Salário": "7000"
                                },
                                {
                                    "Idade": "39",
                                    "Salário": "5000"
                                },
                                {
                                    "Idade": "30",
                                    "Salário": "10000"
                                },
                                {
                                    "Idade": "55",
                                    "Salário": "3500"
                                },
                                {
                                    "Idade": "29",
                                    "Salário": "15000"
                                },
                                {
                                    "Idade": "36",
                                    "Salário": "5000"
                                },
                                {
                                    "Idade": "64",
                                    "Salário": "15000"
                                },
                                {
                                    "Idade": "40",
                                    "Salário": "15000"
                                },
                                {
                                    "Idade": "50",
                                    "Salário": "1200"
                                },
                                {
                                    "Idade": "49",
                                    "Salário": "5000"
                                },
                                {
                                    "Idade": "46",
                                    "Salário": "15000"
                                },
                                {
                                    "Idade": "28",
                                    "Salário": "5000"
                                },
                                {
                                    "Idade": "24",
                                    "Salário": "15000"
                                },
                                {
                                    "Idade": "35",
                                    "Salário": "3500"
                                },
                                {
                                    "Idade": "60",
                                    "Salário": "1200"
                                },
                                {
                                    "Idade": "59",
                                    "Salário": "1200"
                                },
                                {
                                    "Idade": "57",
                                    "Salário": "2500"
                                },
                                {
                                    "Idade": "49",
                                    "Salário": "5000"
                                },
                                {
                                    "Idade": "35",
                                    "Salário": "5000"
                                },
                                {
                                    "Idade": "47",
                                    "Salário": "1200"
                                },
                                {
                                    "Idade": "34",
                                    "Salário": "7000"
                                },
                                {
                                    "Idade": "64",
                                    "Salário": "3500"
                                },
                                {
                                    "Idade": "36",
                                    "Salário": "1200"
                                },
                                {
                                    "Idade": "39",
                                    "Salário": "5000"
                                },
                                {
                                    "Idade": "60",
                                    "Salário": "15000"
                                },
                                {
                                    "Idade": "52",
                                    "Salário": "1200"
                                },
                                {
                                    "Idade": "53",
                                    "Salário": "15000"
                                },
                                {
                                    "Idade": "41",
                                    "Salário": "7000"
                                },
                                {
                                    "Idade": "29",
                                    "Salário": "5000"
                                },
                                {
                                    "Idade": "25",
                                    "Salário": "7000"
                                },
                                {
                                    "Idade": "40",
                                    "Salário": "5000"
                                },
                                {
                                    "Idade": "60",
                                    "Salário": "10000"
                                },
                                {
                                    "Idade": "42",
                                    "Salário": "7000"
                                },
                                {
                                    "Idade": "53",
                                    "Salário": "2500"
                                },
                                {
                                    "Idade": "40",
                                    "Salário": "7000"
                                },
                                {
                                    "Idade": "64",
                                    "Salário": "2500"
                                },
                                {
                                    "Idade": "42",
                                    "Salário": "15000"
                                },
                                {
                                    "Idade": "49",
                                    "Salário": "5000"
                                },
                                {
                                    "Idade": "40",
                                    "Salário": "3500"
                                },
                                {
                                    "Idade": "62",
                                    "Salário": "1200"
                                },
                                {
                                    "Idade": "62",
                                    "Salário": "5000"
                                },
                                {
                                    "Idade": "46",
                                    "Salário": "10000"
                                },
                                {
                                    "Idade": "36",
                                    "Salário": "15000"
                                },
                                {
                                    "Idade": "40",
                                    "Salário": "5000"
                                },
                                {
                                    "Idade": "24",
                                    "Salário": "1200"
                                },
                                {
                                    "Idade": "52",
                                    "Salário": "7000"
                                },
                                {
                                    "Idade": "57",
                                    "Salário": "5000"
                                },
                                {
                                    "Idade": "41",
                                    "Salário": "15000"
                                },
                                {
                                    "Idade": "64",
                                    "Salário": "7000"
                                },
                                {
                                    "Idade": "35",
                                    "Salário": "15000"
                                },
                                {
                                    "Idade": "53",
                                    "Salário": "3500"
                                },
                                {
                                    "Idade": "62",
                                    "Salário": "3500"
                                },
                                {
                                    "Idade": "56",
                                    "Salário": "10000"
                                },
                                {
                                    "Idade": "32",
                                    "Salário": "1200"
                                },
                                {
                                    "Idade": "26",
                                    "Salário": "15000"
                                },
                                {
                                    "Idade": "29",
                                    "Salário": "3500"
                                },
                                {
                                    "Idade": "44",
                                    "Salário": "10000"
                                },
                                {
                                    "Idade": "54",
                                    "Salário": "7000"
                                },
                                {
                                    "Idade": "38",
                                    "Salário": "1200"
                                },
                                {
                                    "Idade": "26",
                                    "Salário": "7000"
                                },
                                {
                                    "Idade": "25",
                                    "Salário": "5000"
                                },
                                {
                                    "Idade": "58",
                                    "Salário": "3500"
                                },
                                {
                                    "Idade": "62",
                                    "Salário": "1200"
                                },
                                {
                                    "Idade": "59",
                                    "Salário": "1200"
                                },
                                {
                                    "Idade": "50",
                                    "Salário": "5000"
                                },
                                {
                                    "Idade": "30",
                                    "Salário": "1200"
                                },
                                {
                                    "Idade": "60",
                                    "Salário": "5000"
                                },
                                {
                                    "Idade": "25",
                                    "Salário": "5000"
                                },
                                {
                                    "Idade": "24",
                                    "Salário": "2500"
                                },
                                {
                                    "Idade": "48",
                                    "Salário": "10000"
                                },
                                {
                                    "Idade": "60",
                                    "Salário": "5000"
                                },
                                {
                                    "Idade": "24",
                                    "Salário": "7000"
                                },
                                {
                                    "Idade": "38",
                                    "Salário": "10000"
                                },
                                {
                                    "Idade": "31",
                                    "Salário": "15000"
                                },
                                {
                                    "Idade": "53",
                                    "Salário": "3500"
                                },
                                {
                                    "Idade": "43",
                                    "Salário": "7000"
                                },
                                {
                                    "Idade": "64",
                                    "Salário": "1200"
                                },
                                {
                                    "Idade": "34",
                                    "Salário": "1200"
                                },
                                {
                                    "Idade": "64",
                                    "Salário": "1200"
                                },
                                {
                                    "Idade": "58",
                                    "Salário": "3500"
                                },
                                {
                                    "Idade": "49",
                                    "Salário": "5000"
                                },
                                {
                                    "Idade": "39",
                                    "Salário": "10000"
                                },
                                {
                                    "Idade": "26",
                                    "Salário": "5000"
                                },
                                {
                                    "Idade": "49",
                                    "Salário": "2500"
                                },
                                {
                                    "Idade": "64",
                                    "Salário": "10000"
                                },
                                {
                                    "Idade": "26",
                                    "Salário": "2500"
                                },
                                {
                                    "Idade": "62",
                                    "Salário": "1200"
                                },
                                {
                                    "Idade": "35",
                                    "Salário": "10000"
                                },
                                {
                                    "Idade": "55",
                                    "Salário": "15000"
                                },
                                {
                                    "Idade": "63",
                                    "Salário": "10000"
                                },
                                {
                                    "Idade": "54",
                                    "Salário": "5000"
                                },
                                {
                                    "Idade": "31",
                                    "Salário": "10000"
                                },
                                {
                                    "Idade": "60",
                                    "Salário": "7000"
                                },
                                {
                                    "Idade": "41",
                                    "Salário": "1200"
                                },
                                {
                                    "Idade": "63",
                                    "Salário": "1200"
                                },
                                {
                                    "Idade": "59",
                                    "Salário": "7000"
                                },
                                {
                                    "Idade": "57",
                                    "Salário": "3500"
                                },
                                {
                                    "Idade": "35",
                                    "Salário": "2500"
                                },
                                {
                                    "Idade": "38",
                                    "Salário": "7000"
                                },
                                {
                                    "Idade": "42",
                                    "Salário": "7000"
                                },
                                {
                                    "Idade": "28",
                                    "Salário": "5000"
                                },
                                {
                                    "Idade": "58",
                                    "Salário": "1200"
                                },
                                {
                                    "Idade": "26",
                                    "Salário": "7000"
                                },
                                {
                                    "Idade": "33",
                                    "Salário": "15000"
                                },
                                {
                                    "Idade": "61",
                                    "Salário": "2500"
                                },
                                {
                                    "Idade": "50",
                                    "Salário": "15000"
                                },
                                {
                                    "Idade": "33",
                                    "Salário": "3500"
                                },
                                {
                                    "Idade": "55",
                                    "Salário": "3500"
                                },
                                {
                                    "Idade": "42",
                                    "Salário": "5000"
                                },
                                {
                                    "Idade": "58",
                                    "Salário": "5000"
                                },
                                {
                                    "Idade": "47",
                                    "Salário": "1200"
                                },
                                {
                                    "Idade": "24",
                                    "Salário": "15000"
                                },
                                {
                                    "Idade": "46",
                                    "Salário": "5000"
                                },
                                {
                                    "Idade": "45",
                                    "Salário": "15000"
                                },
                                {
                                    "Idade": "35",
                                    "Salário": "2500"
                                },
                                {
                                    "Idade": "50",
                                    "Salário": "3500"
                                },
                                {
                                    "Idade": "63",
                                    "Salário": "7000"
                                },
                                {
                                    "Idade": "27",
                                    "Salário": "1200"
                                },
                                {
                                    "Idade": "56",
                                    "Salário": "2500"
                                },
                                {
                                    "Idade": "53",
                                    "Salário": "5000"
                                },
                                {
                                    "Idade": "43",
                                    "Salário": "15000"
                                },
                                {
                                    "Idade": "43",
                                    "Salário": "10000"
                                },
                                {
                                    "Idade": "38",
                                    "Salário": "10000"
                                },
                                {
                                    "Idade": "64",
                                    "Salário": "7000"
                                },
                                {
                                    "Idade": "61",
                                    "Salário": "15000"
                                },
                                {
                                    "Idade": "32",
                                    "Salário": "15000"
                                },
                                {
                                    "Idade": "51",
                                    "Salário": "1200"
                                },
                                {
                                    "Idade": "54",
                                    "Salário": "7000"
                                },
                                {
                                    "Idade": "51",
                                    "Salário": "1200"
                                },
                                {
                                    "Idade": "39",
                                    "Salário": "1200"
                                },
                                {
                                    "Idade": "60",
                                    "Salário": "3500"
                                },
                                {
                                    "Idade": "24",
                                    "Salário": "15000"
                                },
                                {
                                    "Idade": "31",
                                    "Salário": "15000"
                                },
                                {
                                    "Idade": "30",
                                    "Salário": "10000"
                                },
                                {
                                    "Idade": "52",
                                    "Salário": "1200"
                                },
                                {
                                    "Idade": "24",
                                    "Salário": "7000"
                                },
                                {
                                    "Idade": "37",
                                    "Salário": "3500"
                                },
                                {
                                    "Idade": "24",
                                    "Salário": "10000"
                                },
                                {
                                    "Idade": "53",
                                    "Salário": "5000"
                                },
                                {
                                    "Idade": "37",
                                    "Salário": "3500"
                                },
                                {
                                    "Idade": "54",
                                    "Salário": "5000"
                                },
                                {
                                    "Idade": "56",
                                    "Salário": "3500"
                                },
                                {
                                    "Idade": "48",
                                    "Salário": "7000"
                                },
                                {
                                    "Idade": "31",
                                    "Salário": "2500"
                                },
                                {
                                    "Idade": "55",
                                    "Salário": "10000"
                                },
                                {
                                    "Idade": "50",
                                    "Salário": "3500"
                                },
                                {
                                    "Idade": "44",
                                    "Salário": "15000"
                                },
                                {
                                    "Idade": "41",
                                    "Salário": "3500"
                                },
                                {
                                    "Idade": "50",
                                    "Salário": "15000"
                                },
                                {
                                    "Idade": "54",
                                    "Salário": "10000"
                                },
                                {
                                    "Idade": "45",
                                    "Salário": "5000"
                                },
                                {
                                    "Idade": "41",
                                    "Salário": "15000"
                                },
                                {
                                    "Idade": "42",
                                    "Salário": "3500"
                                },
                                {
                                    "Idade": "47",
                                    "Salário": "10000"
                                },
                                {
                                    "Idade": "35",
                                    "Salário": "7000"
                                },
                                {
                                    "Idade": "33",
                                    "Salário": "15000"
                                },
                                {
                                    "Idade": "44",
                                    "Salário": "3500"
                                },
                                {
                                    "Idade": "42",
                                    "Salário": "2500"
                                },
                                {
                                    "Idade": "34",
                                    "Salário": "7000"
                                },
                                {
                                    "Idade": "60",
                                    "Salário": "3500"
                                },
                                {
                                    "Idade": "46",
                                    "Salário": "1200"
                                },
                                {
                                    "Idade": "64",
                                    "Salário": "1200"
                                },
                                {
                                    "Idade": "26",
                                    "Salário": "15000"
                                },
                                {
                                    "Idade": "60",
                                    "Salário": "1200"
                                },
                                {
                                    "Idade": "54",
                                    "Salário": "10000"
                                },
                                {
                                    "Idade": "53",
                                    "Salário": "2500"
                                },
                                {
                                    "Idade": "54",
                                    "Salário": "10000"
                                },
                                {
                                    "Idade": "54",
                                    "Salário": "7000"
                                },
                                {
                                    "Idade": "59",
                                    "Salário": "5000"
                                },
                                {
                                    "Idade": "28",
                                    "Salário": "10000"
                                },
                                {
                                    "Idade": "44",
                                    "Salário": "7000"
                                },
                                {
                                    "Idade": "50",
                                    "Salário": "7000"
                                },
                                {
                                    "Idade": "42",
                                    "Salário": "7000"
                                },
                                {
                                    "Idade": "54",
                                    "Salário": "10000"
                                },
                                {
                                    "Idade": "61",
                                    "Salário": "10000"
                                },
                                {
                                    "Idade": "50",
                                    "Salário": "1200"
                                },
                                {
                                    "Idade": "59",
                                    "Salário": "1200"
                                },
                                {
                                    "Idade": "25",
                                    "Salário": "15000"
                                },
                                {
                                    "Idade": "46",
                                    "Salário": "2500"
                                },
                                {
                                    "Idade": "31",
                                    "Salário": "15000"
                                },
                                {
                                    "Idade": "47",
                                    "Salário": "10000"
                                },
                                {
                                    "Idade": "24",
                                    "Salário": "1200"
                                },
                                {
                                    "Idade": "36",
                                    "Salário": "1200"
                                },
                                {
                                    "Idade": "26",
                                    "Salário": "15000"
                                },
                                {
                                    "Idade": "37",
                                    "Salário": "15000"
                                },
                                {
                                    "Idade": "29",
                                    "Salário": "1200"
                                },
                                {
                                    "Idade": "51",
                                    "Salário": "15000"
                                },
                                {
                                    "Idade": "63",
                                    "Salário": "10000"
                                },
                                {
                                    "Idade": "45",
                                    "Salário": "1200"
                                },
                                {
                                    "Idade": "35",
                                    "Salário": "1200"
                                },
                                {
                                    "Idade": "53",
                                    "Salário": "15000"
                                },
                                {
                                    "Idade": "64",
                                    "Salário": "2500"
                                },
                                {
                                    "Idade": "64",
                                    "Salário": "10000"
                                },
                                {
                                    "Idade": "59",
                                    "Salário": "1200"
                                },
                                {
                                    "Idade": "35",
                                    "Salário": "15000"
                                },
                                {
                                    "Idade": "55",
                                    "Salário": "5000"
                                },
                                {
                                    "Idade": "45",
                                    "Salário": "5000"
                                },
                                {
                                    "Idade": "51",
                                    "Salário": "10000"
                                },
                                {
                                    "Idade": "56",
                                    "Salário": "2500"
                                },
                                {
                                    "Idade": "26",
                                    "Salário": "3500"
                                },
                                {
                                    "Idade": "43",
                                    "Salário": "15000"
                                },
                                {
                                    "Idade": "53",
                                    "Salário": "2500"
                                },
                                {
                                    "Idade": "57",
                                    "Salário": "10000"
                                },
                                {
                                    "Idade": "37",
                                    "Salário": "10000"
                                },
                                {
                                    "Idade": "63",
                                    "Salário": "7000"
                                },
                                {
                                    "Idade": "61",
                                    "Salário": "7000"
                                },
                                {
                                    "Idade": "41",
                                    "Salário": "2500"
                                },
                                {
                                    "Idade": "29",
                                    "Salário": "10000"
                                },
                                {
                                    "Idade": "36",
                                    "Salário": "5000"
                                },
                                {
                                    "Idade": "42",
                                    "Salário": "7000"
                                },
                                {
                                    "Idade": "28",
                                    "Salário": "15000"
                                },
                                {
                                    "Idade": "50",
                                    "Salário": "15000"
                                },
                                {
                                    "Idade": "25",
                                    "Salário": "1200"
                                },
                                {
                                    "Idade": "32",
                                    "Salário": "1200"
                                },
                                {
                                    "Idade": "59",
                                    "Salário": "3500"
                                },
                                {
                                    "Idade": "38",
                                    "Salário": "15000"
                                },
                                {
                                    "Idade": "47",
                                    "Salário": "3500"
                                },
                                {
                                    "Idade": "60",
                                    "Salário": "3500"
                                },
                                {
                                    "Idade": "50",
                                    "Salário": "10000"
                                },
                                {
                                    "Idade": "29",
                                    "Salário": "10000"
                                },
                                {
                                    "Idade": "48",
                                    "Salário": "1200"
                                },
                                {
                                    "Idade": "36",
                                    "Salário": "3500"
                                },
                                {
                                    "Idade": "24",
                                    "Salário": "2500"
                                },
                                {
                                    "Idade": "29",
                                    "Salário": "5000"
                                },
                                {
                                    "Idade": "32",
                                    "Salário": "5000"
                                },
                                {
                                    "Idade": "51",
                                    "Salário": "7000"
                                },
                                {
                                    "Idade": "40",
                                    "Salário": "7000"
                                },
                                {
                                    "Idade": "40",
                                    "Salário": "7000"
                                },
                                {
                                    "Idade": "50",
                                    "Salário": "15000"
                                },
                                {
                                    "Idade": "28",
                                    "Salário": "10000"
                                },
                                {
                                    "Idade": "60",
                                    "Salário": "10000"
                                },
                                {
                                    "Idade": "62",
                                    "Salário": "15000"
                                },
                                {
                                    "Idade": "54",
                                    "Salário": "5000"
                                },
                                {
                                    "Idade": "64",
                                    "Salário": "1200"
                                },
                                {
                                    "Idade": "35",
                                    "Salário": "2500"
                                },
                                {
                                    "Idade": "52",
                                    "Salário": "2500"
                                },
                                {
                                    "Idade": "58",
                                    "Salário": "3500"
                                },
                                {
                                    "Idade": "61",
                                    "Salário": "2500"
                                },
                                {
                                    "Idade": "58",
                                    "Salário": "5000"
                                },
                                {
                                    "Idade": "58",
                                    "Salário": "1200"
                                },
                                {
                                    "Idade": "59",
                                    "Salário": "10000"
                                },
                                {
                                    "Idade": "36",
                                    "Salário": "7000"
                                },
                                {
                                    "Idade": "64",
                                    "Salário": "7000"
                                },
                                {
                                    "Idade": "40",
                                    "Salário": "3500"
                                },
                                {
                                    "Idade": "52",
                                    "Salário": "7000"
                                },
                                {
                                    "Idade": "24",
                                    "Salário": "5000"
                                },
                                {
                                    "Idade": "42",
                                    "Salário": "2500"
                                },
                                {
                                    "Idade": "34",
                                    "Salário": "10000"
                                },
                                {
                                    "Idade": "43",
                                    "Salário": "5000"
                                },
                                {
                                    "Idade": "27",
                                    "Salário": "5000"
                                },
                                {
                                    "Idade": "58",
                                    "Salário": "15000"
                                },
                                {
                                    "Idade": "24",
                                    "Salário": "5000"
                                },
                                {
                                    "Idade": "45",
                                    "Salário": "3500"
                                },
                                {
                                    "Idade": "30",
                                    "Salário": "2500"
                                },
                                {
                                    "Idade": "63",
                                    "Salário": "15000"
                                },
                                {
                                    "Idade": "50",
                                    "Salário": "15000"
                                },
                                {
                                    "Idade": "43",
                                    "Salário": "7000"
                                },
                                {
                                    "Idade": "26",
                                    "Salário": "3500"
                                },
                                {
                                    "Idade": "30",
                                    "Salário": "7000"
                                },
                                {
                                    "Idade": "39",
                                    "Salário": "1200"
                                },
                                {
                                    "Idade": "26",
                                    "Salário": "3500"
                                },
                                {
                                    "Idade": "39",
                                    "Salário": "7000"
                                },
                                {
                                    "Idade": "35",
                                    "Salário": "2500"
                                },
                                {
                                    "Idade": "53",
                                    "Salário": "1200"
                                },
                                {
                                    "Idade": "32",
                                    "Salário": "10000"
                                },
                                {
                                    "Idade": "44",
                                    "Salário": "5000"
                                },
                                {
                                    "Idade": "61",
                                    "Salário": "10000"
                                },
                                {
                                    "Idade": "39",
                                    "Salário": "5000"
                                },
                                {
                                    "Idade": "57",
                                    "Salário": "10000"
                                },
                                {
                                    "Idade": "60",
                                    "Salário": "10000"
                                },
                                {
                                    "Idade": "41",
                                    "Salário": "2500"
                                },
                                {
                                    "Idade": "30",
                                    "Salário": "7000"
                                },
                                {
                                    "Idade": "61",
                                    "Salário": "1200"
                                },
                                {
                                    "Idade": "36",
                                    "Salário": "2500"
                                },
                                {
                                    "Idade": "39",
                                    "Salário": "3500"
                                },
                                {
                                    "Idade": "49",
                                    "Salário": "2500"
                                },
                                {
                                    "Idade": "64",
                                    "Salário": "5000"
                                },
                                {
                                    "Idade": "37",
                                    "Salário": "10000"
                                },
                                {
                                    "Idade": "31",
                                    "Salário": "10000"
                                },
                                {
                                    "Idade": "61",
                                    "Salário": "2500"
                                },
                                {
                                    "Idade": "24",
                                    "Salário": "15000"
                                },
                                {
                                    "Idade": "34",
                                    "Salário": "15000"
                                },
                                {
                                    "Idade": "28",
                                    "Salário": "1200"
                                },
                                {
                                    "Idade": "45",
                                    "Salário": "5000"
                                },
                                {
                                    "Idade": "45",
                                    "Salário": "2500"
                                },
                                {
                                    "Idade": "38",
                                    "Salário": "7000"
                                },
                                {
                                    "Idade": "43",
                                    "Salário": "3500"
                                },
                                {
                                    "Idade": "38",
                                    "Salário": "1200"
                                },
                                {
                                    "Idade": "43",
                                    "Salário": "5000"
                                },
                                {
                                    "Idade": "49",
                                    "Salário": "15000"
                                },
                                {
                                    "Idade": "45",
                                    "Salário": "1200"
                                },
                                {
                                    "Idade": "54",
                                    "Salário": "1200"
                                },
                                {
                                    "Idade": "32",
                                    "Salário": "15000"
                                },
                                {
                                    "Idade": "57",
                                    "Salário": "10000"
                                },
                                {
                                    "Idade": "35",
                                    "Salário": "1200"
                                },
                                {
                                    "Idade": "46",
                                    "Salário": "10000"
                                },
                                {
                                    "Idade": "56",
                                    "Salário": "5000"
                                },
                                {
                                    "Idade": "61",
                                    "Salário": "2500"
                                },
                                {
                                    "Idade": "37",
                                    "Salário": "15000"
                                },
                                {
                                    "Idade": "30",
                                    "Salário": "2500"
                                },
                                {
                                    "Idade": "56",
                                    "Salário": "7000"
                                },
                                {
                                    "Idade": "33",
                                    "Salário": "3500"
                                },
                                {
                                    "Idade": "55",
                                    "Salário": "10000"
                                },
                                {
                                    "Idade": "45",
                                    "Salário": "10000"
                                },
                                {
                                    "Idade": "58",
                                    "Salário": "10000"
                                },
                                {
                                    "Idade": "40",
                                    "Salário": "5000"
                                },
                                {
                                    "Idade": "53",
                                    "Salário": "2500"
                                },
                                {
                                    "Idade": "31",
                                    "Salário": "7000"
                                },
                                {
                                    "Idade": "47",
                                    "Salário": "1200"
                                },
                                {
                                    "Idade": "56",
                                    "Salário": "7000"
                                },
                                {
                                    "Idade": "53",
                                    "Salário": "1200"
                                },
                                {
                                    "Idade": "29",
                                    "Salário": "7000"
                                },
                                {
                                    "Idade": "54",
                                    "Salário": "7000"
                                },
                                {
                                    "Idade": "50",
                                    "Salário": "7000"
                                },
                                {
                                    "Idade": "50",
                                    "Salário": "5000"
                                },
                                {
                                    "Idade": "61",
                                    "Salário": "2500"
                                },
                                {
                                    "Idade": "58",
                                    "Salário": "2500"
                                },
                                {
                                    "Idade": "49",
                                    "Salário": "5000"
                                },
                                {
                                    "Idade": "62",
                                    "Salário": "2500"
                                },
                                {
                                    "Idade": "45",
                                    "Salário": "10000"
                                },
                                {
                                    "Idade": "29",
                                    "Salário": "7000"
                                },
                                {
                                    "Idade": "32",
                                    "Salário": "3500"
                                },
                                {
                                    "Idade": "45",
                                    "Salário": "5000"
                                },
                                {
                                    "Idade": "42",
                                    "Salário": "10000"
                                },
                                {
                                    "Idade": "50",
                                    "Salário": "3500"
                                },
                                {
                                    "Idade": "62",
                                    "Salário": "3500"
                                },
                                {
                                    "Idade": "57",
                                    "Salário": "10000"
                                },
                                {
                                    "Idade": "57",
                                    "Salário": "5000"
                                },
                                {
                                    "Idade": "32",
                                    "Salário": "10000"
                                },
                                {
                                    "Idade": "42",
                                    "Salário": "15000"
                                },
                                {
                                    "Idade": "51",
                                    "Salário": "3500"
                                },
                                {
                                    "Idade": "59",
                                    "Salário": "1200"
                                },
                                {
                                    "Idade": "29",
                                    "Salário": "2500"
                                },
                                {
                                    "Idade": "37",
                                    "Salário": "5000"
                                },
                                {
                                    "Idade": "41",
                                    "Salário": "10000"
                                },
                                {
                                    "Idade": "54",
                                    "Salário": "2500"
                                },
                                {
                                    "Idade": "59",
                                    "Salário": "2500"
                                },
                                {
                                    "Idade": "35",
                                    "Salário": "7000"
                                },
                                {
                                    "Idade": "39",
                                    "Salário": "5000"
                                },
                                {
                                    "Idade": "25",
                                    "Salário": "5000"
                                },
                                {
                                    "Idade": "58",
                                    "Salário": "15000"
                                },
                                {
                                    "Idade": "38",
                                    "Salário": "3500"
                                },
                                {
                                    "Idade": "39",
                                    "Salário": "7000"
                                },
                                {
                                    "Idade": "36",
                                    "Salário": "2500"
                                },
                                {
                                    "Idade": "50",
                                    "Salário": "5000"
                                },
                                {
                                    "Idade": "44",
                                    "Salário": "10000"
                                },
                                {
                                    "Idade": "38",
                                    "Salário": "7000"
                                },
                                {
                                    "Idade": "37",
                                    "Salário": "1200"
                                },
                                {
                                    "Idade": "25",
                                    "Salário": "1200"
                                },
                                {
                                    "Idade": "37",
                                    "Salário": "3500"
                                },
                                {
                                    "Idade": "33",
                                    "Salário": "10000"
                                },
                                {
                                    "Idade": "57",
                                    "Salário": "1200"
                                },
                                {
                                    "Idade": "30",
                                    "Salário": "2500"
                                },
                                {
                                    "Idade": "41",
                                    "Salário": "2500"
                                },
                                {
                                    "Idade": "24",
                                    "Salário": "1200"
                                },
                                {
                                    "Idade": "46",
                                    "Salário": "3500"
                                },
                                {
                                    "Idade": "25",
                                    "Salário": "3500"
                                },
                                {
                                    "Idade": "37",
                                    "Salário": "3500"
                                },
                                {
                                    "Idade": "29",
                                    "Salário": "2500"
                                },
                                {
                                    "Idade": "41",
                                    "Salário": "15000"
                                },
                                {
                                    "Idade": "55",
                                    "Salário": "3500"
                                },
                                {
                                    "Idade": "35",
                                    "Salário": "5000"
                                },
                                {
                                    "Idade": "32",
                                    "Salário": "15000"
                                },
                                {
                                    "Idade": "46",
                                    "Salário": "15000"
                                },
                                {
                                    "Idade": "54",
                                    "Salário": "7000"
                                },
                                {
                                    "Idade": "37",
                                    "Salário": "1200"
                                },
                                {
                                    "Idade": "39",
                                    "Salário": "5000"
                                },
                                {
                                    "Idade": "41",
                                    "Salário": "7000"
                                },
                                {
                                    "Idade": "34",
                                    "Salário": "7000"
                                },
                                {
                                    "Idade": "43",
                                    "Salário": "15000"
                                },
                                {
                                    "Idade": "52",
                                    "Salário": "2500"
                                },
                                {
                                    "Idade": "45",
                                    "Salário": "2500"
                                },
                                {
                                    "Idade": "44",
                                    "Salário": "5000"
                                },
                                {
                                    "Idade": "59",
                                    "Salário": "7000"
                                },
                                {
                                    "Idade": "32",
                                    "Salário": "2500"
                                },
                                {
                                    "Idade": "33",
                                    "Salário": "7000"
                                },
                                {
                                    "Idade": "45",
                                    "Salário": "15000"
                                },
                                {
                                    "Idade": "46",
                                    "Salário": "1200"
                                },
                                {
                                    "Idade": "29",
                                    "Salário": "15000"
                                },
                                {
                                    "Idade": "48",
                                    "Salário": "7000"
                                },
                                {
                                    "Idade": "55",
                                    "Salário": "3500"
                                },
                                {
                                    "Idade": "36",
                                    "Salário": "15000"
                                },
                                {
                                    "Idade": "30",
                                    "Salário": "7000"
                                },
                                {
                                    "Idade": "45",
                                    "Salário": "5000"
                                },
                                {
                                    "Idade": "32",
                                    "Salário": "15000"
                                },
                                {
                                    "Idade": "55",
                                    "Salário": "10000"
                                },
                                {
                                    "Idade": "30",
                                    "Salário": "15000"
                                },
                                {
                                    "Idade": "48",
                                    "Salário": "7000"
                                },
                                {
                                    "Idade": "60",
                                    "Salário": "15000"
                                },
                                {
                                    "Idade": "27",
                                    "Salário": "3500"
                                },
                                {
                                    "Idade": "55",
                                    "Salário": "15000"
                                },
                                {
                                    "Idade": "57",
                                    "Salário": "10000"
                                },
                                {
                                    "Idade": "36",
                                    "Salário": "3500"
                                },
                                {
                                    "Idade": "57",
                                    "Salário": "5000"
                                },
                                {
                                    "Idade": "29",
                                    "Salário": "7000"
                                },
                                {
                                    "Idade": "59",
                                    "Salário": "15000"
                                },
                                {
                                    "Idade": "51",
                                    "Salário": "15000"
                                },
                                {
                                    "Idade": "49",
                                    "Salário": "7000"
                                },
                                {
                                    "Idade": "32",
                                    "Salário": "2500"
                                },
                                {
                                    "Idade": "51",
                                    "Salário": "10000"
                                },
                                {
                                    "Idade": "43",
                                    "Salário": "5000"
                                },
                                {
                                    "Idade": "51",
                                    "Salário": "2500"
                                },
                                {
                                    "Idade": "63",
                                    "Salário": "15000"
                                },
                                {
                                    "Idade": "59",
                                    "Salário": "15000"
                                },
                                {
                                    "Idade": "58",
                                    "Salário": "1200"
                                },
                                {
                                    "Idade": "52",
                                    "Salário": "15000"
                                },
                                {
                                    "Idade": "64",
                                    "Salário": "7000"
                                },
                                {
                                    "Idade": "49",
                                    "Salário": "5000"
                                },
                                {
                                    "Idade": "50",
                                    "Salário": "3500"
                                },
                                {
                                    "Idade": "58",
                                    "Salário": "5000"
                                },
                                {
                                    "Idade": "33",
                                    "Salário": "1200"
                                },
                                {
                                    "Idade": "45",
                                    "Salário": "10000"
                                },
                                {
                                    "Idade": "27",
                                    "Salário": "15000"
                                },
                                {
                                    "Idade": "40",
                                    "Salário": "1200"
                                },
                                {
                                    "Idade": "31",
                                    "Salário": "15000"
                                },
                                {
                                    "Idade": "31",
                                    "Salário": "1200"
                                },
                                {
                                    "Idade": "40",
                                    "Salário": "5000"
                                },
                                {
                                    "Idade": "64",
                                    "Salário": "1200"
                                },
                                {
                                    "Idade": "26",
                                    "Salário": "3500"
                                },
                                {
                                    "Idade": "43",
                                    "Salário": "3500"
                                },
                                {
                                    "Idade": "34",
                                    "Salário": "7000"
                                },
                                {
                                    "Idade": "34",
                                    "Salário": "2500"
                                },
                                {
                                    "Idade": "39",
                                    "Salário": "5000"
                                },
                                {
                                    "Idade": "49",
                                    "Salário": "2500"
                                },
                                {
                                    "Idade": "49",
                                    "Salário": "10000"
                                },
                                {
                                    "Idade": "64",
                                    "Salário": "10000"
                                },
                                {
                                    "Idade": "54",
                                    "Salário": "10000"
                                },
                                {
                                    "Idade": "49",
                                    "Salário": "1200"
                                },
                                {
                                    "Idade": "38",
                                    "Salário": "15000"
                                },
                                {
                                    "Idade": "62",
                                    "Salário": "15000"
                                },
                                {
                                    "Idade": "27",
                                    "Salário": "2500"
                                },
                                {
                                    "Idade": "28",
                                    "Salário": "7000"
                                },
                                {
                                    "Idade": "33",
                                    "Salário": "10000"
                                },
                                {
                                    "Idade": "38",
                                    "Salário": "7000"
                                },
                                {
                                    "Idade": "60",
                                    "Salário": "1200"
                                },
                                {
                                    "Idade": "24",
                                    "Salário": "2500"
                                },
                                {
                                    "Idade": "55",
                                    "Salário": "5000"
                                },
                                {
                                    "Idade": "61",
                                    "Salário": "5000"
                                },
                                {
                                    "Idade": "25",
                                    "Salário": "1200"
                                },
                                {
                                    "Idade": "54",
                                    "Salário": "10000"
                                },
                                {
                                    "Idade": "34",
                                    "Salário": "3500"
                                },
                                {
                                    "Idade": "25",
                                    "Salário": "7000"
                                },
                                {
                                    "Idade": "47",
                                    "Salário": "7000"
                                },
                                {
                                    "Idade": "55",
                                    "Salário": "3500"
                                },
                                {
                                    "Idade": "52",
                                    "Salário": "7000"
                                },
                                {
                                    "Idade": "60",
                                    "Salário": "1200"
                                },
                                {
                                    "Idade": "53",
                                    "Salário": "10000"
                                },
                                {
                                    "Idade": "31",
                                    "Salário": "5000"
                                },
                                {
                                    "Idade": "34",
                                    "Salário": "1200"
                                },
                                {
                                    "Idade": "42",
                                    "Salário": "10000"
                                },
                                {
                                    "Idade": "49",
                                    "Salário": "5000"
                                },
                                {
                                    "Idade": "39",
                                    "Salário": "2500"
                                },
                                {
                                    "Idade": "63",
                                    "Salário": "1200"
                                },
                                {
                                    "Idade": "31",
                                    "Salário": "5000"
                                },
                                {
                                    "Idade": "24",
                                    "Salário": "5000"
                                },
                                {
                                    "Idade": "62",
                                    "Salário": "2500"
                                },
                                {
                                    "Idade": "54",
                                    "Salário": "10000"
                                },
                                {
                                    "Idade": "36",
                                    "Salário": "10000"
                                },
                                {
                                    "Idade": "61",
                                    "Salário": "7000"
                                },
                                {
                                    "Idade": "47",
                                    "Salário": "15000"
                                },
                                {
                                    "Idade": "38",
                                    "Salário": "1200"
                                },
                                {
                                    "Idade": "28",
                                    "Salário": "3500"
                                },
                                {
                                    "Idade": "45",
                                    "Salário": "1200"
                                },
                                {
                                    "Idade": "55",
                                    "Salário": "5000"
                                },
                                {
                                    "Idade": "39",
                                    "Salário": "1200"
                                },
                                {
                                    "Idade": "36",
                                    "Salário": "7000"
                                },
                                {
                                    "Idade": "46",
                                    "Salário": "2500"
                                },
                                {
                                    "Idade": "25",
                                    "Salário": "3500"
                                },
                                {
                                    "Idade": "34",
                                    "Salário": "7000"
                                },
                                {
                                    "Idade": "28",
                                    "Salário": "2500"
                                },
                                {
                                    "Idade": "45",
                                    "Salário": "1200"
                                },
                                {
                                    "Idade": "52",
                                    "Salário": "1200"
                                },
                                {
                                    "Idade": "41",
                                    "Salário": "3500"
                                },
                                {
                                    "Idade": "43",
                                    "Salário": "10000"
                                },
                                {
                                    "Idade": "32",
                                    "Salário": "1200"
                                },
                                {
                                    "Idade": "27",
                                    "Salário": "10000"
                                },
                                {
                                    "Idade": "59",
                                    "Salário": "1200"
                                },
                                {
                                    "Idade": "61",
                                    "Salário": "3500"
                                },
                                {
                                    "Idade": "49",
                                    "Salário": "3500"
                                },
                                {
                                    "Idade": "43",
                                    "Salário": "2500"
                                },
                                {
                                    "Idade": "58",
                                    "Salário": "5000"
                                },
                                {
                                    "Idade": "61",
                                    "Salário": "3500"
                                },
                                {
                                    "Idade": "30",
                                    "Salário": "10000"
                                },
                                {
                                    "Idade": "35",
                                    "Salário": "3500"
                                },
                                {
                                    "Idade": "62",
                                    "Salário": "7000"
                                },
                                {
                                    "Idade": "36",
                                    "Salário": "1200"
                                },
                                {
                                    "Idade": "58",
                                    "Salário": "10000"
                                },
                                {
                                    "Idade": "48",
                                    "Salário": "1200"
                                },
                                {
                                    "Idade": "29",
                                    "Salário": "1200"
                                },
                                {
                                    "Idade": "36",
                                    "Salário": "3500"
                                },
                                {
                                    "Idade": "54",
                                    "Salário": "7000"
                                },
                                {
                                    "Idade": "42",
                                    "Salário": "15000"
                                },
                                {
                                    "Idade": "55",
                                    "Salário": "1200"
                                },
                                {
                                    "Idade": "34",
                                    "Salário": "15000"
                                },
                                {
                                    "Idade": "34",
                                    "Salário": "5000"
                                },
                                {
                                    "Idade": "38",
                                    "Salário": "3500"
                                },
                                {
                                    "Idade": "64",
                                    "Salário": "2500"
                                },
                                {
                                    "Idade": "38",
                                    "Salário": "2500"
                                },
                                {
                                    "Idade": "39",
                                    "Salário": "7000"
                                },
                                {
                                    "Idade": "46",
                                    "Salário": "7000"
                                },
                                {
                                    "Idade": "61",
                                    "Salário": "7000"
                                },
                                {
                                    "Idade": "60",
                                    "Salário": "1200"
                                },
                                {
                                    "Idade": "25",
                                    "Salário": "3500"
                                },
                                {
                                    "Idade": "42",
                                    "Salário": "10000"
                                },
                                {
                                    "Idade": "59",
                                    "Salário": "3500"
                                },
                                {
                                    "Idade": "25",
                                    "Salário": "5000"
                                },
                                {
                                    "Idade": "31",
                                    "Salário": "2500"
                                },
                                {
                                    "Idade": "31",
                                    "Salário": "1200"
                                },
                                {
                                    "Idade": "56",
                                    "Salário": "7000"
                                },
                                {
                                    "Idade": "25",
                                    "Salário": "10000"
                                },
                                {
                                    "Idade": "57",
                                    "Salário": "3500"
                                },
                                {
                                    "Idade": "55",
                                    "Salário": "7000"
                                },
                                {
                                    "Idade": "47",
                                    "Salário": "3500"
                                },
                                {
                                    "Idade": "26",
                                    "Salário": "10000"
                                },
                                {
                                    "Idade": "44",
                                    "Salário": "7000"
                                },
                                {
                                    "Idade": "55",
                                    "Salário": "3500"
                                },
                                {
                                    "Idade": "44",
                                    "Salário": "3500"
                                },
                                {
                                    "Idade": "48",
                                    "Salário": "3500"
                                },
                                {
                                    "Idade": "37",
                                    "Salário": "3500"
                                },
                                {
                                    "Idade": "31",
                                    "Salário": "1200"
                                },
                                {
                                    "Idade": "33",
                                    "Salário": "3500"
                                },
                                {
                                    "Idade": "60",
                                    "Salário": "3500"
                                },
                                {
                                    "Idade": "46",
                                    "Salário": "5000"
                                },
                                {
                                    "Idade": "43",
                                    "Salário": "15000"
                                },
                                {
                                    "Idade": "49",
                                    "Salário": "15000"
                                },
                                {
                                    "Idade": "61",
                                    "Salário": "15000"
                                },
                                {
                                    "Idade": "44",
                                    "Salário": "1200"
                                },
                                {
                                    "Idade": "59",
                                    "Salário": "10000"
                                },
                                {
                                    "Idade": "33",
                                    "Salário": "10000"
                                },
                                {
                                    "Idade": "40",
                                    "Salário": "15000"
                                },
                                {
                                    "Idade": "29",
                                    "Salário": "1200"
                                },
                                {
                                    "Idade": "41",
                                    "Salário": "15000"
                                },
                                {
                                    "Idade": "41",
                                    "Salário": "1200"
                                },
                                {
                                    "Idade": "55",
                                    "Salário": "7000"
                                },
                                {
                                    "Idade": "63",
                                    "Salário": "5000"
                                },
                                {
                                    "Idade": "43",
                                    "Salário": "2500"
                                },
                                {
                                    "Idade": "39",
                                    "Salário": "3500"
                                },
                                {
                                    "Idade": "55",
                                    "Salário": "2500"
                                },
                                {
                                    "Idade": "55",
                                    "Salário": "10000"
                                },
                                {
                                    "Idade": "62",
                                    "Salário": "2500"
                                },
                                {
                                    "Idade": "46",
                                    "Salário": "1200"
                                },
                                {
                                    "Idade": "34",
                                    "Salário": "3500"
                                },
                                {
                                    "Idade": "50",
                                    "Salário": "5000"
                                },
                                {
                                    "Idade": "24",
                                    "Salário": "1200"
                                },
                                {
                                    "Idade": "54",
                                    "Salário": "5000"
                                },
                                {
                                    "Idade": "59",
                                    "Salário": "10000"
                                },
                                {
                                    "Idade": "63",
                                    "Salário": "7000"
                                },
                                {
                                    "Idade": "35",
                                    "Salário": "3500"
                                },
                                {
                                    "Idade": "51",
                                    "Salário": "7000"
                                },
                                {
                                    "Idade": "49",
                                    "Salário": "7000"
                                },
                                {
                                    "Idade": "30",
                                    "Salário": "1200"
                                },
                                {
                                    "Idade": "26",
                                    "Salário": "2500"
                                },
                                {
                                    "Idade": "30",
                                    "Salário": "3500"
                                },
                                {
                                    "Idade": "30",
                                    "Salário": "7000"
                                },
                                {
                                    "Idade": "55",
                                    "Salário": "5000"
                                },
                                {
                                    "Idade": "26",
                                    "Salário": "3500"
                                },
                                {
                                    "Idade": "50",
                                    "Salário": "15000"
                                },
                                {
                                    "Idade": "62",
                                    "Salário": "2500"
                                },
                                {
                                    "Idade": "37",
                                    "Salário": "1200"
                                },
                                {
                                    "Idade": "40",
                                    "Salário": "10000"
                                },
                                {
                                    "Idade": "27",
                                    "Salário": "15000"
                                },
                                {
                                    "Idade": "35",
                                    "Salário": "2500"
                                },
                                {
                                    "Idade": "25",
                                    "Salário": "5000"
                                },
                                {
                                    "Idade": "64",
                                    "Salário": "3500"
                                },
                                {
                                    "Idade": "24",
                                    "Salário": "10000"
                                },
                                {
                                    "Idade": "43",
                                    "Salário": "2500"
                                },
                                {
                                    "Idade": "37",
                                    "Salário": "1200"
                                },
                                {
                                    "Idade": "37",
                                    "Salário": "2500"
                                },
                                {
                                    "Idade": "60",
                                    "Salário": "1200"
                                },
                                {
                                    "Idade": "24",
                                    "Salário": "7000"
                                },
                                {
                                    "Idade": "55",
                                    "Salário": "1200"
                                },
                                {
                                    "Idade": "24",
                                    "Salário": "1200"
                                },
                                {
                                    "Idade": "25",
                                    "Salário": "7000"
                                },
                                {
                                    "Idade": "25",
                                    "Salário": "2500"
                                },
                                {
                                    "Idade": "60",
                                    "Salário": "2500"
                                },
                                {
                                    "Idade": "52",
                                    "Salário": "15000"
                                },
                                {
                                    "Idade": "58",
                                    "Salário": "7000"
                                },
                                {
                                    "Idade": "33",
                                    "Salário": "2500"
                                },
                                {
                                    "Idade": "24",
                                    "Salário": "5000"
                                },
                                {
                                    "Idade": "64",
                                    "Salário": "15000"
                                },
                                {
                                    "Idade": "62",
                                    "Salário": "2500"
                                },
                                {
                                    "Idade": "36",
                                    "Salário": "2500"
                                },
                                {
                                    "Idade": "38",
                                    "Salário": "2500"
                                },
                                {
                                    "Idade": "55",
                                    "Salário": "7000"
                                },
                                {
                                    "Idade": "51",
                                    "Salário": "1200"
                                },
                                {
                                    "Idade": "35",
                                    "Salário": "15000"
                                },
                                {
                                    "Idade": "38",
                                    "Salário": "2500"
                                },
                                {
                                    "Idade": "29",
                                    "Salário": "5000"
                                },
                                {
                                    "Idade": "59",
                                    "Salário": "7000"
                                },
                                {
                                    "Idade": "60",
                                    "Salário": "5000"
                                },
                                {
                                    "Idade": "57",
                                    "Salário": "5000"
                                },
                                {
                                    "Idade": "63",
                                    "Salário": "5000"
                                },
                                {
                                    "Idade": "50",
                                    "Salário": "7000"
                                },
                                {
                                    "Idade": "41",
                                    "Salário": "3500"
                                },
                                {
                                    "Idade": "26",
                                    "Salário": "10000"
                                },
                                {
                                    "Idade": "42",
                                    "Salário": "5000"
                                },
                                {
                                    "Idade": "36",
                                    "Salário": "1200"
                                },
                                {
                                    "Idade": "48",
                                    "Salário": "1200"
                                },
                                {
                                    "Idade": "62",
                                    "Salário": "2500"
                                },
                                {
                                    "Idade": "48",
                                    "Salário": "7000"
                                },
                                {
                                    "Idade": "41",
                                    "Salário": "7000"
                                },
                                {
                                    "Idade": "27",
                                    "Salário": "3500"
                                },
                                {
                                    "Idade": "47",
                                    "Salário": "10000"
                                },
                                {
                                    "Idade": "38",
                                    "Salário": "2500"
                                }
                            ]
                        },
                        "text/html": "<table><tr><th>Idade</th><th>Salário</th></tr><tr><td>28</td><td>7000</td></tr><tr><td>36</td><td>15000</td></tr><tr><td>36</td><td>15000</td></tr><tr><td>36</td><td>15000</td></tr><tr><td>30</td><td>5000</td></tr><tr><td>43</td><td>7000</td></tr><tr><td>33</td><td>2500</td></tr><tr><td>63</td><td>1200</td></tr><tr><td>46</td><td>3500</td></tr><tr><td>54</td><td>2500</td></tr><tr><td>27</td><td>15000</td></tr><tr><td>40</td><td>5000</td></tr><tr><td>44</td><td>7000</td></tr><tr><td>60</td><td>2500</td></tr><tr><td>37</td><td>15000</td></tr><tr><td>31</td><td>7000</td></tr><tr><td>49</td><td>10000</td></tr><tr><td>40</td><td>3500</td></tr><tr><td>33</td><td>5000</td></tr><tr><td>56</td><td>1200</td></tr><tr><td>40</td><td>10000</td></tr><tr><td>31</td><td>1200</td></tr><tr><td>38</td><td>10000</td></tr><tr><td>48</td><td>1200</td></tr><tr><td>60</td><td>3500</td></tr><tr><td>31</td><td>2500</td></tr><tr><td>34</td><td>2500</td></tr><tr><td>32</td><td>3500</td></tr><tr><td>41</td><td>3500</td></tr><tr><td>26</td><td>15000</td></tr><tr><td>31</td><td>1200</td></tr><tr><td>34</td><td>7000</td></tr><tr><td>64</td><td>2500</td></tr><tr><td>52</td><td>10000</td></tr><tr><td>46</td><td>7000</td></tr><tr><td>39</td><td>2500</td></tr><tr><td>63</td><td>7000</td></tr><tr><td>27</td><td>5000</td></tr><tr><td>59</td><td>3500</td></tr><tr><td>45</td><td>15000</td></tr><tr><td>35</td><td>2500</td></tr><tr><td>54</td><td>2500</td></tr><tr><td>50</td><td>15000</td></tr><tr><td>57</td><td>15000</td></tr><tr><td>48</td><td>15000</td></tr><tr><td>57</td><td>1200</td></tr><tr><td>33</td><td>7000</td></tr><tr><td>57</td><td>2500</td></tr><tr><td>49</td><td>15000</td></tr><tr><td>25</td><td>10000</td></tr><tr><td>59</td><td>5000</td></tr><tr><td>54</td><td>2500</td></tr><tr><td>26</td><td>3500</td></tr><tr><td>25</td><td>2500</td></tr><tr><td>26</td><td>10000</td></tr><tr><td>33</td><td>1200</td></tr><tr><td>60</td><td>10000</td></tr><tr><td>51</td><td>2500</td></tr><tr><td>35</td><td>1200</td></tr><tr><td>26</td><td>1200</td></tr><tr><td>57</td><td>1200</td></tr><tr><td>29</td><td>3500</td></tr><tr><td>29</td><td>10000</td></tr><tr><td>53</td><td>2500</td></tr><tr><td>34</td><td>3500</td></tr><tr><td>35</td><td>1200</td></tr><tr><td>28</td><td>1200</td></tr><tr><td>36</td><td>1200</td></tr><tr><td>46</td><td>10000</td></tr><tr><td>46</td><td>10000</td></tr><tr><td>42</td><td>10000</td></tr><tr><td>38</td><td>7000</td></tr><tr><td>51</td><td>3500</td></tr><tr><td>54</td><td>3500</td></tr><tr><td>24</td><td>1200</td></tr><tr><td>50</td><td>2500</td></tr><tr><td>54</td><td>7000</td></tr><tr><td>46</td><td>2500</td></tr><tr><td>62</td><td>1200</td></tr><tr><td>28</td><td>3500</td></tr><tr><td>63</td><td>7000</td></tr><tr><td>46</td><td>3500</td></tr><tr><td>49</td><td>3500</td></tr><tr><td>49</td><td>15000</td></tr><tr><td>56</td><td>7000</td></tr><tr><td>56</td><td>2500</td></tr><tr><td>33</td><td>3500</td></tr><tr><td>54</td><td>15000</td></tr><tr><td>61</td><td>2500</td></tr><tr><td>37</td><td>3500</td></tr><tr><td>27</td><td>15000</td></tr><tr><td>48</td><td>10000</td></tr><tr><td>37</td><td>5000</td></tr><tr><td>42</td><td>3500</td></tr><tr><td>60</td><td>15000</td></tr><tr><td>37</td><td>15000</td></tr><tr><td>36</td><td>3500</td></tr><tr><td>39</td><td>5000</td></tr><tr><td>29</td><td>3500</td></tr><tr><td>48</td><td>2500</td></tr><tr><td>28</td><td>7000</td></tr><tr><td>61</td><td>2500</td></tr><tr><td>51</td><td>5000</td></tr><tr><td>32</td><td>1200</td></tr><tr><td>55</td><td>15000</td></tr><tr><td>40</td><td>2500</td></tr><tr><td>29</td><td>5000</td></tr><tr><td>50</td><td>10000</td></tr><tr><td>37</td><td>2500</td></tr><tr><td>39</td><td>7000</td></tr><tr><td>28</td><td>5000</td></tr><tr><td>59</td><td>2500</td></tr><tr><td>30</td><td>2500</td></tr><tr><td>27</td><td>15000</td></tr><tr><td>57</td><td>10000</td></tr><tr><td>44</td><td>10000</td></tr><tr><td>56</td><td>5000</td></tr><tr><td>39</td><td>2500</td></tr><tr><td>38</td><td>5000</td></tr><tr><td>34</td><td>2500</td></tr><tr><td>53</td><td>15000</td></tr><tr><td>50</td><td>15000</td></tr><tr><td>61</td><td>3500</td></tr><tr><td>52</td><td>7000</td></tr><tr><td>61</td><td>10000</td></tr><tr><td>61</td><td>15000</td></tr><tr><td>38</td><td>15000</td></tr><tr><td>64</td><td>15000</td></tr><tr><td>35</td><td>5000</td></tr><tr><td>45</td><td>3500</td></tr><tr><td>52</td><td>1200</td></tr><tr><td>36</td><td>15000</td></tr><tr><td>40</td><td>10000</td></tr><tr><td>37</td><td>2500</td></tr><tr><td>45</td><td>2500</td></tr><tr><td>28</td><td>2500</td></tr><tr><td>31</td><td>10000</td></tr><tr><td>45</td><td>10000</td></tr><tr><td>43</td><td>5000</td></tr><tr><td>31</td><td>1200</td></tr><tr><td>60</td><td>1200</td></tr><tr><td>24</td><td>5000</td></tr><tr><td>36</td><td>10000</td></tr><tr><td>62</td><td>1200</td></tr><tr><td>43</td><td>2500</td></tr><tr><td>24</td><td>5000</td></tr><tr><td>52</td><td>2500</td></tr><tr><td>47</td><td>3500</td></tr><tr><td>28</td><td>10000</td></tr><tr><td>49</td><td>7000</td></tr><tr><td>54</td><td>2500</td></tr><tr><td>41</td><td>10000</td></tr><tr><td>24</td><td>10000</td></tr><tr><td>61</td><td>7000</td></tr><tr><td>63</td><td>15000</td></tr><tr><td>55</td><td>7000</td></tr><tr><td>47</td><td>2500</td></tr><tr><td>28</td><td>7000</td></tr><tr><td>55</td><td>3500</td></tr><tr><td>53</td><td>1200</td></tr><tr><td>29</td><td>1200</td></tr><tr><td>48</td><td>7000</td></tr><tr><td>56</td><td>3500</td></tr><tr><td>29</td><td>2500</td></tr><tr><td>29</td><td>3500</td></tr><tr><td>62</td><td>3500</td></tr><tr><td>39</td><td>5000</td></tr><tr><td>47</td><td>7000</td></tr><tr><td>34</td><td>7000</td></tr><tr><td>53</td><td>2500</td></tr><tr><td>43</td><td>5000</td></tr><tr><td>63</td><td>1200</td></tr><tr><td>34</td><td>7000</td></tr><tr><td>56</td><td>3500</td></tr><tr><td>52</td><td>1200</td></tr><tr><td>51</td><td>7000</td></tr><tr><td>29</td><td>2500</td></tr><tr><td>27</td><td>3500</td></tr><tr><td>34</td><td>3500</td></tr><tr><td>24</td><td>5000</td></tr><tr><td>52</td><td>15000</td></tr><tr><td>41</td><td>5000</td></tr><tr><td>43</td><td>3500</td></tr><tr><td>58</td><td>1200</td></tr><tr><td>61</td><td>3500</td></tr><tr><td>34</td><td>7000</td></tr><tr><td>61</td><td>3500</td></tr><tr><td>51</td><td>2500</td></tr><tr><td>56</td><td>7000</td></tr><tr><td>47</td><td>2500</td></tr><tr><td>62</td><td>10000</td></tr><tr><td>39</td><td>3500</td></tr><tr><td>50</td><td>7000</td></tr><tr><td>59</td><td>2500</td></tr><tr><td>46</td><td>10000</td></tr><tr><td>39</td><td>5000</td></tr><tr><td>40</td><td>3500</td></tr><tr><td>53</td><td>2500</td></tr><tr><td>60</td><td>15000</td></tr><tr><td>52</td><td>15000</td></tr><tr><td>50</td><td>15000</td></tr><tr><td>54</td><td>3500</td></tr><tr><td>43</td><td>10000</td></tr><tr><td>59</td><td>3500</td></tr><tr><td>27</td><td>1200</td></tr><tr><td>34</td><td>3500</td></tr><tr><td>49</td><td>5000</td></tr><tr><td>61</td><td>7000</td></tr><tr><td>63</td><td>3500</td></tr><tr><td>49</td><td>3500</td></tr><tr><td>36</td><td>15000</td></tr><tr><td>30</td><td>15000</td></tr><tr><td>51</td><td>10000</td></tr><tr><td>59</td><td>15000</td></tr><tr><td>28</td><td>2500</td></tr><tr><td>41</td><td>7000</td></tr><tr><td>52</td><td>5000</td></tr><tr><td>39</td><td>1200</td></tr><tr><td>60</td><td>7000</td></tr><tr><td>46</td><td>15000</td></tr><tr><td>30</td><td>3500</td></tr><tr><td>52</td><td>3500</td></tr><tr><td>47</td><td>10000</td></tr><tr><td>47</td><td>1200</td></tr><tr><td>45</td><td>3500</td></tr><tr><td>58</td><td>10000</td></tr><tr><td>48</td><td>3500</td></tr><tr><td>34</td><td>3500</td></tr><tr><td>26</td><td>7000</td></tr><tr><td>59</td><td>10000</td></tr><tr><td>56</td><td>15000</td></tr><tr><td>42</td><td>5000</td></tr><tr><td>30</td><td>10000</td></tr><tr><td>30</td><td>2500</td></tr><tr><td>40</td><td>1200</td></tr><tr><td>24</td><td>10000</td></tr><tr><td>47</td><td>15000</td></tr><tr><td>55</td><td>10000</td></tr><tr><td>41</td><td>2500</td></tr><tr><td>47</td><td>5000</td></tr><tr><td>30</td><td>2500</td></tr><tr><td>45</td><td>15000</td></tr><tr><td>37</td><td>10000</td></tr><tr><td>49</td><td>3500</td></tr><tr><td>30</td><td>15000</td></tr><tr><td>62</td><td>2500</td></tr><tr><td>35</td><td>10000</td></tr><tr><td>29</td><td>10000</td></tr><tr><td>41</td><td>10000</td></tr><tr><td>50</td><td>5000</td></tr><tr><td>27</td><td>15000</td></tr><tr><td>57</td><td>10000</td></tr><tr><td>49</td><td>3500</td></tr><tr><td>60</td><td>7000</td></tr><tr><td>48</td><td>5000</td></tr><tr><td>35</td><td>1200</td></tr><tr><td>52</td><td>15000</td></tr><tr><td>42</td><td>5000</td></tr><tr><td>49</td><td>5000</td></tr><tr><td>30</td><td>10000</td></tr><tr><td>45</td><td>2500</td></tr><tr><td>36</td><td>7000</td></tr><tr><td>39</td><td>15000</td></tr><tr><td>35</td><td>2500</td></tr><tr><td>50</td><td>7000</td></tr><tr><td>34</td><td>5000</td></tr><tr><td>24</td><td>2500</td></tr><tr><td>50</td><td>3500</td></tr><tr><td>38</td><td>3500</td></tr><tr><td>55</td><td>15000</td></tr><tr><td>50</td><td>3500</td></tr><tr><td>29</td><td>5000</td></tr><tr><td>27</td><td>3500</td></tr><tr><td>54</td><td>2500</td></tr><tr><td>30</td><td>5000</td></tr><tr><td>41</td><td>10000</td></tr><tr><td>57</td><td>1200</td></tr><tr><td>35</td><td>10000</td></tr><tr><td>56</td><td>2500</td></tr><tr><td>44</td><td>10000</td></tr><tr><td>42</td><td>2500</td></tr><tr><td>54</td><td>7000</td></tr><tr><td>58</td><td>15000</td></tr><tr><td>41</td><td>1200</td></tr><tr><td>29</td><td>10000</td></tr><tr><td>49</td><td>7000</td></tr><tr><td>54</td><td>10000</td></tr><tr><td>27</td><td>3500</td></tr><tr><td>38</td><td>15000</td></tr><tr><td>35</td><td>10000</td></tr><tr><td>46</td><td>2500</td></tr><tr><td>43</td><td>1200</td></tr><tr><td>55</td><td>15000</td></tr><tr><td>45</td><td>2500</td></tr><tr><td>37</td><td>7000</td></tr><tr><td>54</td><td>7000</td></tr><tr><td>50</td><td>15000</td></tr><tr><td>38</td><td>10000</td></tr><tr><td>30</td><td>5000</td></tr><tr><td>42</td><td>5000</td></tr><tr><td>45</td><td>5000</td></tr><tr><td>56</td><td>5000</td></tr><tr><td>52</td><td>10000</td></tr><tr><td>35</td><td>5000</td></tr><tr><td>63</td><td>5000</td></tr><tr><td>64</td><td>1200</td></tr><tr><td>45</td><td>10000</td></tr><tr><td>64</td><td>7000</td></tr><tr><td>46</td><td>15000</td></tr><tr><td>42</td><td>2500</td></tr><tr><td>57</td><td>2500</td></tr><tr><td>36</td><td>1200</td></tr><tr><td>62</td><td>1200</td></tr><tr><td>38</td><td>7000</td></tr><tr><td>46</td><td>15000</td></tr><tr><td>50</td><td>3500</td></tr><tr><td>50</td><td>3500</td></tr><tr><td>45</td><td>10000</td></tr><tr><td>48</td><td>15000</td></tr><tr><td>43</td><td>1200</td></tr><tr><td>26</td><td>5000</td></tr><tr><td>33</td><td>5000</td></tr><tr><td>24</td><td>1200</td></tr><tr><td>38</td><td>15000</td></tr><tr><td>40</td><td>5000</td></tr><tr><td>44</td><td>7000</td></tr><tr><td>38</td><td>10000</td></tr><tr><td>31</td><td>2500</td></tr><tr><td>51</td><td>15000</td></tr><tr><td>57</td><td>5000</td></tr><tr><td>46</td><td>5000</td></tr><tr><td>64</td><td>1200</td></tr><tr><td>28</td><td>15000</td></tr><tr><td>39</td><td>15000</td></tr><tr><td>32</td><td>3500</td></tr><tr><td>43</td><td>5000</td></tr><tr><td>30</td><td>1200</td></tr><tr><td>36</td><td>2500</td></tr><tr><td>50</td><td>10000</td></tr><tr><td>32</td><td>2500</td></tr><tr><td>25</td><td>3500</td></tr><tr><td>54</td><td>2500</td></tr><tr><td>59</td><td>5000</td></tr><tr><td>58</td><td>3500</td></tr><tr><td>25</td><td>5000</td></tr><tr><td>56</td><td>2500</td></tr><tr><td>38</td><td>2500</td></tr><tr><td>26</td><td>10000</td></tr><tr><td>61</td><td>10000</td></tr><tr><td>29</td><td>5000</td></tr><tr><td>30</td><td>5000</td></tr><tr><td>56</td><td>7000</td></tr><tr><td>55</td><td>5000</td></tr><tr><td>38</td><td>10000</td></tr><tr><td>44</td><td>7000</td></tr><tr><td>35</td><td>3500</td></tr><tr><td>26</td><td>3500</td></tr><tr><td>50</td><td>5000</td></tr><tr><td>32</td><td>7000</td></tr><tr><td>54</td><td>10000</td></tr><tr><td>59</td><td>7000</td></tr><tr><td>64</td><td>1200</td></tr><tr><td>31</td><td>15000</td></tr><tr><td>31</td><td>3500</td></tr><tr><td>25</td><td>15000</td></tr><tr><td>27</td><td>7000</td></tr><tr><td>49</td><td>15000</td></tr><tr><td>63</td><td>10000</td></tr><tr><td>44</td><td>15000</td></tr><tr><td>40</td><td>10000</td></tr><tr><td>52</td><td>5000</td></tr><tr><td>48</td><td>3500</td></tr><tr><td>53</td><td>10000</td></tr><tr><td>46</td><td>3500</td></tr><tr><td>52</td><td>5000</td></tr><tr><td>33</td><td>3500</td></tr><tr><td>60</td><td>7000</td></tr><tr><td>50</td><td>2500</td></tr><tr><td>26</td><td>15000</td></tr><tr><td>57</td><td>7000</td></tr><tr><td>31</td><td>10000</td></tr><tr><td>30</td><td>1200</td></tr><tr><td>32</td><td>7000</td></tr><tr><td>38</td><td>5000</td></tr><tr><td>31</td><td>1200</td></tr><tr><td>29</td><td>1200</td></tr><tr><td>24</td><td>2500</td></tr><tr><td>51</td><td>2500</td></tr><tr><td>36</td><td>5000</td></tr><tr><td>40</td><td>2500</td></tr><tr><td>35</td><td>10000</td></tr><tr><td>54</td><td>1200</td></tr><tr><td>41</td><td>7000</td></tr><tr><td>49</td><td>2500</td></tr><tr><td>40</td><td>5000</td></tr><tr><td>24</td><td>15000</td></tr><tr><td>52</td><td>7000</td></tr><tr><td>39</td><td>5000</td></tr><tr><td>30</td><td>10000</td></tr><tr><td>55</td><td>3500</td></tr><tr><td>29</td><td>15000</td></tr><tr><td>36</td><td>5000</td></tr><tr><td>64</td><td>15000</td></tr><tr><td>40</td><td>15000</td></tr><tr><td>50</td><td>1200</td></tr><tr><td>49</td><td>5000</td></tr><tr><td>46</td><td>15000</td></tr><tr><td>28</td><td>5000</td></tr><tr><td>24</td><td>15000</td></tr><tr><td>35</td><td>3500</td></tr><tr><td>60</td><td>1200</td></tr><tr><td>59</td><td>1200</td></tr><tr><td>57</td><td>2500</td></tr><tr><td>49</td><td>5000</td></tr><tr><td>35</td><td>5000</td></tr><tr><td>47</td><td>1200</td></tr><tr><td>34</td><td>7000</td></tr><tr><td>64</td><td>3500</td></tr><tr><td>36</td><td>1200</td></tr><tr><td>39</td><td>5000</td></tr><tr><td>60</td><td>15000</td></tr><tr><td>52</td><td>1200</td></tr><tr><td>53</td><td>15000</td></tr><tr><td>41</td><td>7000</td></tr><tr><td>29</td><td>5000</td></tr><tr><td>25</td><td>7000</td></tr><tr><td>40</td><td>5000</td></tr><tr><td>60</td><td>10000</td></tr><tr><td>42</td><td>7000</td></tr><tr><td>53</td><td>2500</td></tr><tr><td>40</td><td>7000</td></tr><tr><td>64</td><td>2500</td></tr><tr><td>42</td><td>15000</td></tr><tr><td>49</td><td>5000</td></tr><tr><td>40</td><td>3500</td></tr><tr><td>62</td><td>1200</td></tr><tr><td>62</td><td>5000</td></tr><tr><td>46</td><td>10000</td></tr><tr><td>36</td><td>15000</td></tr><tr><td>40</td><td>5000</td></tr><tr><td>24</td><td>1200</td></tr><tr><td>52</td><td>7000</td></tr><tr><td>57</td><td>5000</td></tr><tr><td>41</td><td>15000</td></tr><tr><td>64</td><td>7000</td></tr><tr><td>35</td><td>15000</td></tr><tr><td>53</td><td>3500</td></tr><tr><td>62</td><td>3500</td></tr><tr><td>56</td><td>10000</td></tr><tr><td>32</td><td>1200</td></tr><tr><td>26</td><td>15000</td></tr><tr><td>29</td><td>3500</td></tr><tr><td>44</td><td>10000</td></tr><tr><td>54</td><td>7000</td></tr><tr><td>38</td><td>1200</td></tr><tr><td>26</td><td>7000</td></tr><tr><td>25</td><td>5000</td></tr><tr><td>58</td><td>3500</td></tr><tr><td>62</td><td>1200</td></tr><tr><td>59</td><td>1200</td></tr><tr><td>50</td><td>5000</td></tr><tr><td>30</td><td>1200</td></tr><tr><td>60</td><td>5000</td></tr><tr><td>25</td><td>5000</td></tr><tr><td>24</td><td>2500</td></tr><tr><td>48</td><td>10000</td></tr><tr><td>60</td><td>5000</td></tr><tr><td>24</td><td>7000</td></tr><tr><td>38</td><td>10000</td></tr><tr><td>31</td><td>15000</td></tr><tr><td>53</td><td>3500</td></tr><tr><td>43</td><td>7000</td></tr><tr><td>64</td><td>1200</td></tr><tr><td>34</td><td>1200</td></tr><tr><td>64</td><td>1200</td></tr><tr><td>58</td><td>3500</td></tr><tr><td>49</td><td>5000</td></tr><tr><td>39</td><td>10000</td></tr><tr><td>26</td><td>5000</td></tr><tr><td>49</td><td>2500</td></tr><tr><td>64</td><td>10000</td></tr><tr><td>26</td><td>2500</td></tr><tr><td>62</td><td>1200</td></tr><tr><td>35</td><td>10000</td></tr><tr><td>55</td><td>15000</td></tr><tr><td>63</td><td>10000</td></tr><tr><td>54</td><td>5000</td></tr><tr><td>31</td><td>10000</td></tr><tr><td>60</td><td>7000</td></tr><tr><td>41</td><td>1200</td></tr><tr><td>63</td><td>1200</td></tr><tr><td>59</td><td>7000</td></tr><tr><td>57</td><td>3500</td></tr><tr><td>35</td><td>2500</td></tr><tr><td>38</td><td>7000</td></tr><tr><td>42</td><td>7000</td></tr><tr><td>28</td><td>5000</td></tr><tr><td>58</td><td>1200</td></tr><tr><td>26</td><td>7000</td></tr><tr><td>33</td><td>15000</td></tr><tr><td>61</td><td>2500</td></tr><tr><td>50</td><td>15000</td></tr><tr><td>33</td><td>3500</td></tr><tr><td>55</td><td>3500</td></tr><tr><td>42</td><td>5000</td></tr><tr><td>58</td><td>5000</td></tr><tr><td>47</td><td>1200</td></tr><tr><td>24</td><td>15000</td></tr><tr><td>46</td><td>5000</td></tr><tr><td>45</td><td>15000</td></tr><tr><td>35</td><td>2500</td></tr><tr><td>50</td><td>3500</td></tr><tr><td>63</td><td>7000</td></tr><tr><td>27</td><td>1200</td></tr><tr><td>56</td><td>2500</td></tr><tr><td>53</td><td>5000</td></tr><tr><td>43</td><td>15000</td></tr><tr><td>43</td><td>10000</td></tr><tr><td>38</td><td>10000</td></tr><tr><td>64</td><td>7000</td></tr><tr><td>61</td><td>15000</td></tr><tr><td>32</td><td>15000</td></tr><tr><td>51</td><td>1200</td></tr><tr><td>54</td><td>7000</td></tr><tr><td>51</td><td>1200</td></tr><tr><td>39</td><td>1200</td></tr><tr><td>60</td><td>3500</td></tr><tr><td>24</td><td>15000</td></tr><tr><td>31</td><td>15000</td></tr><tr><td>30</td><td>10000</td></tr><tr><td>52</td><td>1200</td></tr><tr><td>24</td><td>7000</td></tr><tr><td>37</td><td>3500</td></tr><tr><td>24</td><td>10000</td></tr><tr><td>53</td><td>5000</td></tr><tr><td>37</td><td>3500</td></tr><tr><td>54</td><td>5000</td></tr><tr><td>56</td><td>3500</td></tr><tr><td>48</td><td>7000</td></tr><tr><td>31</td><td>2500</td></tr><tr><td>55</td><td>10000</td></tr><tr><td>50</td><td>3500</td></tr><tr><td>44</td><td>15000</td></tr><tr><td>41</td><td>3500</td></tr><tr><td>50</td><td>15000</td></tr><tr><td>54</td><td>10000</td></tr><tr><td>45</td><td>5000</td></tr><tr><td>41</td><td>15000</td></tr><tr><td>42</td><td>3500</td></tr><tr><td>47</td><td>10000</td></tr><tr><td>35</td><td>7000</td></tr><tr><td>33</td><td>15000</td></tr><tr><td>44</td><td>3500</td></tr><tr><td>42</td><td>2500</td></tr><tr><td>34</td><td>7000</td></tr><tr><td>60</td><td>3500</td></tr><tr><td>46</td><td>1200</td></tr><tr><td>64</td><td>1200</td></tr><tr><td>26</td><td>15000</td></tr><tr><td>60</td><td>1200</td></tr><tr><td>54</td><td>10000</td></tr><tr><td>53</td><td>2500</td></tr><tr><td>54</td><td>10000</td></tr><tr><td>54</td><td>7000</td></tr><tr><td>59</td><td>5000</td></tr><tr><td>28</td><td>10000</td></tr><tr><td>44</td><td>7000</td></tr><tr><td>50</td><td>7000</td></tr><tr><td>42</td><td>7000</td></tr><tr><td>54</td><td>10000</td></tr><tr><td>61</td><td>10000</td></tr><tr><td>50</td><td>1200</td></tr><tr><td>59</td><td>1200</td></tr><tr><td>25</td><td>15000</td></tr><tr><td>46</td><td>2500</td></tr><tr><td>31</td><td>15000</td></tr><tr><td>47</td><td>10000</td></tr><tr><td>24</td><td>1200</td></tr><tr><td>36</td><td>1200</td></tr><tr><td>26</td><td>15000</td></tr><tr><td>37</td><td>15000</td></tr><tr><td>29</td><td>1200</td></tr><tr><td>51</td><td>15000</td></tr><tr><td>63</td><td>10000</td></tr><tr><td>45</td><td>1200</td></tr><tr><td>35</td><td>1200</td></tr><tr><td>53</td><td>15000</td></tr><tr><td>64</td><td>2500</td></tr><tr><td>64</td><td>10000</td></tr><tr><td>59</td><td>1200</td></tr><tr><td>35</td><td>15000</td></tr><tr><td>55</td><td>5000</td></tr><tr><td>45</td><td>5000</td></tr><tr><td>51</td><td>10000</td></tr><tr><td>56</td><td>2500</td></tr><tr><td>26</td><td>3500</td></tr><tr><td>43</td><td>15000</td></tr><tr><td>53</td><td>2500</td></tr><tr><td>57</td><td>10000</td></tr><tr><td>37</td><td>10000</td></tr><tr><td>63</td><td>7000</td></tr><tr><td>61</td><td>7000</td></tr><tr><td>41</td><td>2500</td></tr><tr><td>29</td><td>10000</td></tr><tr><td>36</td><td>5000</td></tr><tr><td>42</td><td>7000</td></tr><tr><td>28</td><td>15000</td></tr><tr><td>50</td><td>15000</td></tr><tr><td>25</td><td>1200</td></tr><tr><td>32</td><td>1200</td></tr><tr><td>59</td><td>3500</td></tr><tr><td>38</td><td>15000</td></tr><tr><td>47</td><td>3500</td></tr><tr><td>60</td><td>3500</td></tr><tr><td>50</td><td>10000</td></tr><tr><td>29</td><td>10000</td></tr><tr><td>48</td><td>1200</td></tr><tr><td>36</td><td>3500</td></tr><tr><td>24</td><td>2500</td></tr><tr><td>29</td><td>5000</td></tr><tr><td>32</td><td>5000</td></tr><tr><td>51</td><td>7000</td></tr><tr><td>40</td><td>7000</td></tr><tr><td>40</td><td>7000</td></tr><tr><td>50</td><td>15000</td></tr><tr><td>28</td><td>10000</td></tr><tr><td>60</td><td>10000</td></tr><tr><td>62</td><td>15000</td></tr><tr><td>54</td><td>5000</td></tr><tr><td>64</td><td>1200</td></tr><tr><td>35</td><td>2500</td></tr><tr><td>52</td><td>2500</td></tr><tr><td>58</td><td>3500</td></tr><tr><td>61</td><td>2500</td></tr><tr><td>58</td><td>5000</td></tr><tr><td>58</td><td>1200</td></tr><tr><td>59</td><td>10000</td></tr><tr><td>36</td><td>7000</td></tr><tr><td>64</td><td>7000</td></tr><tr><td>40</td><td>3500</td></tr><tr><td>52</td><td>7000</td></tr><tr><td>24</td><td>5000</td></tr><tr><td>42</td><td>2500</td></tr><tr><td>34</td><td>10000</td></tr><tr><td>43</td><td>5000</td></tr><tr><td>27</td><td>5000</td></tr><tr><td>58</td><td>15000</td></tr><tr><td>24</td><td>5000</td></tr><tr><td>45</td><td>3500</td></tr><tr><td>30</td><td>2500</td></tr><tr><td>63</td><td>15000</td></tr><tr><td>50</td><td>15000</td></tr><tr><td>43</td><td>7000</td></tr><tr><td>26</td><td>3500</td></tr><tr><td>30</td><td>7000</td></tr><tr><td>39</td><td>1200</td></tr><tr><td>26</td><td>3500</td></tr><tr><td>39</td><td>7000</td></tr><tr><td>35</td><td>2500</td></tr><tr><td>53</td><td>1200</td></tr><tr><td>32</td><td>10000</td></tr><tr><td>44</td><td>5000</td></tr><tr><td>61</td><td>10000</td></tr><tr><td>39</td><td>5000</td></tr><tr><td>57</td><td>10000</td></tr><tr><td>60</td><td>10000</td></tr><tr><td>41</td><td>2500</td></tr><tr><td>30</td><td>7000</td></tr><tr><td>61</td><td>1200</td></tr><tr><td>36</td><td>2500</td></tr><tr><td>39</td><td>3500</td></tr><tr><td>49</td><td>2500</td></tr><tr><td>64</td><td>5000</td></tr><tr><td>37</td><td>10000</td></tr><tr><td>31</td><td>10000</td></tr><tr><td>61</td><td>2500</td></tr><tr><td>24</td><td>15000</td></tr><tr><td>34</td><td>15000</td></tr><tr><td>28</td><td>1200</td></tr><tr><td>45</td><td>5000</td></tr><tr><td>45</td><td>2500</td></tr><tr><td>38</td><td>7000</td></tr><tr><td>43</td><td>3500</td></tr><tr><td>38</td><td>1200</td></tr><tr><td>43</td><td>5000</td></tr><tr><td>49</td><td>15000</td></tr><tr><td>45</td><td>1200</td></tr><tr><td>54</td><td>1200</td></tr><tr><td>32</td><td>15000</td></tr><tr><td>57</td><td>10000</td></tr><tr><td>35</td><td>1200</td></tr><tr><td>46</td><td>10000</td></tr><tr><td>56</td><td>5000</td></tr><tr><td>61</td><td>2500</td></tr><tr><td>37</td><td>15000</td></tr><tr><td>30</td><td>2500</td></tr><tr><td>56</td><td>7000</td></tr><tr><td>33</td><td>3500</td></tr><tr><td>55</td><td>10000</td></tr><tr><td>45</td><td>10000</td></tr><tr><td>58</td><td>10000</td></tr><tr><td>40</td><td>5000</td></tr><tr><td>53</td><td>2500</td></tr><tr><td>31</td><td>7000</td></tr><tr><td>47</td><td>1200</td></tr><tr><td>56</td><td>7000</td></tr><tr><td>53</td><td>1200</td></tr><tr><td>29</td><td>7000</td></tr><tr><td>54</td><td>7000</td></tr><tr><td>50</td><td>7000</td></tr><tr><td>50</td><td>5000</td></tr><tr><td>61</td><td>2500</td></tr><tr><td>58</td><td>2500</td></tr><tr><td>49</td><td>5000</td></tr><tr><td>62</td><td>2500</td></tr><tr><td>45</td><td>10000</td></tr><tr><td>29</td><td>7000</td></tr><tr><td>32</td><td>3500</td></tr><tr><td>45</td><td>5000</td></tr><tr><td>42</td><td>10000</td></tr><tr><td>50</td><td>3500</td></tr><tr><td>62</td><td>3500</td></tr><tr><td>57</td><td>10000</td></tr><tr><td>57</td><td>5000</td></tr><tr><td>32</td><td>10000</td></tr><tr><td>42</td><td>15000</td></tr><tr><td>51</td><td>3500</td></tr><tr><td>59</td><td>1200</td></tr><tr><td>29</td><td>2500</td></tr><tr><td>37</td><td>5000</td></tr><tr><td>41</td><td>10000</td></tr><tr><td>54</td><td>2500</td></tr><tr><td>59</td><td>2500</td></tr><tr><td>35</td><td>7000</td></tr><tr><td>39</td><td>5000</td></tr><tr><td>25</td><td>5000</td></tr><tr><td>58</td><td>15000</td></tr><tr><td>38</td><td>3500</td></tr><tr><td>39</td><td>7000</td></tr><tr><td>36</td><td>2500</td></tr><tr><td>50</td><td>5000</td></tr><tr><td>44</td><td>10000</td></tr><tr><td>38</td><td>7000</td></tr><tr><td>37</td><td>1200</td></tr><tr><td>25</td><td>1200</td></tr><tr><td>37</td><td>3500</td></tr><tr><td>33</td><td>10000</td></tr><tr><td>57</td><td>1200</td></tr><tr><td>30</td><td>2500</td></tr><tr><td>41</td><td>2500</td></tr><tr><td>24</td><td>1200</td></tr><tr><td>46</td><td>3500</td></tr><tr><td>25</td><td>3500</td></tr><tr><td>37</td><td>3500</td></tr><tr><td>29</td><td>2500</td></tr><tr><td>41</td><td>15000</td></tr><tr><td>55</td><td>3500</td></tr><tr><td>35</td><td>5000</td></tr><tr><td>32</td><td>15000</td></tr><tr><td>46</td><td>15000</td></tr><tr><td>54</td><td>7000</td></tr><tr><td>37</td><td>1200</td></tr><tr><td>39</td><td>5000</td></tr><tr><td>41</td><td>7000</td></tr><tr><td>34</td><td>7000</td></tr><tr><td>43</td><td>15000</td></tr><tr><td>52</td><td>2500</td></tr><tr><td>45</td><td>2500</td></tr><tr><td>44</td><td>5000</td></tr><tr><td>59</td><td>7000</td></tr><tr><td>32</td><td>2500</td></tr><tr><td>33</td><td>7000</td></tr><tr><td>45</td><td>15000</td></tr><tr><td>46</td><td>1200</td></tr><tr><td>29</td><td>15000</td></tr><tr><td>48</td><td>7000</td></tr><tr><td>55</td><td>3500</td></tr><tr><td>36</td><td>15000</td></tr><tr><td>30</td><td>7000</td></tr><tr><td>45</td><td>5000</td></tr><tr><td>32</td><td>15000</td></tr><tr><td>55</td><td>10000</td></tr><tr><td>30</td><td>15000</td></tr><tr><td>48</td><td>7000</td></tr><tr><td>60</td><td>15000</td></tr><tr><td>27</td><td>3500</td></tr><tr><td>55</td><td>15000</td></tr><tr><td>57</td><td>10000</td></tr><tr><td>36</td><td>3500</td></tr><tr><td>57</td><td>5000</td></tr><tr><td>29</td><td>7000</td></tr><tr><td>59</td><td>15000</td></tr><tr><td>51</td><td>15000</td></tr><tr><td>49</td><td>7000</td></tr><tr><td>32</td><td>2500</td></tr><tr><td>51</td><td>10000</td></tr><tr><td>43</td><td>5000</td></tr><tr><td>51</td><td>2500</td></tr><tr><td>63</td><td>15000</td></tr><tr><td>59</td><td>15000</td></tr><tr><td>58</td><td>1200</td></tr><tr><td>52</td><td>15000</td></tr><tr><td>64</td><td>7000</td></tr><tr><td>49</td><td>5000</td></tr><tr><td>50</td><td>3500</td></tr><tr><td>58</td><td>5000</td></tr><tr><td>33</td><td>1200</td></tr><tr><td>45</td><td>10000</td></tr><tr><td>27</td><td>15000</td></tr><tr><td>40</td><td>1200</td></tr><tr><td>31</td><td>15000</td></tr><tr><td>31</td><td>1200</td></tr><tr><td>40</td><td>5000</td></tr><tr><td>64</td><td>1200</td></tr><tr><td>26</td><td>3500</td></tr><tr><td>43</td><td>3500</td></tr><tr><td>34</td><td>7000</td></tr><tr><td>34</td><td>2500</td></tr><tr><td>39</td><td>5000</td></tr><tr><td>49</td><td>2500</td></tr><tr><td>49</td><td>10000</td></tr><tr><td>64</td><td>10000</td></tr><tr><td>54</td><td>10000</td></tr><tr><td>49</td><td>1200</td></tr><tr><td>38</td><td>15000</td></tr><tr><td>62</td><td>15000</td></tr><tr><td>27</td><td>2500</td></tr><tr><td>28</td><td>7000</td></tr><tr><td>33</td><td>10000</td></tr><tr><td>38</td><td>7000</td></tr><tr><td>60</td><td>1200</td></tr><tr><td>24</td><td>2500</td></tr><tr><td>55</td><td>5000</td></tr><tr><td>61</td><td>5000</td></tr><tr><td>25</td><td>1200</td></tr><tr><td>54</td><td>10000</td></tr><tr><td>34</td><td>3500</td></tr><tr><td>25</td><td>7000</td></tr><tr><td>47</td><td>7000</td></tr><tr><td>55</td><td>3500</td></tr><tr><td>52</td><td>7000</td></tr><tr><td>60</td><td>1200</td></tr><tr><td>53</td><td>10000</td></tr><tr><td>31</td><td>5000</td></tr><tr><td>34</td><td>1200</td></tr><tr><td>42</td><td>10000</td></tr><tr><td>49</td><td>5000</td></tr><tr><td>39</td><td>2500</td></tr><tr><td>63</td><td>1200</td></tr><tr><td>31</td><td>5000</td></tr><tr><td>24</td><td>5000</td></tr><tr><td>62</td><td>2500</td></tr><tr><td>54</td><td>10000</td></tr><tr><td>36</td><td>10000</td></tr><tr><td>61</td><td>7000</td></tr><tr><td>47</td><td>15000</td></tr><tr><td>38</td><td>1200</td></tr><tr><td>28</td><td>3500</td></tr><tr><td>45</td><td>1200</td></tr><tr><td>55</td><td>5000</td></tr><tr><td>39</td><td>1200</td></tr><tr><td>36</td><td>7000</td></tr><tr><td>46</td><td>2500</td></tr><tr><td>25</td><td>3500</td></tr><tr><td>34</td><td>7000</td></tr><tr><td>28</td><td>2500</td></tr><tr><td>45</td><td>1200</td></tr><tr><td>52</td><td>1200</td></tr><tr><td>41</td><td>3500</td></tr><tr><td>43</td><td>10000</td></tr><tr><td>32</td><td>1200</td></tr><tr><td>27</td><td>10000</td></tr><tr><td>59</td><td>1200</td></tr><tr><td>61</td><td>3500</td></tr><tr><td>49</td><td>3500</td></tr><tr><td>43</td><td>2500</td></tr><tr><td>58</td><td>5000</td></tr><tr><td>61</td><td>3500</td></tr><tr><td>30</td><td>10000</td></tr><tr><td>35</td><td>3500</td></tr><tr><td>62</td><td>7000</td></tr><tr><td>36</td><td>1200</td></tr><tr><td>58</td><td>10000</td></tr><tr><td>48</td><td>1200</td></tr><tr><td>29</td><td>1200</td></tr><tr><td>36</td><td>3500</td></tr><tr><td>54</td><td>7000</td></tr><tr><td>42</td><td>15000</td></tr><tr><td>55</td><td>1200</td></tr><tr><td>34</td><td>15000</td></tr><tr><td>34</td><td>5000</td></tr><tr><td>38</td><td>3500</td></tr><tr><td>64</td><td>2500</td></tr><tr><td>38</td><td>2500</td></tr><tr><td>39</td><td>7000</td></tr><tr><td>46</td><td>7000</td></tr><tr><td>61</td><td>7000</td></tr><tr><td>60</td><td>1200</td></tr><tr><td>25</td><td>3500</td></tr><tr><td>42</td><td>10000</td></tr><tr><td>59</td><td>3500</td></tr><tr><td>25</td><td>5000</td></tr><tr><td>31</td><td>2500</td></tr><tr><td>31</td><td>1200</td></tr><tr><td>56</td><td>7000</td></tr><tr><td>25</td><td>10000</td></tr><tr><td>57</td><td>3500</td></tr><tr><td>55</td><td>7000</td></tr><tr><td>47</td><td>3500</td></tr><tr><td>26</td><td>10000</td></tr><tr><td>44</td><td>7000</td></tr><tr><td>55</td><td>3500</td></tr><tr><td>44</td><td>3500</td></tr><tr><td>48</td><td>3500</td></tr><tr><td>37</td><td>3500</td></tr><tr><td>31</td><td>1200</td></tr><tr><td>33</td><td>3500</td></tr><tr><td>60</td><td>3500</td></tr><tr><td>46</td><td>5000</td></tr><tr><td>43</td><td>15000</td></tr><tr><td>49</td><td>15000</td></tr><tr><td>61</td><td>15000</td></tr><tr><td>44</td><td>1200</td></tr><tr><td>59</td><td>10000</td></tr><tr><td>33</td><td>10000</td></tr><tr><td>40</td><td>15000</td></tr><tr><td>29</td><td>1200</td></tr><tr><td>41</td><td>15000</td></tr><tr><td>41</td><td>1200</td></tr><tr><td>55</td><td>7000</td></tr><tr><td>63</td><td>5000</td></tr><tr><td>43</td><td>2500</td></tr><tr><td>39</td><td>3500</td></tr><tr><td>55</td><td>2500</td></tr><tr><td>55</td><td>10000</td></tr><tr><td>62</td><td>2500</td></tr><tr><td>46</td><td>1200</td></tr><tr><td>34</td><td>3500</td></tr><tr><td>50</td><td>5000</td></tr><tr><td>24</td><td>1200</td></tr><tr><td>54</td><td>5000</td></tr><tr><td>59</td><td>10000</td></tr><tr><td>63</td><td>7000</td></tr><tr><td>35</td><td>3500</td></tr><tr><td>51</td><td>7000</td></tr><tr><td>49</td><td>7000</td></tr><tr><td>30</td><td>1200</td></tr><tr><td>26</td><td>2500</td></tr><tr><td>30</td><td>3500</td></tr><tr><td>30</td><td>7000</td></tr><tr><td>55</td><td>5000</td></tr><tr><td>26</td><td>3500</td></tr><tr><td>50</td><td>15000</td></tr><tr><td>62</td><td>2500</td></tr><tr><td>37</td><td>1200</td></tr><tr><td>40</td><td>10000</td></tr><tr><td>27</td><td>15000</td></tr><tr><td>35</td><td>2500</td></tr><tr><td>25</td><td>5000</td></tr><tr><td>64</td><td>3500</td></tr><tr><td>24</td><td>10000</td></tr><tr><td>43</td><td>2500</td></tr><tr><td>37</td><td>1200</td></tr><tr><td>37</td><td>2500</td></tr><tr><td>60</td><td>1200</td></tr><tr><td>24</td><td>7000</td></tr><tr><td>55</td><td>1200</td></tr><tr><td>24</td><td>1200</td></tr><tr><td>25</td><td>7000</td></tr><tr><td>25</td><td>2500</td></tr><tr><td>60</td><td>2500</td></tr><tr><td>52</td><td>15000</td></tr><tr><td>58</td><td>7000</td></tr><tr><td>33</td><td>2500</td></tr><tr><td>24</td><td>5000</td></tr><tr><td>64</td><td>15000</td></tr><tr><td>62</td><td>2500</td></tr><tr><td>36</td><td>2500</td></tr><tr><td>38</td><td>2500</td></tr><tr><td>55</td><td>7000</td></tr><tr><td>51</td><td>1200</td></tr><tr><td>35</td><td>15000</td></tr><tr><td>38</td><td>2500</td></tr><tr><td>29</td><td>5000</td></tr><tr><td>59</td><td>7000</td></tr><tr><td>60</td><td>5000</td></tr><tr><td>57</td><td>5000</td></tr><tr><td>63</td><td>5000</td></tr><tr><td>50</td><td>7000</td></tr><tr><td>41</td><td>3500</td></tr><tr><td>26</td><td>10000</td></tr><tr><td>42</td><td>5000</td></tr><tr><td>36</td><td>1200</td></tr><tr><td>48</td><td>1200</td></tr><tr><td>62</td><td>2500</td></tr><tr><td>48</td><td>7000</td></tr><tr><td>41</td><td>7000</td></tr><tr><td>27</td><td>3500</td></tr><tr><td>47</td><td>10000</td></tr><tr><td>38</td><td>2500</td></tr></table>"
                    },
                    "metadata": {
                        "azdata_chartOptions": {
                            "type": "scatter",
                            "dataDirection": "vertical",
                            "columnsAsLabels": true,
                            "labelFirstColumn": false,
                            "legendPosition": "top"
                        }
                    }
                }
            ],
            "execution_count": 36
        },
        {
            "cell_type": "code",
            "source": [
                ""
            ],
            "metadata": {
                "language": "sql",
                "azdata_cell_guid": "b88c58b2-67e7-46db-a267-72c64fc242a2"
            },
            "outputs": [],
            "execution_count": null
        },
        {
            "cell_type": "code",
            "source": [
                ""
            ],
            "metadata": {
                "language": "sql",
                "azdata_cell_guid": "ddda01b3-69dd-471f-8b10-31a2021451e1"
            },
            "outputs": [],
            "execution_count": null
        }
    ]
}